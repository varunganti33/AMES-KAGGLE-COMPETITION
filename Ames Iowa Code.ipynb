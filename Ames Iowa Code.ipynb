{
 "cells": [
  {
   "cell_type": "markdown",
   "metadata": {},
   "source": [
    "# TAX BENEFITS OF OPPORTUNITY ZONES- PREDICTING SALE PRICE IN AMES IOWA\n",
    "\n",
    "#### By: [Varun Ganti]()"
   ]
  },
  {
   "cell_type": "markdown",
   "metadata": {},
   "source": [
    "## Table of Contents\n",
    "\n",
    "- [Problem Statement](#Problem-Statemet)\n",
    "- [Executive Summary](#Executive-Summary)\n",
    "- [Data Dictionary](#Data-Dictionary)\n",
    "- [Loading Data](#Loading-Data)\n",
    "- [Data Cleaning](#Data-Cleaning)\n",
    "- [EDA](#EDA)\n",
    "- [Feature Engineering](#Feature-Engineering)\n",
    "- [Model Preparation](#Model-Preparation)\n",
    "- [Model Selection](#Model-Selection)\n",
    "- [Conclusion](#Model-Selection)\n",
    "- [Recommendations](#Reccomendations)\n",
    "- [Resources](#Resources)\n",
    "\n",
    "\n"
   ]
  },
  {
   "cell_type": "markdown",
   "metadata": {},
   "source": [
    "# Problem Statement\n",
    "\n",
    "\n",
    "The Tax Cuts and Jobs Act created the Opportunity zones program to increase investment in certain specified areas of the country. The city of Ames is an opportunity zone, where real estate developers have been purchasing homes drastically and investing capital gains into houses in this area for specified tax benefits. The AMES economic development commission has provided tax incentives to real estate buyers, in order to increase housing purchases in Ames. My company is an outside consultant that helps predict housing prices for real estate buyers, so they can continue to invest capital gains into other projects in the city of AMES,in order to meet the interests of the commission. This will give buyers a good strategy in investing into houses and will help them forecast capital gains. Our tool will use AMES housing data to identify the best features in order to predict sales price. Our metric to evaluate the model will be R^2. "
   ]
  },
  {
   "cell_type": "markdown",
   "metadata": {},
   "source": [
    "# Executive Summary\n",
    "\n",
    "My approach was to first decide what platforms have this data available. I found that the data is readily avaliable on Kaggle.From initial data review, I hypothesized that the 'Overall Qual', 'TotalSqFt', 'Gr Liv Area', 'Exter Qual', 'Kitchen Qual' variables would have the most influence over sales price. The abundance of variables, forced me to dive deeper into the data in order to find the most optimal combinations in order to find the highest scoring model. We want a high majority of the data to be explained by our model. \n",
    "\n",
    "\n",
    "EDA helped me not only set up a preprocessing plan for our model, but helped me understand the health of the data One example was that “Total Square feet” showed up high on the correlation heat map, meaning that this variable will be useful in predicting sale price. For preprocessing, I chose to fill all null values wiht na, assuming that those values actually reperesented none of that type. I also created feature engineering for square feet, bathrooms, and porch square feet in order to simplify the model, so I could use those variables in the model.  For modeling, I chose to use linear regression and lasso regression because of the way it focuses on the relationship of features and our predicted variable(sale price). \n",
    "\n",
    "|Model|Type|Train R2|Testing R2|\n",
    "|---|---|---|---|\n",
    "|**Model 1**|*Linear*|.84|.84| \n",
    "|**Model 2**|*Linear*|.93|.94|\n",
    "|**Model 3**|*Ridge*|.91|.88|\n",
    "|**Model 4**|*Lasso*|.91|.88|\n",
    "\n",
    "My approach to picking the best model, is by assessing the R2 Score. At first, I tried fitting a model with all variables, but decided that is overkill for our clients. I simplified the model by choosing the features with the highest correlations in predicting sale price. I will use Lasso regression to identify correlations close to 0, and remove those from the model. I will asses performance based on R^2 "
   ]
  },
  {
   "cell_type": "markdown",
   "metadata": {},
   "source": [
    "## Data Dictionary\n",
    "\n",
    "Refer to Kaggle for Data Description\n",
    "\n",
    "- [Kaggle Data](http://jse.amstat.org/v19n3/decock/DataDocumentation.txt)"
   ]
  },
  {
   "cell_type": "markdown",
   "metadata": {},
   "source": [
    "## Loading Data"
   ]
  },
  {
   "cell_type": "code",
   "execution_count": 397,
   "metadata": {},
   "outputs": [],
   "source": [
    "import warnings\n",
    "warnings.filterwarnings(\"ignore\") # Shhhh\n",
    "\n",
    "\n",
    "import numpy as np\n",
    "import pandas as pd\n",
    "from sklearn.linear_model import LinearRegression, Ridge, Lasso\n",
    "from sklearn.model_selection import train_test_split, cross_val_score\n",
    "from sklearn.metrics import mean_squared_error\n",
    "RANDOM_STATE = 90210\n",
    "import seaborn as sns\n",
    "from sklearn.metrics import r2_score, mean_squared_error\n",
    "from sklearn.preprocessing import StandardScaler\n",
    "import statsmodels.api as sm\n",
    "import matplotlib.pyplot as plt\n",
    "\n",
    "%matplotlib inline"
   ]
  },
  {
   "cell_type": "code",
   "execution_count": 398,
   "metadata": {},
   "outputs": [],
   "source": [
    "##Read data. I like to read test and train together because I want to work on both the same\n",
    "df_train = pd.read_csv('datasets/train.csv')\n",
    "\n",
    "df_validation = pd.read_csv('datasets/test.csv')"
   ]
  },
  {
   "cell_type": "markdown",
   "metadata": {},
   "source": [
    "## Data Cleaning"
   ]
  },
  {
   "cell_type": "code",
   "execution_count": 399,
   "metadata": {},
   "outputs": [
    {
     "data": {
      "text/html": [
       "<div>\n",
       "<style scoped>\n",
       "    .dataframe tbody tr th:only-of-type {\n",
       "        vertical-align: middle;\n",
       "    }\n",
       "\n",
       "    .dataframe tbody tr th {\n",
       "        vertical-align: top;\n",
       "    }\n",
       "\n",
       "    .dataframe thead th {\n",
       "        text-align: right;\n",
       "    }\n",
       "</style>\n",
       "<table border=\"1\" class=\"dataframe\">\n",
       "  <thead>\n",
       "    <tr style=\"text-align: right;\">\n",
       "      <th></th>\n",
       "      <th>Id</th>\n",
       "      <th>PID</th>\n",
       "      <th>MS SubClass</th>\n",
       "      <th>MS Zoning</th>\n",
       "      <th>Lot Frontage</th>\n",
       "      <th>Lot Area</th>\n",
       "      <th>Street</th>\n",
       "      <th>Alley</th>\n",
       "      <th>Lot Shape</th>\n",
       "      <th>Land Contour</th>\n",
       "      <th>...</th>\n",
       "      <th>Screen Porch</th>\n",
       "      <th>Pool Area</th>\n",
       "      <th>Pool QC</th>\n",
       "      <th>Fence</th>\n",
       "      <th>Misc Feature</th>\n",
       "      <th>Misc Val</th>\n",
       "      <th>Mo Sold</th>\n",
       "      <th>Yr Sold</th>\n",
       "      <th>Sale Type</th>\n",
       "      <th>SalePrice</th>\n",
       "    </tr>\n",
       "  </thead>\n",
       "  <tbody>\n",
       "    <tr>\n",
       "      <th>0</th>\n",
       "      <td>109</td>\n",
       "      <td>533352170</td>\n",
       "      <td>60</td>\n",
       "      <td>RL</td>\n",
       "      <td>NaN</td>\n",
       "      <td>13517</td>\n",
       "      <td>Pave</td>\n",
       "      <td>NaN</td>\n",
       "      <td>IR1</td>\n",
       "      <td>Lvl</td>\n",
       "      <td>...</td>\n",
       "      <td>0</td>\n",
       "      <td>0</td>\n",
       "      <td>NaN</td>\n",
       "      <td>NaN</td>\n",
       "      <td>NaN</td>\n",
       "      <td>0</td>\n",
       "      <td>3</td>\n",
       "      <td>2010</td>\n",
       "      <td>WD</td>\n",
       "      <td>130500</td>\n",
       "    </tr>\n",
       "    <tr>\n",
       "      <th>1</th>\n",
       "      <td>544</td>\n",
       "      <td>531379050</td>\n",
       "      <td>60</td>\n",
       "      <td>RL</td>\n",
       "      <td>43.0</td>\n",
       "      <td>11492</td>\n",
       "      <td>Pave</td>\n",
       "      <td>NaN</td>\n",
       "      <td>IR1</td>\n",
       "      <td>Lvl</td>\n",
       "      <td>...</td>\n",
       "      <td>0</td>\n",
       "      <td>0</td>\n",
       "      <td>NaN</td>\n",
       "      <td>NaN</td>\n",
       "      <td>NaN</td>\n",
       "      <td>0</td>\n",
       "      <td>4</td>\n",
       "      <td>2009</td>\n",
       "      <td>WD</td>\n",
       "      <td>220000</td>\n",
       "    </tr>\n",
       "    <tr>\n",
       "      <th>2</th>\n",
       "      <td>153</td>\n",
       "      <td>535304180</td>\n",
       "      <td>20</td>\n",
       "      <td>RL</td>\n",
       "      <td>68.0</td>\n",
       "      <td>7922</td>\n",
       "      <td>Pave</td>\n",
       "      <td>NaN</td>\n",
       "      <td>Reg</td>\n",
       "      <td>Lvl</td>\n",
       "      <td>...</td>\n",
       "      <td>0</td>\n",
       "      <td>0</td>\n",
       "      <td>NaN</td>\n",
       "      <td>NaN</td>\n",
       "      <td>NaN</td>\n",
       "      <td>0</td>\n",
       "      <td>1</td>\n",
       "      <td>2010</td>\n",
       "      <td>WD</td>\n",
       "      <td>109000</td>\n",
       "    </tr>\n",
       "    <tr>\n",
       "      <th>3</th>\n",
       "      <td>318</td>\n",
       "      <td>916386060</td>\n",
       "      <td>60</td>\n",
       "      <td>RL</td>\n",
       "      <td>73.0</td>\n",
       "      <td>9802</td>\n",
       "      <td>Pave</td>\n",
       "      <td>NaN</td>\n",
       "      <td>Reg</td>\n",
       "      <td>Lvl</td>\n",
       "      <td>...</td>\n",
       "      <td>0</td>\n",
       "      <td>0</td>\n",
       "      <td>NaN</td>\n",
       "      <td>NaN</td>\n",
       "      <td>NaN</td>\n",
       "      <td>0</td>\n",
       "      <td>4</td>\n",
       "      <td>2010</td>\n",
       "      <td>WD</td>\n",
       "      <td>174000</td>\n",
       "    </tr>\n",
       "    <tr>\n",
       "      <th>4</th>\n",
       "      <td>255</td>\n",
       "      <td>906425045</td>\n",
       "      <td>50</td>\n",
       "      <td>RL</td>\n",
       "      <td>82.0</td>\n",
       "      <td>14235</td>\n",
       "      <td>Pave</td>\n",
       "      <td>NaN</td>\n",
       "      <td>IR1</td>\n",
       "      <td>Lvl</td>\n",
       "      <td>...</td>\n",
       "      <td>0</td>\n",
       "      <td>0</td>\n",
       "      <td>NaN</td>\n",
       "      <td>NaN</td>\n",
       "      <td>NaN</td>\n",
       "      <td>0</td>\n",
       "      <td>3</td>\n",
       "      <td>2010</td>\n",
       "      <td>WD</td>\n",
       "      <td>138500</td>\n",
       "    </tr>\n",
       "  </tbody>\n",
       "</table>\n",
       "<p>5 rows × 81 columns</p>\n",
       "</div>"
      ],
      "text/plain": [
       "    Id        PID  MS SubClass MS Zoning  Lot Frontage  Lot Area Street Alley  \\\n",
       "0  109  533352170           60        RL           NaN     13517   Pave   NaN   \n",
       "1  544  531379050           60        RL          43.0     11492   Pave   NaN   \n",
       "2  153  535304180           20        RL          68.0      7922   Pave   NaN   \n",
       "3  318  916386060           60        RL          73.0      9802   Pave   NaN   \n",
       "4  255  906425045           50        RL          82.0     14235   Pave   NaN   \n",
       "\n",
       "  Lot Shape Land Contour  ... Screen Porch Pool Area Pool QC Fence  \\\n",
       "0       IR1          Lvl  ...            0         0     NaN   NaN   \n",
       "1       IR1          Lvl  ...            0         0     NaN   NaN   \n",
       "2       Reg          Lvl  ...            0         0     NaN   NaN   \n",
       "3       Reg          Lvl  ...            0         0     NaN   NaN   \n",
       "4       IR1          Lvl  ...            0         0     NaN   NaN   \n",
       "\n",
       "  Misc Feature Misc Val Mo Sold Yr Sold  Sale Type  SalePrice  \n",
       "0          NaN        0       3    2010        WD      130500  \n",
       "1          NaN        0       4    2009        WD      220000  \n",
       "2          NaN        0       1    2010        WD      109000  \n",
       "3          NaN        0       4    2010        WD      174000  \n",
       "4          NaN        0       3    2010        WD      138500  \n",
       "\n",
       "[5 rows x 81 columns]"
      ]
     },
     "execution_count": 399,
     "metadata": {},
     "output_type": "execute_result"
    }
   ],
   "source": [
    "##check first 5 rows. soo many nans!!!!!\n",
    "df_train.head()\n"
   ]
  },
  {
   "cell_type": "code",
   "execution_count": 400,
   "metadata": {},
   "outputs": [
    {
     "data": {
      "text/plain": [
       "(2051, 81)"
      ]
     },
     "execution_count": 400,
     "metadata": {},
     "output_type": "execute_result"
    }
   ],
   "source": [
    "##Check the shape\n",
    "\n",
    "df_train.shape"
   ]
  },
  {
   "cell_type": "code",
   "execution_count": 401,
   "metadata": {},
   "outputs": [
    {
     "data": {
      "text/plain": [
       "(878, 80)"
      ]
     },
     "execution_count": 401,
     "metadata": {},
     "output_type": "execute_result"
    }
   ],
   "source": [
    "##Check the shape\n",
    "df_validation.shape"
   ]
  },
  {
   "cell_type": "markdown",
   "metadata": {},
   "source": [
    "One less column, no sales price. Thats What we are Predicting"
   ]
  },
  {
   "cell_type": "code",
   "execution_count": 402,
   "metadata": {},
   "outputs": [],
   "source": [
    "##Check for Missing Values\n",
    "all_nan_values = df_train.isnull().sum()[df_train.isnull().sum()  > 0].sort_values(ascending = False)"
   ]
  },
  {
   "cell_type": "markdown",
   "metadata": {},
   "source": [
    "### Bar Plot for Missing Values"
   ]
  },
  {
   "cell_type": "code",
   "execution_count": 403,
   "metadata": {
    "scrolled": true
   },
   "outputs": [
    {
     "data": {
      "text/plain": [
       "<matplotlib.axes._subplots.AxesSubplot at 0x1c2e9f8f90>"
      ]
     },
     "execution_count": 403,
     "metadata": {},
     "output_type": "execute_result"
    },
    {
     "data": {
      "image/png": "[encoded data removed]",
      "text/plain": [
       "<Figure size 1008x576 with 1 Axes>"
      ]
     },
     "metadata": {
      "needs_background": "light"
     },
     "output_type": "display_data"
    }
   ],
   "source": [
    "##bar plot of all nan values. easy to see\n",
    "all_nan_values.plot(kind = 'barh', figsize = (14,8), color = 'red')"
   ]
  },
  {
   "cell_type": "markdown",
   "metadata": {},
   "source": [
    "Missing Values. Look at data dictionary to see what the Nans should be. Are they just missing values or do they have a value? In fact they do have a value. For example the, Nan's in Pool QC means that the house does not have a pool. This is not misssing data. This will be useful when we fill in those values"
   ]
  },
  {
   "cell_type": "code",
   "execution_count": 404,
   "metadata": {},
   "outputs": [
    {
     "data": {
      "text/html": [
       "<div>\n",
       "<style scoped>\n",
       "    .dataframe tbody tr th:only-of-type {\n",
       "        vertical-align: middle;\n",
       "    }\n",
       "\n",
       "    .dataframe tbody tr th {\n",
       "        vertical-align: top;\n",
       "    }\n",
       "\n",
       "    .dataframe thead th {\n",
       "        text-align: right;\n",
       "    }\n",
       "</style>\n",
       "<table border=\"1\" class=\"dataframe\">\n",
       "  <thead>\n",
       "    <tr style=\"text-align: right;\">\n",
       "      <th></th>\n",
       "      <th>count</th>\n",
       "      <th>mean</th>\n",
       "      <th>std</th>\n",
       "      <th>min</th>\n",
       "      <th>25%</th>\n",
       "      <th>50%</th>\n",
       "      <th>75%</th>\n",
       "      <th>max</th>\n",
       "    </tr>\n",
       "  </thead>\n",
       "  <tbody>\n",
       "    <tr>\n",
       "      <th>Id</th>\n",
       "      <td>2051.0</td>\n",
       "      <td>1.474034e+03</td>\n",
       "      <td>8.439808e+02</td>\n",
       "      <td>1.0</td>\n",
       "      <td>753.5</td>\n",
       "      <td>1486.0</td>\n",
       "      <td>2.198000e+03</td>\n",
       "      <td>2930.0</td>\n",
       "    </tr>\n",
       "    <tr>\n",
       "      <th>PID</th>\n",
       "      <td>2051.0</td>\n",
       "      <td>7.135900e+08</td>\n",
       "      <td>1.886918e+08</td>\n",
       "      <td>526301100.0</td>\n",
       "      <td>528458140.0</td>\n",
       "      <td>535453200.0</td>\n",
       "      <td>9.071801e+08</td>\n",
       "      <td>924152030.0</td>\n",
       "    </tr>\n",
       "    <tr>\n",
       "      <th>MS SubClass</th>\n",
       "      <td>2051.0</td>\n",
       "      <td>5.700878e+01</td>\n",
       "      <td>4.282422e+01</td>\n",
       "      <td>20.0</td>\n",
       "      <td>20.0</td>\n",
       "      <td>50.0</td>\n",
       "      <td>7.000000e+01</td>\n",
       "      <td>190.0</td>\n",
       "    </tr>\n",
       "    <tr>\n",
       "      <th>Lot Frontage</th>\n",
       "      <td>1721.0</td>\n",
       "      <td>6.905520e+01</td>\n",
       "      <td>2.326065e+01</td>\n",
       "      <td>21.0</td>\n",
       "      <td>58.0</td>\n",
       "      <td>68.0</td>\n",
       "      <td>8.000000e+01</td>\n",
       "      <td>313.0</td>\n",
       "    </tr>\n",
       "    <tr>\n",
       "      <th>Lot Area</th>\n",
       "      <td>2051.0</td>\n",
       "      <td>1.006521e+04</td>\n",
       "      <td>6.742489e+03</td>\n",
       "      <td>1300.0</td>\n",
       "      <td>7500.0</td>\n",
       "      <td>9430.0</td>\n",
       "      <td>1.151350e+04</td>\n",
       "      <td>159000.0</td>\n",
       "    </tr>\n",
       "    <tr>\n",
       "      <th>Overall Qual</th>\n",
       "      <td>2051.0</td>\n",
       "      <td>6.112140e+00</td>\n",
       "      <td>1.426271e+00</td>\n",
       "      <td>1.0</td>\n",
       "      <td>5.0</td>\n",
       "      <td>6.0</td>\n",
       "      <td>7.000000e+00</td>\n",
       "      <td>10.0</td>\n",
       "    </tr>\n",
       "    <tr>\n",
       "      <th>Overall Cond</th>\n",
       "      <td>2051.0</td>\n",
       "      <td>5.562165e+00</td>\n",
       "      <td>1.104497e+00</td>\n",
       "      <td>1.0</td>\n",
       "      <td>5.0</td>\n",
       "      <td>5.0</td>\n",
       "      <td>6.000000e+00</td>\n",
       "      <td>9.0</td>\n",
       "    </tr>\n",
       "    <tr>\n",
       "      <th>Year Built</th>\n",
       "      <td>2051.0</td>\n",
       "      <td>1.971709e+03</td>\n",
       "      <td>3.017789e+01</td>\n",
       "      <td>1872.0</td>\n",
       "      <td>1953.5</td>\n",
       "      <td>1974.0</td>\n",
       "      <td>2.001000e+03</td>\n",
       "      <td>2010.0</td>\n",
       "    </tr>\n",
       "    <tr>\n",
       "      <th>Year Remod/Add</th>\n",
       "      <td>2051.0</td>\n",
       "      <td>1.984190e+03</td>\n",
       "      <td>2.103625e+01</td>\n",
       "      <td>1950.0</td>\n",
       "      <td>1964.5</td>\n",
       "      <td>1993.0</td>\n",
       "      <td>2.004000e+03</td>\n",
       "      <td>2010.0</td>\n",
       "    </tr>\n",
       "    <tr>\n",
       "      <th>Mas Vnr Area</th>\n",
       "      <td>2029.0</td>\n",
       "      <td>9.969591e+01</td>\n",
       "      <td>1.749631e+02</td>\n",
       "      <td>0.0</td>\n",
       "      <td>0.0</td>\n",
       "      <td>0.0</td>\n",
       "      <td>1.610000e+02</td>\n",
       "      <td>1600.0</td>\n",
       "    </tr>\n",
       "    <tr>\n",
       "      <th>BsmtFin SF 1</th>\n",
       "      <td>2050.0</td>\n",
       "      <td>4.423005e+02</td>\n",
       "      <td>4.612041e+02</td>\n",
       "      <td>0.0</td>\n",
       "      <td>0.0</td>\n",
       "      <td>368.0</td>\n",
       "      <td>7.337500e+02</td>\n",
       "      <td>5644.0</td>\n",
       "    </tr>\n",
       "    <tr>\n",
       "      <th>BsmtFin SF 2</th>\n",
       "      <td>2050.0</td>\n",
       "      <td>4.795902e+01</td>\n",
       "      <td>1.650009e+02</td>\n",
       "      <td>0.0</td>\n",
       "      <td>0.0</td>\n",
       "      <td>0.0</td>\n",
       "      <td>0.000000e+00</td>\n",
       "      <td>1474.0</td>\n",
       "    </tr>\n",
       "    <tr>\n",
       "      <th>Bsmt Unf SF</th>\n",
       "      <td>2050.0</td>\n",
       "      <td>5.677283e+02</td>\n",
       "      <td>4.449548e+02</td>\n",
       "      <td>0.0</td>\n",
       "      <td>220.0</td>\n",
       "      <td>474.5</td>\n",
       "      <td>8.110000e+02</td>\n",
       "      <td>2336.0</td>\n",
       "    </tr>\n",
       "    <tr>\n",
       "      <th>Total Bsmt SF</th>\n",
       "      <td>2050.0</td>\n",
       "      <td>1.057988e+03</td>\n",
       "      <td>4.494107e+02</td>\n",
       "      <td>0.0</td>\n",
       "      <td>793.0</td>\n",
       "      <td>994.5</td>\n",
       "      <td>1.318750e+03</td>\n",
       "      <td>6110.0</td>\n",
       "    </tr>\n",
       "    <tr>\n",
       "      <th>1st Flr SF</th>\n",
       "      <td>2051.0</td>\n",
       "      <td>1.164488e+03</td>\n",
       "      <td>3.964469e+02</td>\n",
       "      <td>334.0</td>\n",
       "      <td>879.5</td>\n",
       "      <td>1093.0</td>\n",
       "      <td>1.405000e+03</td>\n",
       "      <td>5095.0</td>\n",
       "    </tr>\n",
       "    <tr>\n",
       "      <th>2nd Flr SF</th>\n",
       "      <td>2051.0</td>\n",
       "      <td>3.293291e+02</td>\n",
       "      <td>4.256710e+02</td>\n",
       "      <td>0.0</td>\n",
       "      <td>0.0</td>\n",
       "      <td>0.0</td>\n",
       "      <td>6.925000e+02</td>\n",
       "      <td>1862.0</td>\n",
       "    </tr>\n",
       "    <tr>\n",
       "      <th>Low Qual Fin SF</th>\n",
       "      <td>2051.0</td>\n",
       "      <td>5.512921e+00</td>\n",
       "      <td>5.106887e+01</td>\n",
       "      <td>0.0</td>\n",
       "      <td>0.0</td>\n",
       "      <td>0.0</td>\n",
       "      <td>0.000000e+00</td>\n",
       "      <td>1064.0</td>\n",
       "    </tr>\n",
       "    <tr>\n",
       "      <th>Gr Liv Area</th>\n",
       "      <td>2051.0</td>\n",
       "      <td>1.499330e+03</td>\n",
       "      <td>5.004478e+02</td>\n",
       "      <td>334.0</td>\n",
       "      <td>1129.0</td>\n",
       "      <td>1444.0</td>\n",
       "      <td>1.728500e+03</td>\n",
       "      <td>5642.0</td>\n",
       "    </tr>\n",
       "    <tr>\n",
       "      <th>Bsmt Full Bath</th>\n",
       "      <td>2049.0</td>\n",
       "      <td>4.275256e-01</td>\n",
       "      <td>5.226732e-01</td>\n",
       "      <td>0.0</td>\n",
       "      <td>0.0</td>\n",
       "      <td>0.0</td>\n",
       "      <td>1.000000e+00</td>\n",
       "      <td>3.0</td>\n",
       "    </tr>\n",
       "    <tr>\n",
       "      <th>Bsmt Half Bath</th>\n",
       "      <td>2049.0</td>\n",
       "      <td>6.344558e-02</td>\n",
       "      <td>2.517052e-01</td>\n",
       "      <td>0.0</td>\n",
       "      <td>0.0</td>\n",
       "      <td>0.0</td>\n",
       "      <td>0.000000e+00</td>\n",
       "      <td>2.0</td>\n",
       "    </tr>\n",
       "    <tr>\n",
       "      <th>Full Bath</th>\n",
       "      <td>2051.0</td>\n",
       "      <td>1.577279e+00</td>\n",
       "      <td>5.492794e-01</td>\n",
       "      <td>0.0</td>\n",
       "      <td>1.0</td>\n",
       "      <td>2.0</td>\n",
       "      <td>2.000000e+00</td>\n",
       "      <td>4.0</td>\n",
       "    </tr>\n",
       "    <tr>\n",
       "      <th>Half Bath</th>\n",
       "      <td>2051.0</td>\n",
       "      <td>3.710385e-01</td>\n",
       "      <td>5.010427e-01</td>\n",
       "      <td>0.0</td>\n",
       "      <td>0.0</td>\n",
       "      <td>0.0</td>\n",
       "      <td>1.000000e+00</td>\n",
       "      <td>2.0</td>\n",
       "    </tr>\n",
       "    <tr>\n",
       "      <th>Bedroom AbvGr</th>\n",
       "      <td>2051.0</td>\n",
       "      <td>2.843491e+00</td>\n",
       "      <td>8.266183e-01</td>\n",
       "      <td>0.0</td>\n",
       "      <td>2.0</td>\n",
       "      <td>3.0</td>\n",
       "      <td>3.000000e+00</td>\n",
       "      <td>8.0</td>\n",
       "    </tr>\n",
       "    <tr>\n",
       "      <th>Kitchen AbvGr</th>\n",
       "      <td>2051.0</td>\n",
       "      <td>1.042906e+00</td>\n",
       "      <td>2.097900e-01</td>\n",
       "      <td>0.0</td>\n",
       "      <td>1.0</td>\n",
       "      <td>1.0</td>\n",
       "      <td>1.000000e+00</td>\n",
       "      <td>3.0</td>\n",
       "    </tr>\n",
       "    <tr>\n",
       "      <th>TotRms AbvGrd</th>\n",
       "      <td>2051.0</td>\n",
       "      <td>6.435885e+00</td>\n",
       "      <td>1.560225e+00</td>\n",
       "      <td>2.0</td>\n",
       "      <td>5.0</td>\n",
       "      <td>6.0</td>\n",
       "      <td>7.000000e+00</td>\n",
       "      <td>15.0</td>\n",
       "    </tr>\n",
       "    <tr>\n",
       "      <th>Fireplaces</th>\n",
       "      <td>2051.0</td>\n",
       "      <td>5.909313e-01</td>\n",
       "      <td>6.385163e-01</td>\n",
       "      <td>0.0</td>\n",
       "      <td>0.0</td>\n",
       "      <td>1.0</td>\n",
       "      <td>1.000000e+00</td>\n",
       "      <td>4.0</td>\n",
       "    </tr>\n",
       "    <tr>\n",
       "      <th>Garage Yr Blt</th>\n",
       "      <td>1937.0</td>\n",
       "      <td>1.978708e+03</td>\n",
       "      <td>2.544109e+01</td>\n",
       "      <td>1895.0</td>\n",
       "      <td>1961.0</td>\n",
       "      <td>1980.0</td>\n",
       "      <td>2.002000e+03</td>\n",
       "      <td>2207.0</td>\n",
       "    </tr>\n",
       "    <tr>\n",
       "      <th>Garage Cars</th>\n",
       "      <td>2050.0</td>\n",
       "      <td>1.776585e+00</td>\n",
       "      <td>7.645374e-01</td>\n",
       "      <td>0.0</td>\n",
       "      <td>1.0</td>\n",
       "      <td>2.0</td>\n",
       "      <td>2.000000e+00</td>\n",
       "      <td>5.0</td>\n",
       "    </tr>\n",
       "    <tr>\n",
       "      <th>Garage Area</th>\n",
       "      <td>2050.0</td>\n",
       "      <td>4.736717e+02</td>\n",
       "      <td>2.159346e+02</td>\n",
       "      <td>0.0</td>\n",
       "      <td>319.0</td>\n",
       "      <td>480.0</td>\n",
       "      <td>5.760000e+02</td>\n",
       "      <td>1418.0</td>\n",
       "    </tr>\n",
       "    <tr>\n",
       "      <th>Wood Deck SF</th>\n",
       "      <td>2051.0</td>\n",
       "      <td>9.383374e+01</td>\n",
       "      <td>1.285494e+02</td>\n",
       "      <td>0.0</td>\n",
       "      <td>0.0</td>\n",
       "      <td>0.0</td>\n",
       "      <td>1.680000e+02</td>\n",
       "      <td>1424.0</td>\n",
       "    </tr>\n",
       "    <tr>\n",
       "      <th>Open Porch SF</th>\n",
       "      <td>2051.0</td>\n",
       "      <td>4.755680e+01</td>\n",
       "      <td>6.674724e+01</td>\n",
       "      <td>0.0</td>\n",
       "      <td>0.0</td>\n",
       "      <td>27.0</td>\n",
       "      <td>7.000000e+01</td>\n",
       "      <td>547.0</td>\n",
       "    </tr>\n",
       "    <tr>\n",
       "      <th>Enclosed Porch</th>\n",
       "      <td>2051.0</td>\n",
       "      <td>2.257192e+01</td>\n",
       "      <td>5.984511e+01</td>\n",
       "      <td>0.0</td>\n",
       "      <td>0.0</td>\n",
       "      <td>0.0</td>\n",
       "      <td>0.000000e+00</td>\n",
       "      <td>432.0</td>\n",
       "    </tr>\n",
       "    <tr>\n",
       "      <th>3Ssn Porch</th>\n",
       "      <td>2051.0</td>\n",
       "      <td>2.591419e+00</td>\n",
       "      <td>2.522961e+01</td>\n",
       "      <td>0.0</td>\n",
       "      <td>0.0</td>\n",
       "      <td>0.0</td>\n",
       "      <td>0.000000e+00</td>\n",
       "      <td>508.0</td>\n",
       "    </tr>\n",
       "    <tr>\n",
       "      <th>Screen Porch</th>\n",
       "      <td>2051.0</td>\n",
       "      <td>1.651146e+01</td>\n",
       "      <td>5.737420e+01</td>\n",
       "      <td>0.0</td>\n",
       "      <td>0.0</td>\n",
       "      <td>0.0</td>\n",
       "      <td>0.000000e+00</td>\n",
       "      <td>490.0</td>\n",
       "    </tr>\n",
       "    <tr>\n",
       "      <th>Pool Area</th>\n",
       "      <td>2051.0</td>\n",
       "      <td>2.397855e+00</td>\n",
       "      <td>3.778257e+01</td>\n",
       "      <td>0.0</td>\n",
       "      <td>0.0</td>\n",
       "      <td>0.0</td>\n",
       "      <td>0.000000e+00</td>\n",
       "      <td>800.0</td>\n",
       "    </tr>\n",
       "    <tr>\n",
       "      <th>Misc Val</th>\n",
       "      <td>2051.0</td>\n",
       "      <td>5.157435e+01</td>\n",
       "      <td>5.733940e+02</td>\n",
       "      <td>0.0</td>\n",
       "      <td>0.0</td>\n",
       "      <td>0.0</td>\n",
       "      <td>0.000000e+00</td>\n",
       "      <td>17000.0</td>\n",
       "    </tr>\n",
       "    <tr>\n",
       "      <th>Mo Sold</th>\n",
       "      <td>2051.0</td>\n",
       "      <td>6.219893e+00</td>\n",
       "      <td>2.744736e+00</td>\n",
       "      <td>1.0</td>\n",
       "      <td>4.0</td>\n",
       "      <td>6.0</td>\n",
       "      <td>8.000000e+00</td>\n",
       "      <td>12.0</td>\n",
       "    </tr>\n",
       "    <tr>\n",
       "      <th>Yr Sold</th>\n",
       "      <td>2051.0</td>\n",
       "      <td>2.007776e+03</td>\n",
       "      <td>1.312014e+00</td>\n",
       "      <td>2006.0</td>\n",
       "      <td>2007.0</td>\n",
       "      <td>2008.0</td>\n",
       "      <td>2.009000e+03</td>\n",
       "      <td>2010.0</td>\n",
       "    </tr>\n",
       "    <tr>\n",
       "      <th>SalePrice</th>\n",
       "      <td>2051.0</td>\n",
       "      <td>1.814697e+05</td>\n",
       "      <td>7.925866e+04</td>\n",
       "      <td>12789.0</td>\n",
       "      <td>129825.0</td>\n",
       "      <td>162500.0</td>\n",
       "      <td>2.140000e+05</td>\n",
       "      <td>611657.0</td>\n",
       "    </tr>\n",
       "  </tbody>\n",
       "</table>\n",
       "</div>"
      ],
      "text/plain": [
       "                  count          mean           std          min          25%  \\\n",
       "Id               2051.0  1.474034e+03  8.439808e+02          1.0        753.5   \n",
       "PID              2051.0  7.135900e+08  1.886918e+08  526301100.0  528458140.0   \n",
       "MS SubClass      2051.0  5.700878e+01  4.282422e+01         20.0         20.0   \n",
       "Lot Frontage     1721.0  6.905520e+01  2.326065e+01         21.0         58.0   \n",
       "Lot Area         2051.0  1.006521e+04  6.742489e+03       1300.0       7500.0   \n",
       "Overall Qual     2051.0  6.112140e+00  1.426271e+00          1.0          5.0   \n",
       "Overall Cond     2051.0  5.562165e+00  1.104497e+00          1.0          5.0   \n",
       "Year Built       2051.0  1.971709e+03  3.017789e+01       1872.0       1953.5   \n",
       "Year Remod/Add   2051.0  1.984190e+03  2.103625e+01       1950.0       1964.5   \n",
       "Mas Vnr Area     2029.0  9.969591e+01  1.749631e+02          0.0          0.0   \n",
       "BsmtFin SF 1     2050.0  4.423005e+02  4.612041e+02          0.0          0.0   \n",
       "BsmtFin SF 2     2050.0  4.795902e+01  1.650009e+02          0.0          0.0   \n",
       "Bsmt Unf SF      2050.0  5.677283e+02  4.449548e+02          0.0        220.0   \n",
       "Total Bsmt SF    2050.0  1.057988e+03  4.494107e+02          0.0        793.0   \n",
       "1st Flr SF       2051.0  1.164488e+03  3.964469e+02        334.0        879.5   \n",
       "2nd Flr SF       2051.0  3.293291e+02  4.256710e+02          0.0          0.0   \n",
       "Low Qual Fin SF  2051.0  5.512921e+00  5.106887e+01          0.0          0.0   \n",
       "Gr Liv Area      2051.0  1.499330e+03  5.004478e+02        334.0       1129.0   \n",
       "Bsmt Full Bath   2049.0  4.275256e-01  5.226732e-01          0.0          0.0   \n",
       "Bsmt Half Bath   2049.0  6.344558e-02  2.517052e-01          0.0          0.0   \n",
       "Full Bath        2051.0  1.577279e+00  5.492794e-01          0.0          1.0   \n",
       "Half Bath        2051.0  3.710385e-01  5.010427e-01          0.0          0.0   \n",
       "Bedroom AbvGr    2051.0  2.843491e+00  8.266183e-01          0.0          2.0   \n",
       "Kitchen AbvGr    2051.0  1.042906e+00  2.097900e-01          0.0          1.0   \n",
       "TotRms AbvGrd    2051.0  6.435885e+00  1.560225e+00          2.0          5.0   \n",
       "Fireplaces       2051.0  5.909313e-01  6.385163e-01          0.0          0.0   \n",
       "Garage Yr Blt    1937.0  1.978708e+03  2.544109e+01       1895.0       1961.0   \n",
       "Garage Cars      2050.0  1.776585e+00  7.645374e-01          0.0          1.0   \n",
       "Garage Area      2050.0  4.736717e+02  2.159346e+02          0.0        319.0   \n",
       "Wood Deck SF     2051.0  9.383374e+01  1.285494e+02          0.0          0.0   \n",
       "Open Porch SF    2051.0  4.755680e+01  6.674724e+01          0.0          0.0   \n",
       "Enclosed Porch   2051.0  2.257192e+01  5.984511e+01          0.0          0.0   \n",
       "3Ssn Porch       2051.0  2.591419e+00  2.522961e+01          0.0          0.0   \n",
       "Screen Porch     2051.0  1.651146e+01  5.737420e+01          0.0          0.0   \n",
       "Pool Area        2051.0  2.397855e+00  3.778257e+01          0.0          0.0   \n",
       "Misc Val         2051.0  5.157435e+01  5.733940e+02          0.0          0.0   \n",
       "Mo Sold          2051.0  6.219893e+00  2.744736e+00          1.0          4.0   \n",
       "Yr Sold          2051.0  2.007776e+03  1.312014e+00       2006.0       2007.0   \n",
       "SalePrice        2051.0  1.814697e+05  7.925866e+04      12789.0     129825.0   \n",
       "\n",
       "                         50%           75%          max  \n",
       "Id                    1486.0  2.198000e+03       2930.0  \n",
       "PID              535453200.0  9.071801e+08  924152030.0  \n",
       "MS SubClass             50.0  7.000000e+01        190.0  \n",
       "Lot Frontage            68.0  8.000000e+01        313.0  \n",
       "Lot Area              9430.0  1.151350e+04     159000.0  \n",
       "Overall Qual             6.0  7.000000e+00         10.0  \n",
       "Overall Cond             5.0  6.000000e+00          9.0  \n",
       "Year Built            1974.0  2.001000e+03       2010.0  \n",
       "Year Remod/Add        1993.0  2.004000e+03       2010.0  \n",
       "Mas Vnr Area             0.0  1.610000e+02       1600.0  \n",
       "BsmtFin SF 1           368.0  7.337500e+02       5644.0  \n",
       "BsmtFin SF 2             0.0  0.000000e+00       1474.0  \n",
       "Bsmt Unf SF            474.5  8.110000e+02       2336.0  \n",
       "Total Bsmt SF          994.5  1.318750e+03       6110.0  \n",
       "1st Flr SF            1093.0  1.405000e+03       5095.0  \n",
       "2nd Flr SF               0.0  6.925000e+02       1862.0  \n",
       "Low Qual Fin SF          0.0  0.000000e+00       1064.0  \n",
       "Gr Liv Area           1444.0  1.728500e+03       5642.0  \n",
       "Bsmt Full Bath           0.0  1.000000e+00          3.0  \n",
       "Bsmt Half Bath           0.0  0.000000e+00          2.0  \n",
       "Full Bath                2.0  2.000000e+00          4.0  \n",
       "Half Bath                0.0  1.000000e+00          2.0  \n",
       "Bedroom AbvGr            3.0  3.000000e+00          8.0  \n",
       "Kitchen AbvGr            1.0  1.000000e+00          3.0  \n",
       "TotRms AbvGrd            6.0  7.000000e+00         15.0  \n",
       "Fireplaces               1.0  1.000000e+00          4.0  \n",
       "Garage Yr Blt         1980.0  2.002000e+03       2207.0  \n",
       "Garage Cars              2.0  2.000000e+00          5.0  \n",
       "Garage Area            480.0  5.760000e+02       1418.0  \n",
       "Wood Deck SF             0.0  1.680000e+02       1424.0  \n",
       "Open Porch SF           27.0  7.000000e+01        547.0  \n",
       "Enclosed Porch           0.0  0.000000e+00        432.0  \n",
       "3Ssn Porch               0.0  0.000000e+00        508.0  \n",
       "Screen Porch             0.0  0.000000e+00        490.0  \n",
       "Pool Area                0.0  0.000000e+00        800.0  \n",
       "Misc Val                 0.0  0.000000e+00      17000.0  \n",
       "Mo Sold                  6.0  8.000000e+00         12.0  \n",
       "Yr Sold               2008.0  2.009000e+03       2010.0  \n",
       "SalePrice           162500.0  2.140000e+05     611657.0  "
      ]
     },
     "execution_count": 404,
     "metadata": {},
     "output_type": "execute_result"
    }
   ],
   "source": [
    "\n",
    "\n",
    "df_train.describe().T"
   ]
  },
  {
   "cell_type": "markdown",
   "metadata": {},
   "source": [
    "Describe the data. To me, this is the most important step in data cleaning and exploring. Shows me the percentailes of data and average"
   ]
  },
  {
   "cell_type": "markdown",
   "metadata": {},
   "source": [
    "### Correlation Heat Map based on Sale Price"
   ]
  },
  {
   "cell_type": "code",
   "execution_count": 405,
   "metadata": {},
   "outputs": [
    {
     "data": {
      "text/plain": [
       "<matplotlib.axes._subplots.AxesSubplot at 0x1c2e8a8e90>"
      ]
     },
     "execution_count": 405,
     "metadata": {},
     "output_type": "execute_result"
    },
    {
     "data": {
      "image/png": "[encoded data removed]",
      "text/plain": [
       "<Figure size 432x288 with 2 Axes>"
      ]
     },
     "metadata": {
      "needs_background": "light"
     },
     "output_type": "display_data"
    }
   ],
   "source": [
    "# plt.figure(figsize=(12,12))\n",
    "\n",
    "plt.title(\"Correlation Matrix\")\n",
    "sns.heatmap(df_train.corr()[['SalePrice']].sort_values('SalePrice', ascending = False).head(10), \n",
    "            annot = True, cmap = \"coolwarm\", vmax = 1, vmin = -1)"
   ]
  },
  {
   "cell_type": "markdown",
   "metadata": {},
   "source": [
    "#### This correlation map shows:\n",
    "\n",
    "- Overall Quality and Sale Price have a high correlation\n",
    "- First 10. I did not want to overkill the heat map. Only give me features\n",
    "- My hypothesis is holding true for now\n",
    "- This is my preprocessing Correlation heat map. Will use a final one, later for the model\n"
   ]
  },
  {
   "cell_type": "code",
   "execution_count": 406,
   "metadata": {
    "scrolled": true
   },
   "outputs": [
    {
     "data": {
      "text/plain": [
       "Text(0.5, 0, 'Sale Price($)')"
      ]
     },
     "execution_count": 406,
     "metadata": {},
     "output_type": "execute_result"
    },
    {
     "data": {
      "image/png": "[encoded data removed]",
      "text/plain": [
       "<Figure size 432x288 with 1 Axes>"
      ]
     },
     "metadata": {
      "needs_background": "light"
     },
     "output_type": "display_data"
    }
   ],
   "source": [
    "ax = df_train['SalePrice'].plot(kind = 'hist', title = \"Distribution of Sales Price\"\n",
    "                           , y = \"Frequency(units)\")\n",
    "\n",
    "ax.set_xlabel(\"Sale Price($)\")"
   ]
  },
  {
   "cell_type": "markdown",
   "metadata": {},
   "source": [
    "Distribution of Sale Price. Bit of a skew in Sale Price. Would like to normalize"
   ]
  },
  {
   "cell_type": "markdown",
   "metadata": {},
   "source": [
    "#### Distribution Sale Price"
   ]
  },
  {
   "cell_type": "markdown",
   "metadata": {},
   "source": [
    "### Log transformation of Sales"
   ]
  },
  {
   "cell_type": "code",
   "execution_count": 407,
   "metadata": {
    "scrolled": true
   },
   "outputs": [
    {
     "data": {
      "text/plain": [
       "Text(0.5, 0, 'Log of Sale Price($)')"
      ]
     },
     "execution_count": 407,
     "metadata": {},
     "output_type": "execute_result"
    },
    {
     "data": {
      "image/png": "[encoded data removed]",
      "text/plain": [
       "<Figure size 432x288 with 1 Axes>"
      ]
     },
     "metadata": {
      "needs_background": "light"
     },
     "output_type": "display_data"
    }
   ],
   "source": [
    "##.apply function with log\n",
    "df_train['SalePricelog'] = df_train['SalePrice'].apply(np.log)\n",
    "\n",
    "ax= df_train['SalePricelog'].plot(kind = 'hist', title = \"Distribution of log Sales Price\")\n",
    "\n",
    "ax.set_xlabel(\"Log of Sale Price($)\")\n",
    "\n"
   ]
  },
  {
   "cell_type": "markdown",
   "metadata": {},
   "source": [
    "Transform SalesPrice to make it more normal distribution"
   ]
  },
  {
   "cell_type": "code",
   "execution_count": 408,
   "metadata": {},
   "outputs": [],
   "source": [
    "##.drop method\n",
    "drop_sales_price = ['SalePrice']\n",
    "\n",
    "df_train =  df_train.drop(drop_sales_price, axis = 1)"
   ]
  },
  {
   "cell_type": "markdown",
   "metadata": {},
   "source": [
    "Drop sales price. keep the log"
   ]
  },
  {
   "cell_type": "code",
   "execution_count": 409,
   "metadata": {},
   "outputs": [],
   "source": [
    "##.drop method\n",
    "id_cols = ['Id', 'PID']\n",
    "\n",
    "ames_train= df_train.drop(id_cols, axis = 1)\n",
    "\n",
    "ames_validation = df_validation.drop(id_cols, axis = 1)\n"
   ]
  },
  {
   "cell_type": "markdown",
   "metadata": {},
   "source": [
    "Start dropping cols. I want to drop ID and PID. Unique Identifiers. Not merging any df's so why keep those columns"
   ]
  },
  {
   "cell_type": "code",
   "execution_count": 410,
   "metadata": {},
   "outputs": [
    {
     "data": {
      "text/html": [
       "<div>\n",
       "<style scoped>\n",
       "    .dataframe tbody tr th:only-of-type {\n",
       "        vertical-align: middle;\n",
       "    }\n",
       "\n",
       "    .dataframe tbody tr th {\n",
       "        vertical-align: top;\n",
       "    }\n",
       "\n",
       "    .dataframe thead th {\n",
       "        text-align: right;\n",
       "    }\n",
       "</style>\n",
       "<table border=\"1\" class=\"dataframe\">\n",
       "  <thead>\n",
       "    <tr style=\"text-align: right;\">\n",
       "      <th></th>\n",
       "      <th>MS SubClass</th>\n",
       "      <th>MS Zoning</th>\n",
       "      <th>Lot Frontage</th>\n",
       "      <th>Lot Area</th>\n",
       "      <th>Street</th>\n",
       "      <th>Alley</th>\n",
       "      <th>Lot Shape</th>\n",
       "      <th>Land Contour</th>\n",
       "      <th>Utilities</th>\n",
       "      <th>Lot Config</th>\n",
       "      <th>...</th>\n",
       "      <th>Screen Porch</th>\n",
       "      <th>Pool Area</th>\n",
       "      <th>Pool QC</th>\n",
       "      <th>Fence</th>\n",
       "      <th>Misc Feature</th>\n",
       "      <th>Misc Val</th>\n",
       "      <th>Mo Sold</th>\n",
       "      <th>Yr Sold</th>\n",
       "      <th>Sale Type</th>\n",
       "      <th>SalePricelog</th>\n",
       "    </tr>\n",
       "  </thead>\n",
       "  <tbody>\n",
       "    <tr>\n",
       "      <th>0</th>\n",
       "      <td>60</td>\n",
       "      <td>RL</td>\n",
       "      <td>NaN</td>\n",
       "      <td>13517</td>\n",
       "      <td>Pave</td>\n",
       "      <td>NaN</td>\n",
       "      <td>IR1</td>\n",
       "      <td>Lvl</td>\n",
       "      <td>AllPub</td>\n",
       "      <td>CulDSac</td>\n",
       "      <td>...</td>\n",
       "      <td>0</td>\n",
       "      <td>0</td>\n",
       "      <td>NaN</td>\n",
       "      <td>NaN</td>\n",
       "      <td>NaN</td>\n",
       "      <td>0</td>\n",
       "      <td>3</td>\n",
       "      <td>2010</td>\n",
       "      <td>WD</td>\n",
       "      <td>11.779129</td>\n",
       "    </tr>\n",
       "    <tr>\n",
       "      <th>1</th>\n",
       "      <td>60</td>\n",
       "      <td>RL</td>\n",
       "      <td>43.0</td>\n",
       "      <td>11492</td>\n",
       "      <td>Pave</td>\n",
       "      <td>NaN</td>\n",
       "      <td>IR1</td>\n",
       "      <td>Lvl</td>\n",
       "      <td>AllPub</td>\n",
       "      <td>CulDSac</td>\n",
       "      <td>...</td>\n",
       "      <td>0</td>\n",
       "      <td>0</td>\n",
       "      <td>NaN</td>\n",
       "      <td>NaN</td>\n",
       "      <td>NaN</td>\n",
       "      <td>0</td>\n",
       "      <td>4</td>\n",
       "      <td>2009</td>\n",
       "      <td>WD</td>\n",
       "      <td>12.301383</td>\n",
       "    </tr>\n",
       "    <tr>\n",
       "      <th>2</th>\n",
       "      <td>20</td>\n",
       "      <td>RL</td>\n",
       "      <td>68.0</td>\n",
       "      <td>7922</td>\n",
       "      <td>Pave</td>\n",
       "      <td>NaN</td>\n",
       "      <td>Reg</td>\n",
       "      <td>Lvl</td>\n",
       "      <td>AllPub</td>\n",
       "      <td>Inside</td>\n",
       "      <td>...</td>\n",
       "      <td>0</td>\n",
       "      <td>0</td>\n",
       "      <td>NaN</td>\n",
       "      <td>NaN</td>\n",
       "      <td>NaN</td>\n",
       "      <td>0</td>\n",
       "      <td>1</td>\n",
       "      <td>2010</td>\n",
       "      <td>WD</td>\n",
       "      <td>11.599103</td>\n",
       "    </tr>\n",
       "    <tr>\n",
       "      <th>3</th>\n",
       "      <td>60</td>\n",
       "      <td>RL</td>\n",
       "      <td>73.0</td>\n",
       "      <td>9802</td>\n",
       "      <td>Pave</td>\n",
       "      <td>NaN</td>\n",
       "      <td>Reg</td>\n",
       "      <td>Lvl</td>\n",
       "      <td>AllPub</td>\n",
       "      <td>Inside</td>\n",
       "      <td>...</td>\n",
       "      <td>0</td>\n",
       "      <td>0</td>\n",
       "      <td>NaN</td>\n",
       "      <td>NaN</td>\n",
       "      <td>NaN</td>\n",
       "      <td>0</td>\n",
       "      <td>4</td>\n",
       "      <td>2010</td>\n",
       "      <td>WD</td>\n",
       "      <td>12.066811</td>\n",
       "    </tr>\n",
       "    <tr>\n",
       "      <th>4</th>\n",
       "      <td>50</td>\n",
       "      <td>RL</td>\n",
       "      <td>82.0</td>\n",
       "      <td>14235</td>\n",
       "      <td>Pave</td>\n",
       "      <td>NaN</td>\n",
       "      <td>IR1</td>\n",
       "      <td>Lvl</td>\n",
       "      <td>AllPub</td>\n",
       "      <td>Inside</td>\n",
       "      <td>...</td>\n",
       "      <td>0</td>\n",
       "      <td>0</td>\n",
       "      <td>NaN</td>\n",
       "      <td>NaN</td>\n",
       "      <td>NaN</td>\n",
       "      <td>0</td>\n",
       "      <td>3</td>\n",
       "      <td>2010</td>\n",
       "      <td>WD</td>\n",
       "      <td>11.838626</td>\n",
       "    </tr>\n",
       "  </tbody>\n",
       "</table>\n",
       "<p>5 rows × 79 columns</p>\n",
       "</div>"
      ],
      "text/plain": [
       "   MS SubClass MS Zoning  Lot Frontage  Lot Area Street Alley Lot Shape  \\\n",
       "0           60        RL           NaN     13517   Pave   NaN       IR1   \n",
       "1           60        RL          43.0     11492   Pave   NaN       IR1   \n",
       "2           20        RL          68.0      7922   Pave   NaN       Reg   \n",
       "3           60        RL          73.0      9802   Pave   NaN       Reg   \n",
       "4           50        RL          82.0     14235   Pave   NaN       IR1   \n",
       "\n",
       "  Land Contour Utilities Lot Config  ... Screen Porch Pool Area Pool QC Fence  \\\n",
       "0          Lvl    AllPub    CulDSac  ...            0         0     NaN   NaN   \n",
       "1          Lvl    AllPub    CulDSac  ...            0         0     NaN   NaN   \n",
       "2          Lvl    AllPub     Inside  ...            0         0     NaN   NaN   \n",
       "3          Lvl    AllPub     Inside  ...            0         0     NaN   NaN   \n",
       "4          Lvl    AllPub     Inside  ...            0         0     NaN   NaN   \n",
       "\n",
       "  Misc Feature Misc Val  Mo Sold  Yr Sold  Sale Type  SalePricelog  \n",
       "0          NaN        0        3     2010        WD      11.779129  \n",
       "1          NaN        0        4     2009        WD      12.301383  \n",
       "2          NaN        0        1     2010        WD      11.599103  \n",
       "3          NaN        0        4     2010        WD      12.066811  \n",
       "4          NaN        0        3     2010        WD      11.838626  \n",
       "\n",
       "[5 rows x 79 columns]"
      ]
     },
     "execution_count": 410,
     "metadata": {},
     "output_type": "execute_result"
    }
   ],
   "source": [
    "##top 5 of df\n",
    "ames_train.head()"
   ]
  },
  {
   "cell_type": "markdown",
   "metadata": {},
   "source": [
    "### Check Data Types "
   ]
  },
  {
   "cell_type": "code",
   "execution_count": 411,
   "metadata": {
    "scrolled": true
   },
   "outputs": [
    {
     "name": "stdout",
     "output_type": "stream",
     "text": [
      "<class 'pandas.core.frame.DataFrame'>\n",
      "RangeIndex: 2051 entries, 0 to 2050\n",
      "Data columns (total 79 columns):\n",
      "MS SubClass        2051 non-null int64\n",
      "MS Zoning          2051 non-null object\n",
      "Lot Frontage       1721 non-null float64\n",
      "Lot Area           2051 non-null int64\n",
      "Street             2051 non-null object\n",
      "Alley              140 non-null object\n",
      "Lot Shape          2051 non-null object\n",
      "Land Contour       2051 non-null object\n",
      "Utilities          2051 non-null object\n",
      "Lot Config         2051 non-null object\n",
      "Land Slope         2051 non-null object\n",
      "Neighborhood       2051 non-null object\n",
      "Condition 1        2051 non-null object\n",
      "Condition 2        2051 non-null object\n",
      "Bldg Type          2051 non-null object\n",
      "House Style        2051 non-null object\n",
      "Overall Qual       2051 non-null int64\n",
      "Overall Cond       2051 non-null int64\n",
      "Year Built         2051 non-null int64\n",
      "Year Remod/Add     2051 non-null int64\n",
      "Roof Style         2051 non-null object\n",
      "Roof Matl          2051 non-null object\n",
      "Exterior 1st       2051 non-null object\n",
      "Exterior 2nd       2051 non-null object\n",
      "Mas Vnr Type       2029 non-null object\n",
      "Mas Vnr Area       2029 non-null float64\n",
      "Exter Qual         2051 non-null object\n",
      "Exter Cond         2051 non-null object\n",
      "Foundation         2051 non-null object\n",
      "Bsmt Qual          1996 non-null object\n",
      "Bsmt Cond          1996 non-null object\n",
      "Bsmt Exposure      1993 non-null object\n",
      "BsmtFin Type 1     1996 non-null object\n",
      "BsmtFin SF 1       2050 non-null float64\n",
      "BsmtFin Type 2     1995 non-null object\n",
      "BsmtFin SF 2       2050 non-null float64\n",
      "Bsmt Unf SF        2050 non-null float64\n",
      "Total Bsmt SF      2050 non-null float64\n",
      "Heating            2051 non-null object\n",
      "Heating QC         2051 non-null object\n",
      "Central Air        2051 non-null object\n",
      "Electrical         2051 non-null object\n",
      "1st Flr SF         2051 non-null int64\n",
      "2nd Flr SF         2051 non-null int64\n",
      "Low Qual Fin SF    2051 non-null int64\n",
      "Gr Liv Area        2051 non-null int64\n",
      "Bsmt Full Bath     2049 non-null float64\n",
      "Bsmt Half Bath     2049 non-null float64\n",
      "Full Bath          2051 non-null int64\n",
      "Half Bath          2051 non-null int64\n",
      "Bedroom AbvGr      2051 non-null int64\n",
      "Kitchen AbvGr      2051 non-null int64\n",
      "Kitchen Qual       2051 non-null object\n",
      "TotRms AbvGrd      2051 non-null int64\n",
      "Functional         2051 non-null object\n",
      "Fireplaces         2051 non-null int64\n",
      "Fireplace Qu       1051 non-null object\n",
      "Garage Type        1938 non-null object\n",
      "Garage Yr Blt      1937 non-null float64\n",
      "Garage Finish      1937 non-null object\n",
      "Garage Cars        2050 non-null float64\n",
      "Garage Area        2050 non-null float64\n",
      "Garage Qual        1937 non-null object\n",
      "Garage Cond        1937 non-null object\n",
      "Paved Drive        2051 non-null object\n",
      "Wood Deck SF       2051 non-null int64\n",
      "Open Porch SF      2051 non-null int64\n",
      "Enclosed Porch     2051 non-null int64\n",
      "3Ssn Porch         2051 non-null int64\n",
      "Screen Porch       2051 non-null int64\n",
      "Pool Area          2051 non-null int64\n",
      "Pool QC            9 non-null object\n",
      "Fence              400 non-null object\n",
      "Misc Feature       65 non-null object\n",
      "Misc Val           2051 non-null int64\n",
      "Mo Sold            2051 non-null int64\n",
      "Yr Sold            2051 non-null int64\n",
      "Sale Type          2051 non-null object\n",
      "SalePricelog       2051 non-null float64\n",
      "dtypes: float64(12), int64(25), object(42)\n",
      "memory usage: 1.2+ MB\n"
     ]
    }
   ],
   "source": [
    "ames_train.info()"
   ]
  },
  {
   "cell_type": "markdown",
   "metadata": {},
   "source": [
    "Check data dictionary to see which values make sense. Month sold is 01-12. cant be 13, cant be 0.\n",
    "I want this to be a string. Same with subclass. It describes something. It is not a numeric column. "
   ]
  },
  {
   "cell_type": "code",
   "execution_count": 412,
   "metadata": {},
   "outputs": [],
   "source": [
    "##astype str\n",
    "ames_train['MS SubClass'] = ames_train['MS SubClass'].astype(str)\n",
    "ames_validation['MS SubClass'] = ames_validation['MS SubClass'].astype(str)"
   ]
  },
  {
   "cell_type": "markdown",
   "metadata": {},
   "source": [
    "Find numeric columns and objects. This is the most important step in starting to build the model.Put numeric values into a list. This will help me manipulate this list instead of manipulating dataframe"
   ]
  },
  {
   "cell_type": "code",
   "execution_count": 413,
   "metadata": {},
   "outputs": [],
   "source": [
    "##get numeric method\n",
    "features_num = list(ames_train._get_numeric_data())"
   ]
  },
  {
   "cell_type": "code",
   "execution_count": 414,
   "metadata": {
    "scrolled": true
   },
   "outputs": [],
   "source": [
    "##Put the strings and objects into a list\n",
    "features_object = list(ames_train.describe(include = 'object').columns)"
   ]
  },
  {
   "cell_type": "code",
   "execution_count": 415,
   "metadata": {},
   "outputs": [],
   "source": [
    "##do the same for numbers\n",
    "test_features_num = list(ames_validation._get_numeric_data())"
   ]
  },
  {
   "cell_type": "code",
   "execution_count": 416,
   "metadata": {},
   "outputs": [],
   "source": [
    "##do the same for test features\n",
    "\n",
    "test_features_object = list(ames_validation.describe(include = 'object').columns)"
   ]
  },
  {
   "cell_type": "markdown",
   "metadata": {},
   "source": [
    "### Fill null values"
   ]
  },
  {
   "cell_type": "markdown",
   "metadata": {},
   "source": [
    "I filled null values with 0. At first I chose median, but after examining the dictionary\n",
    "it didnt make sense to fill with the median because a null value for lot frontage, for example, would mean no\n",
    "lot. The median would skew my data. Choosing 0 for the null values made sense for this because a lot of the\n",
    "numeric columns features of the house. i assumed null is n=\"none\" or 0.\n"
   ]
  },
  {
   "cell_type": "code",
   "execution_count": 417,
   "metadata": {},
   "outputs": [],
   "source": [
    "##fillna method\n",
    "ames_train[features_num] = ames_train[features_num].fillna(0)\n",
    "ames_validation[test_features_num] = ames_validation[test_features_num].fillna(0)"
   ]
  },
  {
   "cell_type": "markdown",
   "metadata": {},
   "source": [
    "Fill null values of objects to NA. According the data dictionary, null values indidicate none. NA is equivalent\n",
    "to 0. Always refer to the data dictionary. \n"
   ]
  },
  {
   "cell_type": "code",
   "execution_count": 418,
   "metadata": {},
   "outputs": [],
   "source": [
    "##fillna method\n",
    "ames_train[features_object] = ames_train[features_object].fillna(\"NA\")\n",
    "ames_validation[test_features_object] = ames_validation[test_features_object].fillna(\"NA\")"
   ]
  },
  {
   "cell_type": "markdown",
   "metadata": {},
   "source": [
    "Corrupted value. Compared to year built and made it 2007"
   ]
  },
  {
   "cell_type": "code",
   "execution_count": 419,
   "metadata": {},
   "outputs": [],
   "source": [
    "##.loc method- used to locate row and colummn\n",
    "ames_train[ames_train['Garage Yr Blt'] == 2207]\n",
    "ames_train.loc[1699, 'Garage Yr Blt'] = 2007"
   ]
  },
  {
   "cell_type": "markdown",
   "metadata": {},
   "source": [
    "## EDA"
   ]
  },
  {
   "cell_type": "markdown",
   "metadata": {},
   "source": [
    "Make a list of nominal cols based on data dictionary. These are no including the ordinal cols. \n",
    "deal with ordinal cols "
   ]
  },
  {
   "cell_type": "code",
   "execution_count": 420,
   "metadata": {
    "scrolled": true
   },
   "outputs": [],
   "source": [
    "##list cols in a list object\n",
    "nominal_cols = ['MS SubClass', 'MS Zoning', 'Street', 'Land Contour', 'Lot Config', \n",
    "                \n",
    "                'Neighborhood', 'Condition 1', 'Condition 2', 'Bldg Type', 'House Style', 'Roof Style', 'Roof Matl',\n",
    "                \n",
    "                'Exterior 1st', 'Exterior 2nd', 'Mas Vnr Type', 'Foundation', 'Heating', 'Central Air', 'Garage Type', \n",
    "                \n",
    "                'Sale Type', 'Alley', 'Misc Feature']"
   ]
  },
  {
   "cell_type": "markdown",
   "metadata": {},
   "source": [
    "Dummy variables for nominal columns. This will help me use them in model"
   ]
  },
  {
   "cell_type": "code",
   "execution_count": 421,
   "metadata": {},
   "outputs": [],
   "source": [
    "##pd.to get dummies- gets dummy variables\n",
    "ames_train = pd.get_dummies(ames_train, columns= nominal_cols, drop_first=True)"
   ]
  },
  {
   "cell_type": "code",
   "execution_count": 422,
   "metadata": {},
   "outputs": [],
   "source": [
    "##pd.to get dummies\n",
    "ames_validation = pd.get_dummies(ames_validation, columns = nominal_cols , drop_first = True)"
   ]
  },
  {
   "cell_type": "markdown",
   "metadata": {},
   "source": [
    "### Check for Outlier"
   ]
  },
  {
   "cell_type": "markdown",
   "metadata": {},
   "source": [
    "Some of the values closer to the right may reperesent outliers"
   ]
  },
  {
   "cell_type": "code",
   "execution_count": 423,
   "metadata": {
    "scrolled": true
   },
   "outputs": [
    {
     "data": {
      "text/plain": [
       "Text(0.5, 0, 'Greater Living Area(Sq FT)')"
      ]
     },
     "execution_count": 423,
     "metadata": {},
     "output_type": "execute_result"
    },
    {
     "data": {
      "image/png": "[encoded data removed]",
      "text/plain": [
       "<Figure size 432x288 with 1 Axes>"
      ]
     },
     "metadata": {
      "needs_background": "light"
     },
     "output_type": "display_data"
    }
   ],
   "source": [
    "##.plot hist\n",
    "ax = ames_train['Gr Liv Area'].plot(kind = 'hist',\n",
    "                               y = 'Frequency',\n",
    "                               title = 'Greater Living Area(SQ FT) Distribution')\n",
    "\n",
    "\n",
    "ax.set_xlabel(\"Greater Living Area(Sq FT)\")"
   ]
  },
  {
   "cell_type": "markdown",
   "metadata": {},
   "source": [
    "#### Looking at the distribution there could be outliers beyond 4,000. Log function to make normal dist"
   ]
  },
  {
   "cell_type": "code",
   "execution_count": 424,
   "metadata": {},
   "outputs": [],
   "source": [
    "##.log apply. .apply method allows to apply a function to a data frame\n",
    "\n",
    "ames_train['GRlivingArealog'] = ames_train['Gr Liv Area'].apply(np.log)\n",
    "\n",
    "ames_train = ames_train.drop('Gr Liv Area', axis = 1)"
   ]
  },
  {
   "cell_type": "code",
   "execution_count": 425,
   "metadata": {},
   "outputs": [],
   "source": [
    "##do the same for test\n",
    "\n",
    "ames_validation['GRlivingArealog'] = ames_validation['Gr Liv Area'].apply(np.log)\n",
    "\n",
    "ames_validation = ames_validation.drop('Gr Liv Area', axis = 1)"
   ]
  },
  {
   "cell_type": "code",
   "execution_count": 426,
   "metadata": {},
   "outputs": [
    {
     "data": {
      "text/plain": [
       "Text(0.5, 0, 'Log of Gr Living Area(Sq FT)')"
      ]
     },
     "execution_count": 426,
     "metadata": {},
     "output_type": "execute_result"
    },
    {
     "data": {
      "image/png": "[encoded data removed]",
      "text/plain": [
       "<Figure size 432x288 with 1 Axes>"
      ]
     },
     "metadata": {
      "needs_background": "light"
     },
     "output_type": "display_data"
    }
   ],
   "source": [
    "ax= ames_train['GRlivingArealog'].plot(kind = 'hist', title = 'Greater Living Area(SQ FT) Distribution' )\n",
    "\n",
    "ax.set_xlabel(\"Log of Gr Living Area(Sq FT)\")"
   ]
  },
  {
   "cell_type": "markdown",
   "metadata": {},
   "source": [
    "## Feature Engineering"
   ]
  },
  {
   "cell_type": "markdown",
   "metadata": {},
   "source": [
    "#### Scaling Ordinal Features"
   ]
  },
  {
   "cell_type": "markdown",
   "metadata": {},
   "source": [
    "Dictionary for the most frequent ordinals. This is universal for many columns. Will map.\n",
    "\n",
    "I chose a 1-6 scale because I believe none should have a 1 value as it exists. 0 would mean it doesnt exist"
   ]
  },
  {
   "cell_type": "code",
   "execution_count": 427,
   "metadata": {},
   "outputs": [],
   "source": [
    "\n",
    "\n",
    "most_freuquent=   {\n",
    "\n",
    "       'Ex':6,\n",
    "       'Gd':5,\n",
    "       'TA':4,\n",
    "       'Fa':3,\n",
    "       'Po':2,\n",
    "       'NA':1\n",
    "    \n",
    "        \n",
    "    \n",
    "}\n",
    "\n"
   ]
  },
  {
   "cell_type": "code",
   "execution_count": 428,
   "metadata": {},
   "outputs": [],
   "source": [
    "##map ordinal cols to specified columns\n",
    "\n",
    "ames_train[\"Exter Qual\"] = ames_train[\"Exter Qual\"].map(most_freuquent)\n",
    "ames_train[\"Exter Cond\"] = ames_train[\"Exter Cond\"].map(most_freuquent)\n",
    "ames_train['Bsmt Cond'] = ames_train[\"Bsmt Cond\"].map(most_freuquent)\n",
    "ames_train['Heating QC'] = ames_train['Heating QC'].map(most_freuquent)\n",
    "ames_train['Kitchen Qual'] = ames_train['Kitchen Qual'].map(most_freuquent)\n",
    "ames_train['Garage Qual'] = ames_train['Garage Qual'].map(most_freuquent)\n",
    "ames_train['Bsmt Qual'] = ames_train['Bsmt Qual'].map(most_freuquent)\n",
    "ames_train['Fireplace Qu'] = ames_train['Fireplace Qu'].map(most_freuquent)\n",
    "ames_train['Garage Cond'] = ames_train['Garage Cond'].map(most_freuquent)\n",
    "ames_train['Pool QC'] = ames_train['Pool QC'].map(most_freuquent)\n"
   ]
  },
  {
   "cell_type": "code",
   "execution_count": 429,
   "metadata": {},
   "outputs": [],
   "source": [
    "##map ordinal cols to specified columns to validation set\n",
    "\n",
    "ames_validation[\"Exter Qual\"] = ames_validation[\"Exter Qual\"].map(most_freuquent)\n",
    "ames_validation[\"Exter Cond\"] = ames_validation[\"Exter Cond\"].map(most_freuquent)\n",
    "ames_validation['Bsmt Cond'] = ames_validation[\"Bsmt Cond\"].map(most_freuquent)\n",
    "ames_validation['Heating QC'] = ames_validation['Heating QC'].map(most_freuquent)\n",
    "ames_validation['Kitchen Qual'] = ames_validation['Kitchen Qual'].map(most_freuquent)\n",
    "ames_validation['Garage Qual'] = ames_validation['Garage Qual'].map(most_freuquent)\n",
    "ames_validation['Bsmt Qual'] = ames_validation['Bsmt Qual'].map(most_freuquent)\n",
    "ames_validation['Fireplace Qu'] = ames_validation['Fireplace Qu'].map(most_freuquent)\n",
    "ames_validation['Garage Cond'] = ames_validation['Garage Cond'].map(most_freuquent)\n",
    "ames_validation['Pool QC'] = ames_validation['Pool QC'].map(most_freuquent)"
   ]
  },
  {
   "cell_type": "markdown",
   "metadata": {},
   "source": [
    "Garage finish, 1-4 scale. Finished- No Garage at all"
   ]
  },
  {
   "cell_type": "code",
   "execution_count": 430,
   "metadata": {},
   "outputs": [],
   "source": [
    "\n",
    "\n",
    "garage_fin=   {\n",
    "\n",
    "       'Fin':4,\n",
    "       'RFn':3,\n",
    "       'Unf':2,\n",
    "       'NA':1,\n",
    "    \n",
    "}"
   ]
  },
  {
   "cell_type": "code",
   "execution_count": 431,
   "metadata": {},
   "outputs": [],
   "source": [
    "##map to columns\n",
    "\n",
    "ames_train['Garage Finish'] = ames_train['Garage Finish'].map(garage_fin)\n",
    "ames_validation['Garage Finish'] = ames_validation['Garage Finish'].map(garage_fin)"
   ]
  },
  {
   "cell_type": "markdown",
   "metadata": {},
   "source": [
    "Lot shape with a 1-4 scale"
   ]
  },
  {
   "cell_type": "code",
   "execution_count": 432,
   "metadata": {},
   "outputs": [],
   "source": [
    "\n",
    "\n",
    "lot_shape= {\n",
    "\n",
    "       'Reg':4,\n",
    "       'IR1':3,\n",
    "       'IR2':2,\n",
    "       'IR3':1\n",
    "        }"
   ]
  },
  {
   "cell_type": "code",
   "execution_count": 433,
   "metadata": {},
   "outputs": [],
   "source": [
    "##map to columns\n",
    "\n",
    "ames_train['Lot Shape'] = ames_train['Lot Shape'].map(lot_shape)\n",
    "ames_validation['Lot Shape'] = ames_validation['Lot Shape'].map(lot_shape)\n"
   ]
  },
  {
   "cell_type": "markdown",
   "metadata": {},
   "source": [
    "Utilities with a 1-4 scale"
   ]
  },
  {
   "cell_type": "code",
   "execution_count": 434,
   "metadata": {},
   "outputs": [],
   "source": [
    "\n",
    "utilities= {\n",
    "\n",
    "       'AllPub':4,\n",
    "       'NoSewr':3,\n",
    "       'NoSeWa':2,\n",
    "       'ELO':1\n",
    "        }"
   ]
  },
  {
   "cell_type": "code",
   "execution_count": 435,
   "metadata": {},
   "outputs": [],
   "source": [
    "##map to column\n",
    "ames_train['Utilities'] = ames_train['Utilities'].map(utilities)\n",
    "ames_validation['Utilities'] = ames_validation['Utilities'].map(utilities)\n"
   ]
  },
  {
   "cell_type": "markdown",
   "metadata": {},
   "source": [
    "Land Slope witha 1-3 scale\n"
   ]
  },
  {
   "cell_type": "code",
   "execution_count": 436,
   "metadata": {},
   "outputs": [],
   "source": [
    "\n",
    "land_slope= {\n",
    "\n",
    "       'Gtl':3,\n",
    "       'Mod':2,\n",
    "       'Sev':1\n",
    "        }"
   ]
  },
  {
   "cell_type": "code",
   "execution_count": 437,
   "metadata": {},
   "outputs": [],
   "source": [
    "##Map to Column\n",
    "\n",
    "ames_train['Land Slope']= ames_train['Land Slope'].map(land_slope)\n",
    "ames_validation['Land Slope']= ames_validation['Land Slope'].map(land_slope)"
   ]
  },
  {
   "cell_type": "markdown",
   "metadata": {},
   "source": [
    "Bassment EXPOSURE, 1-5 scale"
   ]
  },
  {
   "cell_type": "code",
   "execution_count": 438,
   "metadata": {},
   "outputs": [],
   "source": [
    "\n",
    "bsmt_exposure= {\n",
    "       'Gd':5,\n",
    "       'Av':4,\n",
    "       'Mn':3,\n",
    "       'No':2,\n",
    "       'NA':1,\n",
    "    }\n"
   ]
  },
  {
   "cell_type": "code",
   "execution_count": 439,
   "metadata": {},
   "outputs": [],
   "source": [
    "##Map to column\n",
    "\n",
    "ames_train['Bsmt Exposure']= ames_train['Bsmt Exposure'].map(bsmt_exposure)\n",
    "ames_validation['Bsmt Exposure']= ames_validation['Bsmt Exposure'].map(bsmt_exposure)"
   ]
  },
  {
   "cell_type": "markdown",
   "metadata": {},
   "source": [
    "Basement Finished. 1-7 scale"
   ]
  },
  {
   "cell_type": "code",
   "execution_count": 440,
   "metadata": {},
   "outputs": [],
   "source": [
    "\n",
    "bsmt_fin={\n",
    "      'GLQ':7,\n",
    "       'ALQ':6,\n",
    "       'BLQ':5,\n",
    "       'Rec':4,\n",
    "       'LwQ':3,\n",
    "       'Unf':2,\n",
    "        'NA':1\n",
    "}"
   ]
  },
  {
   "cell_type": "code",
   "execution_count": 441,
   "metadata": {},
   "outputs": [],
   "source": [
    "##Map to Column- .mpa maps function to df\n",
    "\n",
    "\n",
    "ames_train['BsmtFin Type 1'] = ames_train['BsmtFin Type 1'].map(bsmt_fin)\n",
    "ames_train['BsmtFin Type 2'] = ames_train['BsmtFin Type 2'].map(bsmt_fin)\n",
    "ames_validation['BsmtFin Type 1'] = ames_validation['BsmtFin Type 1'].map(bsmt_fin)\n",
    "ames_validation['BsmtFin Type 2']= ames_validation['BsmtFin Type 2'].map(bsmt_fin)"
   ]
  },
  {
   "cell_type": "markdown",
   "metadata": {},
   "source": [
    "Electric 1-6 scale"
   ]
  },
  {
   "cell_type": "code",
   "execution_count": 442,
   "metadata": {},
   "outputs": [],
   "source": [
    "\n",
    "electric={\n",
    "\n",
    "       'SBrkr':6,\n",
    "       'FuseA':5,\n",
    "       'FuseF':4,\n",
    "       'FuseP':3,\n",
    "       'Mix':2,\n",
    "       'NA': 1\n",
    "}"
   ]
  },
  {
   "cell_type": "code",
   "execution_count": 443,
   "metadata": {},
   "outputs": [],
   "source": [
    "##Map to Function\n",
    "ames_train['Electrical']= ames_train['Electrical'].map(electric)\n",
    "ames_validation['Electrical']= ames_validation['Electrical'].map(electric)"
   ]
  },
  {
   "cell_type": "markdown",
   "metadata": {},
   "source": [
    "Functional 1-8 Scale"
   ]
  },
  {
   "cell_type": "code",
   "execution_count": 444,
   "metadata": {},
   "outputs": [],
   "source": [
    "\n",
    "functional=   {\n",
    "\n",
    "       'Typ':8,\n",
    "       'Min1':7,\n",
    "       'Min2':6,\n",
    "       'Mod':5,\n",
    "       'Maj1':4,\n",
    "       'Maj2':3,\n",
    "        'Sev':2,\n",
    "        'Sal':1\n",
    "}"
   ]
  },
  {
   "cell_type": "code",
   "execution_count": 445,
   "metadata": {},
   "outputs": [],
   "source": [
    "##Map to column\n",
    "ames_train['Functional']= ames_train['Functional'].map(functional)\n",
    "ames_validation['Functional']= ames_validation['Functional'].map(functional)"
   ]
  },
  {
   "cell_type": "markdown",
   "metadata": {},
   "source": [
    "Paved Drive 0,2. In this case 0 means doesnt exist"
   ]
  },
  {
   "cell_type": "code",
   "execution_count": 446,
   "metadata": {},
   "outputs": [],
   "source": [
    "\n",
    "paved_drive = {\n",
    "    \n",
    "       'Y':2,\n",
    "       'P':1,\n",
    "       'N':0\n",
    "    \n",
    "}"
   ]
  },
  {
   "cell_type": "code",
   "execution_count": 447,
   "metadata": {},
   "outputs": [],
   "source": [
    "##Map to column\n",
    "ames_train['Paved Drive'] = ames_train['Paved Drive'].map(paved_drive)\n",
    "ames_validation['Paved Drive'] = ames_validation['Paved Drive'].map(paved_drive)"
   ]
  },
  {
   "cell_type": "markdown",
   "metadata": {},
   "source": [
    "Fences 1-5"
   ]
  },
  {
   "cell_type": "code",
   "execution_count": 448,
   "metadata": {},
   "outputs": [],
   "source": [
    "\n",
    "fences = {\n",
    "        \n",
    "       'GdPrv':5,\n",
    "       'MnPrv':4,\n",
    "       'GdWo':3,\n",
    "       'MnWw':2,\n",
    "       'NA':1\n",
    "    \n",
    "    \n",
    "}"
   ]
  },
  {
   "cell_type": "code",
   "execution_count": 449,
   "metadata": {
    "scrolled": true
   },
   "outputs": [],
   "source": [
    "##Map to columns\n",
    "ames_train['Fence'] = ames_train['Fence'].map(fences)\n",
    "ames_validation['Fence'] = ames_validation['Fence'].map(fences)"
   ]
  },
  {
   "cell_type": "markdown",
   "metadata": {},
   "source": [
    "#### Newly Created Features"
   ]
  },
  {
   "cell_type": "code",
   "execution_count": 450,
   "metadata": {},
   "outputs": [],
   "source": [
    "## Create a new feature for Square feet of the porch.\n",
    "\n",
    "## Add Together these columns:\n",
    "\n",
    "##-Open Porch SF (Continuous): Open porch area in square feet\n",
    "\n",
    "##-Enclosed Porch (Continuous): Enclosed porch area in square feet\n",
    "\n",
    "##-3-Ssn Porch (Continuous): Three season porch area in square feet\n",
    "\n",
    "##-Screen Porch (Continuous): Screen porch area in square feet\n",
    "\n",
    "def feature_engineers(df):\n",
    "        df['SqftPorch'] = df['Open Porch SF'] + df['Enclosed Porch'] + df['3Ssn Porch'] + df['Screen Porch']\n",
    "        df['TotalSqFt'] = df['Total Bsmt SF'] + df['1st Flr SF'] + df['2nd Flr SF']\n",
    "        df['totalbathroom'] = df['Bsmt Full Bath'] + .5 * df['Bsmt Half Bath']+ df['Full Bath'] + .5 * df['Half Bath']\n",
    "        df['Garage Interaction']= df['Garage Qual'] * df['Garage Cars']\n",
    "        df['average room size'] = df['GRlivingArealog']/ (np.log(df['TotRms AbvGrd']))\n",
    "        df['Ability to Build Landscape'] = df['Lot Shape'] * df['Land Contour_Lvl']\n",
    "\n",
    "        \n",
    "feature_engineers(ames_train)\n",
    "\n",
    "feature_engineers(ames_validation)\n",
    "\n"
   ]
  },
  {
   "cell_type": "code",
   "execution_count": 451,
   "metadata": {},
   "outputs": [
    {
     "data": {
      "text/html": [
       "<div>\n",
       "<style scoped>\n",
       "    .dataframe tbody tr th:only-of-type {\n",
       "        vertical-align: middle;\n",
       "    }\n",
       "\n",
       "    .dataframe tbody tr th {\n",
       "        vertical-align: top;\n",
       "    }\n",
       "\n",
       "    .dataframe thead th {\n",
       "        text-align: right;\n",
       "    }\n",
       "</style>\n",
       "<table border=\"1\" class=\"dataframe\">\n",
       "  <thead>\n",
       "    <tr style=\"text-align: right;\">\n",
       "      <th></th>\n",
       "      <th>Lot Frontage</th>\n",
       "      <th>Lot Area</th>\n",
       "      <th>Lot Shape</th>\n",
       "      <th>Utilities</th>\n",
       "      <th>Land Slope</th>\n",
       "      <th>Overall Qual</th>\n",
       "      <th>Overall Cond</th>\n",
       "      <th>Year Built</th>\n",
       "      <th>Year Remod/Add</th>\n",
       "      <th>Mas Vnr Area</th>\n",
       "      <th>...</th>\n",
       "      <th>Misc Feature_Othr</th>\n",
       "      <th>Misc Feature_Shed</th>\n",
       "      <th>Misc Feature_TenC</th>\n",
       "      <th>GRlivingArealog</th>\n",
       "      <th>SqftPorch</th>\n",
       "      <th>TotalSqFt</th>\n",
       "      <th>totalbathroom</th>\n",
       "      <th>Garage Interaction</th>\n",
       "      <th>average room size</th>\n",
       "      <th>Ability to Build Landscape</th>\n",
       "    </tr>\n",
       "  </thead>\n",
       "  <tbody>\n",
       "    <tr>\n",
       "      <th>0</th>\n",
       "      <td>0.0</td>\n",
       "      <td>13517</td>\n",
       "      <td>3</td>\n",
       "      <td>4</td>\n",
       "      <td>3</td>\n",
       "      <td>6</td>\n",
       "      <td>8</td>\n",
       "      <td>1976</td>\n",
       "      <td>2005</td>\n",
       "      <td>289.0</td>\n",
       "      <td>...</td>\n",
       "      <td>0</td>\n",
       "      <td>0</td>\n",
       "      <td>0</td>\n",
       "      <td>7.299121</td>\n",
       "      <td>44</td>\n",
       "      <td>2204.0</td>\n",
       "      <td>2.5</td>\n",
       "      <td>8.0</td>\n",
       "      <td>4.073717</td>\n",
       "      <td>3</td>\n",
       "    </tr>\n",
       "    <tr>\n",
       "      <th>1</th>\n",
       "      <td>43.0</td>\n",
       "      <td>11492</td>\n",
       "      <td>3</td>\n",
       "      <td>4</td>\n",
       "      <td>3</td>\n",
       "      <td>7</td>\n",
       "      <td>5</td>\n",
       "      <td>1996</td>\n",
       "      <td>1997</td>\n",
       "      <td>132.0</td>\n",
       "      <td>...</td>\n",
       "      <td>0</td>\n",
       "      <td>0</td>\n",
       "      <td>0</td>\n",
       "      <td>7.660114</td>\n",
       "      <td>74</td>\n",
       "      <td>3035.0</td>\n",
       "      <td>3.5</td>\n",
       "      <td>8.0</td>\n",
       "      <td>3.683736</td>\n",
       "      <td>3</td>\n",
       "    </tr>\n",
       "    <tr>\n",
       "      <th>2</th>\n",
       "      <td>68.0</td>\n",
       "      <td>7922</td>\n",
       "      <td>4</td>\n",
       "      <td>4</td>\n",
       "      <td>3</td>\n",
       "      <td>5</td>\n",
       "      <td>7</td>\n",
       "      <td>1953</td>\n",
       "      <td>2007</td>\n",
       "      <td>0.0</td>\n",
       "      <td>...</td>\n",
       "      <td>0</td>\n",
       "      <td>0</td>\n",
       "      <td>0</td>\n",
       "      <td>6.963190</td>\n",
       "      <td>52</td>\n",
       "      <td>2114.0</td>\n",
       "      <td>2.0</td>\n",
       "      <td>4.0</td>\n",
       "      <td>4.326473</td>\n",
       "      <td>4</td>\n",
       "    </tr>\n",
       "    <tr>\n",
       "      <th>3</th>\n",
       "      <td>73.0</td>\n",
       "      <td>9802</td>\n",
       "      <td>4</td>\n",
       "      <td>4</td>\n",
       "      <td>3</td>\n",
       "      <td>5</td>\n",
       "      <td>5</td>\n",
       "      <td>2006</td>\n",
       "      <td>2007</td>\n",
       "      <td>0.0</td>\n",
       "      <td>...</td>\n",
       "      <td>0</td>\n",
       "      <td>0</td>\n",
       "      <td>0</td>\n",
       "      <td>7.275172</td>\n",
       "      <td>0</td>\n",
       "      <td>1828.0</td>\n",
       "      <td>2.5</td>\n",
       "      <td>8.0</td>\n",
       "      <td>3.738699</td>\n",
       "      <td>4</td>\n",
       "    </tr>\n",
       "    <tr>\n",
       "      <th>4</th>\n",
       "      <td>82.0</td>\n",
       "      <td>14235</td>\n",
       "      <td>3</td>\n",
       "      <td>4</td>\n",
       "      <td>3</td>\n",
       "      <td>6</td>\n",
       "      <td>8</td>\n",
       "      <td>1900</td>\n",
       "      <td>1993</td>\n",
       "      <td>0.0</td>\n",
       "      <td>...</td>\n",
       "      <td>0</td>\n",
       "      <td>0</td>\n",
       "      <td>0</td>\n",
       "      <td>7.275865</td>\n",
       "      <td>59</td>\n",
       "      <td>2121.0</td>\n",
       "      <td>2.0</td>\n",
       "      <td>8.0</td>\n",
       "      <td>4.060737</td>\n",
       "      <td>3</td>\n",
       "    </tr>\n",
       "  </tbody>\n",
       "</table>\n",
       "<p>5 rows × 218 columns</p>\n",
       "</div>"
      ],
      "text/plain": [
       "   Lot Frontage  Lot Area  Lot Shape  Utilities  Land Slope  Overall Qual  \\\n",
       "0           0.0     13517          3          4           3             6   \n",
       "1          43.0     11492          3          4           3             7   \n",
       "2          68.0      7922          4          4           3             5   \n",
       "3          73.0      9802          4          4           3             5   \n",
       "4          82.0     14235          3          4           3             6   \n",
       "\n",
       "   Overall Cond  Year Built  Year Remod/Add  Mas Vnr Area  ...  \\\n",
       "0             8        1976            2005         289.0  ...   \n",
       "1             5        1996            1997         132.0  ...   \n",
       "2             7        1953            2007           0.0  ...   \n",
       "3             5        2006            2007           0.0  ...   \n",
       "4             8        1900            1993           0.0  ...   \n",
       "\n",
       "   Misc Feature_Othr  Misc Feature_Shed  Misc Feature_TenC  GRlivingArealog  \\\n",
       "0                  0                  0                  0         7.299121   \n",
       "1                  0                  0                  0         7.660114   \n",
       "2                  0                  0                  0         6.963190   \n",
       "3                  0                  0                  0         7.275172   \n",
       "4                  0                  0                  0         7.275865   \n",
       "\n",
       "   SqftPorch  TotalSqFt  totalbathroom  Garage Interaction  average room size  \\\n",
       "0         44     2204.0            2.5                 8.0           4.073717   \n",
       "1         74     3035.0            3.5                 8.0           3.683736   \n",
       "2         52     2114.0            2.0                 4.0           4.326473   \n",
       "3          0     1828.0            2.5                 8.0           3.738699   \n",
       "4         59     2121.0            2.0                 8.0           4.060737   \n",
       "\n",
       "   Ability to Build Landscape  \n",
       "0                           3  \n",
       "1                           3  \n",
       "2                           4  \n",
       "3                           4  \n",
       "4                           3  \n",
       "\n",
       "[5 rows x 218 columns]"
      ]
     },
     "execution_count": 451,
     "metadata": {},
     "output_type": "execute_result"
    }
   ],
   "source": [
    "ames_train.head()"
   ]
  },
  {
   "cell_type": "markdown",
   "metadata": {},
   "source": [
    "### Features:\n",
    "\n",
    "- Landscaping: Landscaping is a key part of a comfortable home. Especially in the midwest where people love to garden.I want to see if the shape of the lot interacted with  a level contour will affect sales price. An interaction term is used\n",
    "\n",
    "- Average Room Size - Modern homes tend to have a very large living space and are preferred by millenials. I want to see if higher the ratio has a positive impact on sales price\n",
    "\n",
    "- Created a function that shows the quality and the size of the garage. The higher the quality and bigger the size the more likely the price will be higher. A large garage could be of low quality. This is a feature that could impact sales price\n",
    "\n",
    "- Total Bathrooms- Just add each bathroom for total amount in the house\n",
    "\n",
    "- Total Square feet- Total sq feet of the house\n",
    "\n",
    "- SQ ft porch- total sq feet of the porch"
   ]
  },
  {
   "cell_type": "markdown",
   "metadata": {},
   "source": [
    "Drop columns that were used in new feature engineering. Avoid multicolinearity"
   ]
  },
  {
   "cell_type": "code",
   "execution_count": 452,
   "metadata": {},
   "outputs": [],
   "source": [
    "\n",
    "ames_train.drop(columns=['Enclosed Porch', '3Ssn Porch', \n",
    "                           'Screen Porch', 'Total Bsmt SF', \n",
    "                           '1st Flr SF', '2nd Flr SF', 'Bsmt Full Bath', 'Bsmt Half Bath', \n",
    "                           'Full Bath', 'Half Bath', 'Open Porch SF'], inplace = True)"
   ]
  },
  {
   "cell_type": "code",
   "execution_count": 453,
   "metadata": {},
   "outputs": [],
   "source": [
    "##Do the same for validations set\n",
    "ames_validation.drop(columns=['Enclosed Porch', '3Ssn Porch', \n",
    "                           'Screen Porch', 'Total Bsmt SF', \n",
    "                           '1st Flr SF', '2nd Flr SF', 'Bsmt Full Bath', 'Bsmt Half Bath', \n",
    "                           'Full Bath', 'Half Bath', 'Open Porch SF'], inplace = True)"
   ]
  },
  {
   "cell_type": "markdown",
   "metadata": {},
   "source": [
    "### Check to see which columns exist in train vs test"
   ]
  },
  {
   "cell_type": "markdown",
   "metadata": {},
   "source": [
    "ames train columns versus ames test columns"
   ]
  },
  {
   "cell_type": "code",
   "execution_count": 454,
   "metadata": {},
   "outputs": [
    {
     "data": {
      "text/plain": [
       "{'Condition 2_Feedr',\n",
       " 'Condition 2_PosN',\n",
       " 'Condition 2_RRAe',\n",
       " 'Condition 2_RRAn',\n",
       " 'Condition 2_RRNn',\n",
       " 'Exterior 1st_CBlock',\n",
       " 'Exterior 1st_ImStucc',\n",
       " 'Exterior 1st_Stone',\n",
       " 'Exterior 2nd_Stone',\n",
       " 'Heating_OthW',\n",
       " 'Heating_Wall',\n",
       " 'MS SubClass_150',\n",
       " 'MS Zoning_C (all)',\n",
       " 'Misc Feature_Gar2',\n",
       " 'Misc Feature_TenC',\n",
       " 'Neighborhood_GrnHill',\n",
       " 'Neighborhood_Landmrk',\n",
       " 'Roof Matl_CompShg',\n",
       " 'Roof Matl_Membran',\n",
       " 'SalePricelog'}"
      ]
     },
     "execution_count": 454,
     "metadata": {},
     "output_type": "execute_result"
    }
   ],
   "source": [
    "\n",
    "\n",
    "different_cols = set(ames_train.columns) - set(ames_validation.columns)\n",
    "\n",
    "\n",
    "different_cols"
   ]
  },
  {
   "cell_type": "code",
   "execution_count": 455,
   "metadata": {},
   "outputs": [],
   "source": [
    "##for loop to engineer new features in test to be 0. This will help us fit our model\n",
    "\n",
    "for missing_cols in different_cols:\n",
    "        ames_validation[missing_cols] = 0\n"
   ]
  },
  {
   "cell_type": "code",
   "execution_count": 456,
   "metadata": {
    "scrolled": true
   },
   "outputs": [
    {
     "data": {
      "text/plain": [
       "{'Exterior 1st_PreCast',\n",
       " 'Exterior 2nd_Other',\n",
       " 'Exterior 2nd_PreCast',\n",
       " 'Heating_GasA',\n",
       " 'Mas Vnr Type_CBlock',\n",
       " 'Roof Matl_Metal',\n",
       " 'Roof Matl_Roll',\n",
       " 'Sale Type_VWD'}"
      ]
     },
     "execution_count": 456,
     "metadata": {},
     "output_type": "execute_result"
    }
   ],
   "source": [
    "##Check to see different columns\n",
    "\n",
    "different_cols_test = set(ames_validation.columns) - set(ames_train.columns)\n",
    "different_cols_test"
   ]
  },
  {
   "cell_type": "code",
   "execution_count": 457,
   "metadata": {},
   "outputs": [],
   "source": [
    "##Do the same on the train set\n",
    "for missing_cols in different_cols_test:\n",
    "    ames_train[missing_cols] = 0\n"
   ]
  },
  {
   "cell_type": "code",
   "execution_count": 458,
   "metadata": {},
   "outputs": [
    {
     "data": {
      "text/plain": [
       "(2051, 215)"
      ]
     },
     "execution_count": 458,
     "metadata": {},
     "output_type": "execute_result"
    }
   ],
   "source": [
    "#.shape\n",
    "\n",
    "ames_train.shape"
   ]
  },
  {
   "cell_type": "code",
   "execution_count": 459,
   "metadata": {
    "scrolled": true
   },
   "outputs": [
    {
     "data": {
      "text/plain": [
       "(878, 215)"
      ]
     },
     "execution_count": 459,
     "metadata": {},
     "output_type": "execute_result"
    }
   ],
   "source": [
    "\n",
    "\n",
    "ames_validation.shape"
   ]
  },
  {
   "cell_type": "markdown",
   "metadata": {},
   "source": [
    "Shape is the same"
   ]
  },
  {
   "cell_type": "markdown",
   "metadata": {},
   "source": [
    "Order the columns to make it equal"
   ]
  },
  {
   "cell_type": "code",
   "execution_count": 460,
   "metadata": {},
   "outputs": [],
   "source": [
    "ames_validation = ames_validation[ames_train.columns]"
   ]
  },
  {
   "cell_type": "markdown",
   "metadata": {},
   "source": [
    "- Heatmap for correlations with ordinals and new features\n",
    "- Making those columns numeric and dummyfying thme helps enhance features."
   ]
  },
  {
   "cell_type": "code",
   "execution_count": 461,
   "metadata": {
    "scrolled": true
   },
   "outputs": [
    {
     "data": {
      "text/plain": [
       "<matplotlib.axes._subplots.AxesSubplot at 0x1c28305b50>"
      ]
     },
     "execution_count": 461,
     "metadata": {},
     "output_type": "execute_result"
    },
    {
     "data": {
      "image/png": "[encoded data removed]",
      "text/plain": [
       "<Figure size 864x864 with 2 Axes>"
      ]
     },
     "metadata": {
      "needs_background": "light"
     },
     "output_type": "display_data"
    }
   ],
   "source": [
    "\n",
    "\n",
    "plt.figure(figsize=(12,12))\n",
    "plt.title(\"Correlation Matrix\")\n",
    "sns.heatmap(ames_train.corr()[['SalePricelog']].sort_values('SalePricelog', ascending = False).head(15), \n",
    "            annot = True, cmap = \"coolwarm\", vmax = 1, vmin = -1)"
   ]
  },
  {
   "cell_type": "markdown",
   "metadata": {},
   "source": [
    "#### The correlation heat map shows that certain ordinals and new engineered features actually make an impact on sales price.\n",
    "\n",
    "- Total Square Feet- High correlation with sale price\n",
    "\n",
    "- Garage Interaction- Newly Engineered feature. Shows that a high quality spacious garage affects sales price\n",
    "\n",
    "- Kitchen Quality- Everyone wants a nice kitchen. Ordinal column that affects sale price\n",
    "\n",
    "These terms are of interest as a basic model for predicting sales price."
   ]
  },
  {
   "cell_type": "markdown",
   "metadata": {},
   "source": [
    "## Model Preparation"
   ]
  },
  {
   "cell_type": "markdown",
   "metadata": {},
   "source": [
    "### Baseline Model"
   ]
  },
  {
   "cell_type": "markdown",
   "metadata": {},
   "source": [
    "Basline Model is to predict the average mean of y and test residuals from that. "
   ]
  },
  {
   "cell_type": "code",
   "execution_count": 462,
   "metadata": {},
   "outputs": [],
   "source": [
    "y = ames_train['SalePricelog']"
   ]
  },
  {
   "cell_type": "code",
   "execution_count": 463,
   "metadata": {},
   "outputs": [],
   "source": [
    "baseline = y.mean()\n",
    "# store $ residuals from model 1\n",
    "resids_baseline = np.exp(y) - np.exp(baseline)"
   ]
  },
  {
   "cell_type": "markdown",
   "metadata": {},
   "source": [
    "### Linear  Model 1"
   ]
  },
  {
   "cell_type": "markdown",
   "metadata": {},
   "source": [
    "#### Feature Selection: First Model\n",
    "\n",
    "I decided to use the features with the highest correlation from the heat map. I decided to to do this to test these features and see if I can get a high R squared. There is a limitation with this model. I wanted to test linearity between X and Y and look to see if these variables have a linear relationship with sales price"
   ]
  },
  {
   "cell_type": "code",
   "execution_count": 464,
   "metadata": {},
   "outputs": [],
   "source": [
    "features = ['Overall Qual', 'TotalSqFt', 'GRlivingArealog', 'Exter Qual', 'Garage Interaction', 'Kitchen Qual',\n",
    "           \n",
    "           'Garage Cars', 'totalbathroom', 'Garage Area', 'Bsmt Qual', 'Year Built', 'Year Remod/Add', \n",
    "            'Garage Finish', 'Foundation_PConc', 'Ability to Build Landscape', ]\n"
   ]
  },
  {
   "cell_type": "code",
   "execution_count": 465,
   "metadata": {},
   "outputs": [
    {
     "name": "stdout",
     "output_type": "stream",
     "text": [
      "[0.82364264 0.84002844 0.8477822 ]\n",
      "0.8371510955555727\n"
     ]
    }
   ],
   "source": [
    "X = ames_train[features]\n",
    "y = ames_train['SalePricelog']\n",
    "X_train, X_test, y_train, y_test = train_test_split(X, y, \n",
    "                                                    random_state = 35)\n",
    "\n",
    "\n",
    "lr = LinearRegression()\n",
    "print(cross_val_score(lr, X_train, y_train, cv=3))\n",
    "print(cross_val_score(lr, X_train, y_train, cv=3).mean())"
   ]
  },
  {
   "cell_type": "code",
   "execution_count": 466,
   "metadata": {},
   "outputs": [
    {
     "data": {
      "text/plain": [
       "LinearRegression(copy_X=True, fit_intercept=True, n_jobs=None, normalize=False)"
      ]
     },
     "execution_count": 466,
     "metadata": {},
     "output_type": "execute_result"
    }
   ],
   "source": [
    "lr.fit(X,y)"
   ]
  },
  {
   "cell_type": "code",
   "execution_count": 467,
   "metadata": {},
   "outputs": [
    {
     "name": "stdout",
     "output_type": "stream",
     "text": [
      "Training Set R^2 Score is: 0.844\n",
      "Testing Set R^2 Score is: 0.842\n"
     ]
    }
   ],
   "source": [
    "pred_train = lr.predict(X_train) \n",
    "                                      \n",
    "pred_test = lr.predict(X_test)   \n",
    "\n",
    "# Score it and round to 3 dp\n",
    "print(\"Training Set R^2 Score is:\", np.round(lr.score(X_train, y_train),3))\n",
    "print(\"Testing Set R^2 Score is:\", np.round(lr.score(X_test, y_test),3))"
   ]
  },
  {
   "cell_type": "markdown",
   "metadata": {},
   "source": [
    "##### Analysis of Model 1.\n",
    "\n",
    "It seems that 84% of the varaince of the data can be explained by the training model. And 82% of the variance of the data can be explained by the testing set. The limitation of this model is that it repersents high bias. I decided to reduce the features(x values to 15 features compared to the total of 218. The next model will include all features to improve R squared"
   ]
  },
  {
   "cell_type": "code",
   "execution_count": 468,
   "metadata": {},
   "outputs": [],
   "source": [
    "def plot_predictions(model_name, y_train_pred ,y_train_actual):\n",
    "    plt.scatter(y_train_actual, y_train_pred, c = \"blue\", marker = \"s\", label = \"Training data\")\n",
    "    plt.title(\"Regression Sales Price\")\n",
    "    plt.xlabel(\"$\\hat{y}$ = Actual SalePrice($)\")\n",
    "    plt.ylabel(\"$y$ = Predicted SalePrice($)\")\n",
    "    plt.legend(loc = \"upper left\")\n",
    "    plt.plot([y_train_actual.min(), y_train_actual.max()], [y_train_actual.min(), y_train_actual.max()], c='red')\n",
    "    plt.tight_layout()"
   ]
  },
  {
   "cell_type": "code",
   "execution_count": 469,
   "metadata": {},
   "outputs": [
    {
     "data": {
      "image/png": "[encoded data removed]",
      "text/plain": [
       "<Figure size 432x288 with 1 Axes>"
      ]
     },
     "metadata": {
      "needs_background": "light"
     },
     "output_type": "display_data"
    }
   ],
   "source": [
    "plot_predictions(lr, np.exp(pred_test), np.exp(y_test))"
   ]
  },
  {
   "cell_type": "markdown",
   "metadata": {},
   "source": [
    "#### Analysis of Actual vs Predicted\n",
    "\n",
    "The graph shows that many of the values are represented by the line of best fit(actual = predicted). One observation I made from this graph is that the model is unable to predict at higher sales prices. This could be due to the fact that we dont have a good sense of the willigness and behavior of consumers. The behavioral factors of customers are a major indicator of the sales price of homes. For tax purposes, we can predict sales price and have a good forecast of capital gains at year end. Will improve model to test all features"
   ]
  },
  {
   "cell_type": "code",
   "execution_count": 470,
   "metadata": {},
   "outputs": [],
   "source": [
    "residuals_1 = np.exp(y_test)- np.exp(pred_test)"
   ]
  },
  {
   "cell_type": "code",
   "execution_count": 471,
   "metadata": {},
   "outputs": [
    {
     "data": {
      "text/plain": [
       "Text(0.5, 1.0, 'Model 1 Residuals by Sale Price')"
      ]
     },
     "execution_count": 471,
     "metadata": {},
     "output_type": "execute_result"
    },
    {
     "data": {
      "image/png": "[encoded data removed]",
      "text/plain": [
       "<Figure size 432x288 with 1 Axes>"
      ]
     },
     "metadata": {
      "needs_background": "light"
     },
     "output_type": "display_data"
    }
   ],
   "source": [
    "plt.scatter(range(len(residuals_1)), residuals_1)\n",
    "plt.axhline(0,color = 'red')\n",
    "plt.xlabel(\"Index of Residuals\", fontsize = 20)\n",
    "plt.ylabel(\"Residuals($): $y$\", fontsize = 20)\n",
    "plt.title('Model 1 Residuals by Sale Price', fontsize = 24)"
   ]
  },
  {
   "cell_type": "markdown",
   "metadata": {},
   "source": [
    "### Model 2"
   ]
  },
  {
   "cell_type": "markdown",
   "metadata": {},
   "source": [
    "#### Select Features. Instantiate Model\n",
    "\n",
    "I decided to use all the features given in the data set. I decided to to do this to test all features and see if more of the variance in the data can be explained by our model. In addition, I believe adding all the features will better predict houses at higher sales prices because it reperesents different customer tastes. The marginal increase of sales price from each feature will be shown with this model."
   ]
  },
  {
   "cell_type": "code",
   "execution_count": 472,
   "metadata": {},
   "outputs": [],
   "source": [
    "##set x value by dropping sales price log. Want to have all features\n",
    "\n",
    "ames_x = ames_train.drop('SalePricelog', axis = 1)\n",
    "ames_validation = ames_validation.drop('SalePricelog', axis = 1)"
   ]
  },
  {
   "cell_type": "markdown",
   "metadata": {},
   "source": [
    "##### Keep all features for first model and asses r squared score. This will help us understand how our model fits the data. We want more than 90% of the data to be explained by the model. Use Cross val score with different partitions of training and test.\n"
   ]
  },
  {
   "cell_type": "code",
   "execution_count": 473,
   "metadata": {},
   "outputs": [
    {
     "name": "stdout",
     "output_type": "stream",
     "text": [
      "[0.83594927 0.81776433 0.80469614]\n",
      "0.819469917063656\n"
     ]
    }
   ],
   "source": [
    "\n",
    "\n",
    "X = ames_x\n",
    "y = ames_train['SalePricelog']\n",
    "X_train, X_test, y_train, y_test = train_test_split(X, y, \n",
    "                                                    random_state = 35)\n",
    "\n",
    "\n",
    "lr = LinearRegression()\n",
    "print(cross_val_score(lr, X_train, y_train, cv=3))\n",
    "print(cross_val_score(lr, X_train, y_train, cv=3).mean())"
   ]
  },
  {
   "cell_type": "markdown",
   "metadata": {},
   "source": [
    "#### Fit Model"
   ]
  },
  {
   "cell_type": "code",
   "execution_count": 474,
   "metadata": {},
   "outputs": [
    {
     "data": {
      "text/plain": [
       "LinearRegression(copy_X=True, fit_intercept=True, n_jobs=None, normalize=False)"
      ]
     },
     "execution_count": 474,
     "metadata": {},
     "output_type": "execute_result"
    }
   ],
   "source": [
    "##fit model\n",
    "lr.fit(X,y)"
   ]
  },
  {
   "cell_type": "markdown",
   "metadata": {},
   "source": [
    "#### Predict"
   ]
  },
  {
   "cell_type": "code",
   "execution_count": 475,
   "metadata": {
    "scrolled": true
   },
   "outputs": [
    {
     "name": "stdout",
     "output_type": "stream",
     "text": [
      "Training Set R^2 Score is: 0.937\n",
      "Testing Set R^2 Score is: 0.948\n"
     ]
    }
   ],
   "source": [
    "##predict on validation set. \n",
    "\n",
    "yhat_train = lr.predict(X_train) \n",
    "                                      \n",
    "yhat_test = lr.predict(X_test)   \n",
    "\n",
    "# Score it and round to 3 dp\n",
    "print(\"Training Set R^2 Score is:\", np.round(lr.score(X_train, y_train),3))\n",
    "print(\"Testing Set R^2 Score is:\", np.round(lr.score(X_test, y_test),3))"
   ]
  },
  {
   "cell_type": "markdown",
   "metadata": {},
   "source": [
    "##### Analysis of Model 2\n",
    "\n",
    "It seems that 93.7% of the varaince in the data can be explained by the training model. And 94.8% of the variance of the data can be explained by the testing set. Due to time constraints, I wasnt able to create a function that evaluated the model one feature by one feature. To enhance this, I would create a function that added features one by one to find the most optimal model. I decided to increase the features(x values to 218 features compared to the total of 15. "
   ]
  },
  {
   "cell_type": "code",
   "execution_count": 476,
   "metadata": {
    "scrolled": true
   },
   "outputs": [
    {
     "data": {
      "image/png": "[encoded data removed]",
      "text/plain": [
       "<Figure size 432x288 with 1 Axes>"
      ]
     },
     "metadata": {
      "needs_background": "light"
     },
     "output_type": "display_data"
    }
   ],
   "source": [
    "plot_predictions(lr, np.exp(yhat_test), np.exp(y_test))"
   ]
  },
  {
   "cell_type": "markdown",
   "metadata": {},
   "source": [
    "#### Analysis of Actual vs Predicted\n",
    "\n",
    "The graph shows that many of the values are represented by the line of best fit(actual = predicted). One observation I made from this model 2 graph is that the model is better able to predict at higher sales prices than the previous model. This could be due to the fact that we have a better sense that the increase in factors actually help us have a better understanding of consumer behavior. The behavioral factors of customers are a major indicator of the sales price of homes. For tax purposes, our model 2 is best suited to predict capital gains at year end. Will test lasso and ridge for regularization"
   ]
  },
  {
   "cell_type": "markdown",
   "metadata": {},
   "source": [
    "#### Find coeficients for model. \n",
    "\n",
    "We want to see which variables have a pvalue less than 5% for statistical significance on predicting sales\n",
    "price. This could help us identify non sig variables and use this to trim model"
   ]
  },
  {
   "cell_type": "code",
   "execution_count": 477,
   "metadata": {
    "scrolled": true
   },
   "outputs": [
    {
     "data": {
      "text/html": [
       "<table class=\"simpletable\">\n",
       "<caption>OLS Regression Results</caption>\n",
       "<tr>\n",
       "  <th>Dep. Variable:</th>      <td>SalePricelog</td>   <th>  R-squared:         </th> <td>   0.940</td>\n",
       "</tr>\n",
       "<tr>\n",
       "  <th>Model:</th>                   <td>OLS</td>       <th>  Adj. R-squared:    </th> <td>   0.933</td>\n",
       "</tr>\n",
       "<tr>\n",
       "  <th>Method:</th>             <td>Least Squares</td>  <th>  F-statistic:       </th> <td>   140.9</td>\n",
       "</tr>\n",
       "<tr>\n",
       "  <th>Date:</th>             <td>Mon, 20 Jan 2020</td> <th>  Prob (F-statistic):</th>  <td>  0.00</td> \n",
       "</tr>\n",
       "<tr>\n",
       "  <th>Time:</th>                 <td>15:30:16</td>     <th>  Log-Likelihood:    </th> <td>  1796.9</td>\n",
       "</tr>\n",
       "<tr>\n",
       "  <th>No. Observations:</th>      <td>  2051</td>      <th>  AIC:               </th> <td>  -3182.</td>\n",
       "</tr>\n",
       "<tr>\n",
       "  <th>Df Residuals:</th>          <td>  1845</td>      <th>  BIC:               </th> <td>  -2023.</td>\n",
       "</tr>\n",
       "<tr>\n",
       "  <th>Df Model:</th>              <td>   205</td>      <th>                     </th>     <td> </td>   \n",
       "</tr>\n",
       "<tr>\n",
       "  <th>Covariance Type:</th>      <td>nonrobust</td>    <th>                     </th>     <td> </td>   \n",
       "</tr>\n",
       "</table>\n",
       "<table class=\"simpletable\">\n",
       "<tr>\n",
       "               <td></td>                 <th>coef</th>     <th>std err</th>      <th>t</th>      <th>P>|t|</th>  <th>[0.025</th>    <th>0.975]</th>  \n",
       "</tr>\n",
       "<tr>\n",
       "  <th>Lot Frontage</th>               <td>    0.0002</td> <td> 9.15e-05</td> <td>    1.848</td> <td> 0.065</td> <td>-1.04e-05</td> <td>    0.000</td>\n",
       "</tr>\n",
       "<tr>\n",
       "  <th>Lot Area</th>                   <td> 3.438e-06</td> <td> 5.37e-07</td> <td>    6.399</td> <td> 0.000</td> <td> 2.38e-06</td> <td> 4.49e-06</td>\n",
       "</tr>\n",
       "<tr>\n",
       "  <th>Lot Shape</th>                  <td>    0.0047</td> <td>    0.015</td> <td>    0.312</td> <td> 0.755</td> <td>   -0.025</td> <td>    0.034</td>\n",
       "</tr>\n",
       "<tr>\n",
       "  <th>Utilities</th>                  <td>    0.1122</td> <td>    0.063</td> <td>    1.786</td> <td> 0.074</td> <td>   -0.011</td> <td>    0.235</td>\n",
       "</tr>\n",
       "<tr>\n",
       "  <th>Land Slope</th>                 <td>    0.0041</td> <td>    0.014</td> <td>    0.301</td> <td> 0.764</td> <td>   -0.022</td> <td>    0.031</td>\n",
       "</tr>\n",
       "<tr>\n",
       "  <th>Overall Qual</th>               <td>    0.0445</td> <td>    0.004</td> <td>   11.459</td> <td> 0.000</td> <td>    0.037</td> <td>    0.052</td>\n",
       "</tr>\n",
       "<tr>\n",
       "  <th>Overall Cond</th>               <td>    0.0425</td> <td>    0.003</td> <td>   12.908</td> <td> 0.000</td> <td>    0.036</td> <td>    0.049</td>\n",
       "</tr>\n",
       "<tr>\n",
       "  <th>Year Built</th>                 <td>    0.0022</td> <td>    0.000</td> <td>    7.240</td> <td> 0.000</td> <td>    0.002</td> <td>    0.003</td>\n",
       "</tr>\n",
       "<tr>\n",
       "  <th>Year Remod/Add</th>             <td>    0.0005</td> <td>    0.000</td> <td>    2.170</td> <td> 0.030</td> <td>  4.4e-05</td> <td>    0.001</td>\n",
       "</tr>\n",
       "<tr>\n",
       "  <th>Mas Vnr Area</th>               <td> 5.691e-05</td> <td> 2.31e-05</td> <td>    2.462</td> <td> 0.014</td> <td> 1.16e-05</td> <td>    0.000</td>\n",
       "</tr>\n",
       "<tr>\n",
       "  <th>Exter Qual</th>                 <td>    0.0179</td> <td>    0.008</td> <td>    2.217</td> <td> 0.027</td> <td>    0.002</td> <td>    0.034</td>\n",
       "</tr>\n",
       "<tr>\n",
       "  <th>Exter Cond</th>                 <td>   -0.0046</td> <td>    0.008</td> <td>   -0.587</td> <td> 0.557</td> <td>   -0.020</td> <td>    0.011</td>\n",
       "</tr>\n",
       "<tr>\n",
       "  <th>Bsmt Qual</th>                  <td>    0.0068</td> <td>    0.006</td> <td>    1.096</td> <td> 0.273</td> <td>   -0.005</td> <td>    0.019</td>\n",
       "</tr>\n",
       "<tr>\n",
       "  <th>Bsmt Cond</th>                  <td>    0.0004</td> <td>    0.007</td> <td>    0.060</td> <td> 0.952</td> <td>   -0.014</td> <td>    0.015</td>\n",
       "</tr>\n",
       "<tr>\n",
       "  <th>Bsmt Exposure</th>              <td>    0.0127</td> <td>    0.003</td> <td>    3.939</td> <td> 0.000</td> <td>    0.006</td> <td>    0.019</td>\n",
       "</tr>\n",
       "<tr>\n",
       "  <th>BsmtFin Type 1</th>             <td>    0.0035</td> <td>    0.002</td> <td>    1.829</td> <td> 0.068</td> <td>   -0.000</td> <td>    0.007</td>\n",
       "</tr>\n",
       "<tr>\n",
       "  <th>BsmtFin SF 1</th>               <td> 3.666e-05</td> <td> 3.87e-05</td> <td>    0.948</td> <td> 0.343</td> <td>-3.92e-05</td> <td>    0.000</td>\n",
       "</tr>\n",
       "<tr>\n",
       "  <th>BsmtFin Type 2</th>             <td>   -0.0032</td> <td>    0.004</td> <td>   -0.733</td> <td> 0.464</td> <td>   -0.012</td> <td>    0.005</td>\n",
       "</tr>\n",
       "<tr>\n",
       "  <th>BsmtFin SF 2</th>               <td> 1.116e-05</td> <td> 4.55e-05</td> <td>    0.245</td> <td> 0.806</td> <td>-7.81e-05</td> <td>    0.000</td>\n",
       "</tr>\n",
       "<tr>\n",
       "  <th>Bsmt Unf SF</th>                <td>-3.663e-05</td> <td> 3.83e-05</td> <td>   -0.957</td> <td> 0.339</td> <td>   -0.000</td> <td> 3.85e-05</td>\n",
       "</tr>\n",
       "<tr>\n",
       "  <th>Heating QC</th>                 <td>    0.0102</td> <td>    0.004</td> <td>    2.832</td> <td> 0.005</td> <td>    0.003</td> <td>    0.017</td>\n",
       "</tr>\n",
       "<tr>\n",
       "  <th>Electrical</th>                 <td>   -0.0077</td> <td>    0.007</td> <td>   -1.056</td> <td> 0.291</td> <td>   -0.022</td> <td>    0.007</td>\n",
       "</tr>\n",
       "<tr>\n",
       "  <th>Low Qual Fin SF</th>            <td> 2.315e-05</td> <td> 6.43e-05</td> <td>    0.360</td> <td> 0.719</td> <td>   -0.000</td> <td>    0.000</td>\n",
       "</tr>\n",
       "<tr>\n",
       "  <th>Bedroom AbvGr</th>              <td>   -0.0089</td> <td>    0.005</td> <td>   -1.780</td> <td> 0.075</td> <td>   -0.019</td> <td>    0.001</td>\n",
       "</tr>\n",
       "<tr>\n",
       "  <th>Kitchen AbvGr</th>              <td>   -0.0188</td> <td>    0.025</td> <td>   -0.760</td> <td> 0.447</td> <td>   -0.067</td> <td>    0.030</td>\n",
       "</tr>\n",
       "<tr>\n",
       "  <th>Kitchen Qual</th>               <td>    0.0210</td> <td>    0.006</td> <td>    3.369</td> <td> 0.001</td> <td>    0.009</td> <td>    0.033</td>\n",
       "</tr>\n",
       "<tr>\n",
       "  <th>TotRms AbvGrd</th>              <td>    0.0067</td> <td>    0.007</td> <td>    0.999</td> <td> 0.318</td> <td>   -0.006</td> <td>    0.020</td>\n",
       "</tr>\n",
       "<tr>\n",
       "  <th>Functional</th>                 <td>    0.0347</td> <td>    0.004</td> <td>    8.369</td> <td> 0.000</td> <td>    0.027</td> <td>    0.043</td>\n",
       "</tr>\n",
       "<tr>\n",
       "  <th>Fireplaces</th>                 <td>    0.0144</td> <td>    0.009</td> <td>    1.676</td> <td> 0.094</td> <td>   -0.002</td> <td>    0.031</td>\n",
       "</tr>\n",
       "<tr>\n",
       "  <th>Fireplace Qu</th>               <td>    0.0008</td> <td>    0.003</td> <td>    0.270</td> <td> 0.787</td> <td>   -0.005</td> <td>    0.007</td>\n",
       "</tr>\n",
       "<tr>\n",
       "  <th>Garage Yr Blt</th>              <td>-3.835e-05</td> <td>  6.9e-05</td> <td>   -0.556</td> <td> 0.578</td> <td>   -0.000</td> <td>  9.7e-05</td>\n",
       "</tr>\n",
       "<tr>\n",
       "  <th>Garage Finish</th>              <td>   -0.0016</td> <td>    0.005</td> <td>   -0.348</td> <td> 0.728</td> <td>   -0.011</td> <td>    0.007</td>\n",
       "</tr>\n",
       "<tr>\n",
       "  <th>Garage Cars</th>                <td>   -0.1153</td> <td>    0.064</td> <td>   -1.814</td> <td> 0.070</td> <td>   -0.240</td> <td>    0.009</td>\n",
       "</tr>\n",
       "<tr>\n",
       "  <th>Garage Area</th>                <td> 1.374e-05</td> <td>    3e-05</td> <td>    0.458</td> <td> 0.647</td> <td>-4.51e-05</td> <td> 7.26e-05</td>\n",
       "</tr>\n",
       "<tr>\n",
       "  <th>Garage Qual</th>                <td>   -0.0186</td> <td>    0.027</td> <td>   -0.690</td> <td> 0.490</td> <td>   -0.071</td> <td>    0.034</td>\n",
       "</tr>\n",
       "<tr>\n",
       "  <th>Garage Cond</th>                <td>    0.0456</td> <td>    0.014</td> <td>    3.251</td> <td> 0.001</td> <td>    0.018</td> <td>    0.073</td>\n",
       "</tr>\n",
       "<tr>\n",
       "  <th>Paved Drive</th>                <td>    0.0228</td> <td>    0.006</td> <td>    3.701</td> <td> 0.000</td> <td>    0.011</td> <td>    0.035</td>\n",
       "</tr>\n",
       "<tr>\n",
       "  <th>Wood Deck SF</th>               <td> 5.942e-05</td> <td> 2.21e-05</td> <td>    2.691</td> <td> 0.007</td> <td> 1.61e-05</td> <td>    0.000</td>\n",
       "</tr>\n",
       "<tr>\n",
       "  <th>Pool Area</th>                  <td> 7.898e-05</td> <td>    0.000</td> <td>    0.479</td> <td> 0.632</td> <td>   -0.000</td> <td>    0.000</td>\n",
       "</tr>\n",
       "<tr>\n",
       "  <th>Pool QC</th>                    <td>   -0.0059</td> <td>    0.027</td> <td>   -0.223</td> <td> 0.824</td> <td>   -0.058</td> <td>    0.046</td>\n",
       "</tr>\n",
       "<tr>\n",
       "  <th>Fence</th>                      <td>   -0.0005</td> <td>    0.002</td> <td>   -0.223</td> <td> 0.824</td> <td>   -0.005</td> <td>    0.004</td>\n",
       "</tr>\n",
       "<tr>\n",
       "  <th>Misc Val</th>                   <td> 6.473e-06</td> <td> 1.15e-05</td> <td>    0.564</td> <td> 0.573</td> <td> -1.6e-05</td> <td>  2.9e-05</td>\n",
       "</tr>\n",
       "<tr>\n",
       "  <th>Mo Sold</th>                    <td>   -0.0005</td> <td>    0.001</td> <td>   -0.569</td> <td> 0.569</td> <td>   -0.002</td> <td>    0.001</td>\n",
       "</tr>\n",
       "<tr>\n",
       "  <th>Yr Sold</th>                    <td>   -0.0049</td> <td>    0.002</td> <td>   -2.496</td> <td> 0.013</td> <td>   -0.009</td> <td>   -0.001</td>\n",
       "</tr>\n",
       "<tr>\n",
       "  <th>MS SubClass_150</th>            <td>   -0.2236</td> <td>    0.124</td> <td>   -1.798</td> <td> 0.072</td> <td>   -0.468</td> <td>    0.020</td>\n",
       "</tr>\n",
       "<tr>\n",
       "  <th>MS SubClass_160</th>            <td>   -0.0644</td> <td>    0.035</td> <td>   -1.847</td> <td> 0.065</td> <td>   -0.133</td> <td>    0.004</td>\n",
       "</tr>\n",
       "<tr>\n",
       "  <th>MS SubClass_180</th>            <td>   -0.0400</td> <td>    0.054</td> <td>   -0.738</td> <td> 0.461</td> <td>   -0.146</td> <td>    0.066</td>\n",
       "</tr>\n",
       "<tr>\n",
       "  <th>MS SubClass_190</th>            <td>   -0.0466</td> <td>    0.100</td> <td>   -0.468</td> <td> 0.640</td> <td>   -0.242</td> <td>    0.149</td>\n",
       "</tr>\n",
       "<tr>\n",
       "  <th>MS SubClass_20</th>             <td>    0.0529</td> <td>    0.056</td> <td>    0.938</td> <td> 0.349</td> <td>   -0.058</td> <td>    0.163</td>\n",
       "</tr>\n",
       "<tr>\n",
       "  <th>MS SubClass_30</th>             <td>    0.0252</td> <td>    0.059</td> <td>    0.429</td> <td> 0.668</td> <td>   -0.090</td> <td>    0.141</td>\n",
       "</tr>\n",
       "<tr>\n",
       "  <th>MS SubClass_40</th>             <td>    0.0421</td> <td>    0.080</td> <td>    0.523</td> <td> 0.601</td> <td>   -0.116</td> <td>    0.200</td>\n",
       "</tr>\n",
       "<tr>\n",
       "  <th>MS SubClass_45</th>             <td>    0.2070</td> <td>    0.096</td> <td>    2.157</td> <td> 0.031</td> <td>    0.019</td> <td>    0.395</td>\n",
       "</tr>\n",
       "<tr>\n",
       "  <th>MS SubClass_50</th>             <td>    0.0790</td> <td>    0.066</td> <td>    1.195</td> <td> 0.232</td> <td>   -0.051</td> <td>    0.209</td>\n",
       "</tr>\n",
       "<tr>\n",
       "  <th>MS SubClass_60</th>             <td>    0.0340</td> <td>    0.063</td> <td>    0.541</td> <td> 0.588</td> <td>   -0.089</td> <td>    0.157</td>\n",
       "</tr>\n",
       "<tr>\n",
       "  <th>MS SubClass_70</th>             <td>    0.0929</td> <td>    0.064</td> <td>    1.451</td> <td> 0.147</td> <td>   -0.033</td> <td>    0.219</td>\n",
       "</tr>\n",
       "<tr>\n",
       "  <th>MS SubClass_75</th>             <td>    0.0865</td> <td>    0.082</td> <td>    1.057</td> <td> 0.291</td> <td>   -0.074</td> <td>    0.247</td>\n",
       "</tr>\n",
       "<tr>\n",
       "  <th>MS SubClass_80</th>             <td>   -0.0095</td> <td>    0.078</td> <td>   -0.122</td> <td> 0.903</td> <td>   -0.162</td> <td>    0.143</td>\n",
       "</tr>\n",
       "<tr>\n",
       "  <th>MS SubClass_85</th>             <td>    0.0438</td> <td>    0.069</td> <td>    0.633</td> <td> 0.527</td> <td>   -0.092</td> <td>    0.180</td>\n",
       "</tr>\n",
       "<tr>\n",
       "  <th>MS SubClass_90</th>             <td>   -0.0151</td> <td>    0.032</td> <td>   -0.477</td> <td> 0.633</td> <td>   -0.077</td> <td>    0.047</td>\n",
       "</tr>\n",
       "<tr>\n",
       "  <th>MS Zoning_C (all)</th>          <td>    0.7375</td> <td>    0.119</td> <td>    6.206</td> <td> 0.000</td> <td>    0.504</td> <td>    0.971</td>\n",
       "</tr>\n",
       "<tr>\n",
       "  <th>MS Zoning_FV</th>               <td>    0.9925</td> <td>    0.118</td> <td>    8.402</td> <td> 0.000</td> <td>    0.761</td> <td>    1.224</td>\n",
       "</tr>\n",
       "<tr>\n",
       "  <th>MS Zoning_I (all)</th>          <td>    0.9990</td> <td>    0.179</td> <td>    5.593</td> <td> 0.000</td> <td>    0.649</td> <td>    1.349</td>\n",
       "</tr>\n",
       "<tr>\n",
       "  <th>MS Zoning_RH</th>               <td>    1.0007</td> <td>    0.121</td> <td>    8.256</td> <td> 0.000</td> <td>    0.763</td> <td>    1.238</td>\n",
       "</tr>\n",
       "<tr>\n",
       "  <th>MS Zoning_RL</th>               <td>    0.9660</td> <td>    0.115</td> <td>    8.368</td> <td> 0.000</td> <td>    0.740</td> <td>    1.192</td>\n",
       "</tr>\n",
       "<tr>\n",
       "  <th>MS Zoning_RM</th>               <td>    0.9228</td> <td>    0.116</td> <td>    7.977</td> <td> 0.000</td> <td>    0.696</td> <td>    1.150</td>\n",
       "</tr>\n",
       "<tr>\n",
       "  <th>Street_Pave</th>                <td>    0.0764</td> <td>    0.049</td> <td>    1.551</td> <td> 0.121</td> <td>   -0.020</td> <td>    0.173</td>\n",
       "</tr>\n",
       "<tr>\n",
       "  <th>Land Contour_HLS</th>           <td>    0.0311</td> <td>    0.021</td> <td>    1.502</td> <td> 0.133</td> <td>   -0.009</td> <td>    0.072</td>\n",
       "</tr>\n",
       "<tr>\n",
       "  <th>Land Contour_Low</th>           <td>   -0.0082</td> <td>    0.025</td> <td>   -0.321</td> <td> 0.748</td> <td>   -0.058</td> <td>    0.042</td>\n",
       "</tr>\n",
       "<tr>\n",
       "  <th>Land Contour_Lvl</th>           <td>    0.0268</td> <td>    0.059</td> <td>    0.457</td> <td> 0.648</td> <td>   -0.088</td> <td>    0.142</td>\n",
       "</tr>\n",
       "<tr>\n",
       "  <th>Lot Config_CulDSac</th>         <td>    0.0144</td> <td>    0.013</td> <td>    1.139</td> <td> 0.255</td> <td>   -0.010</td> <td>    0.039</td>\n",
       "</tr>\n",
       "<tr>\n",
       "  <th>Lot Config_FR2</th>             <td>   -0.0210</td> <td>    0.016</td> <td>   -1.292</td> <td> 0.197</td> <td>   -0.053</td> <td>    0.011</td>\n",
       "</tr>\n",
       "<tr>\n",
       "  <th>Lot Config_FR3</th>             <td>   -0.0206</td> <td>    0.039</td> <td>   -0.521</td> <td> 0.602</td> <td>   -0.098</td> <td>    0.057</td>\n",
       "</tr>\n",
       "<tr>\n",
       "  <th>Lot Config_Inside</th>          <td>   -0.0005</td> <td>    0.007</td> <td>   -0.074</td> <td> 0.941</td> <td>   -0.014</td> <td>    0.013</td>\n",
       "</tr>\n",
       "<tr>\n",
       "  <th>Neighborhood_Blueste</th>       <td>    0.0649</td> <td>    0.056</td> <td>    1.158</td> <td> 0.247</td> <td>   -0.045</td> <td>    0.175</td>\n",
       "</tr>\n",
       "<tr>\n",
       "  <th>Neighborhood_BrDale</th>        <td>    0.0268</td> <td>    0.046</td> <td>    0.581</td> <td> 0.561</td> <td>   -0.064</td> <td>    0.117</td>\n",
       "</tr>\n",
       "<tr>\n",
       "  <th>Neighborhood_BrkSide</th>       <td>    0.0236</td> <td>    0.036</td> <td>    0.654</td> <td> 0.513</td> <td>   -0.047</td> <td>    0.094</td>\n",
       "</tr>\n",
       "<tr>\n",
       "  <th>Neighborhood_ClearCr</th>       <td>    0.0298</td> <td>    0.038</td> <td>    0.783</td> <td> 0.433</td> <td>   -0.045</td> <td>    0.105</td>\n",
       "</tr>\n",
       "<tr>\n",
       "  <th>Neighborhood_CollgCr</th>       <td>   -0.0171</td> <td>    0.029</td> <td>   -0.597</td> <td> 0.550</td> <td>   -0.073</td> <td>    0.039</td>\n",
       "</tr>\n",
       "<tr>\n",
       "  <th>Neighborhood_Crawfor</th>       <td>    0.0664</td> <td>    0.033</td> <td>    2.013</td> <td> 0.044</td> <td>    0.002</td> <td>    0.131</td>\n",
       "</tr>\n",
       "<tr>\n",
       "  <th>Neighborhood_Edwards</th>       <td>   -0.0547</td> <td>    0.031</td> <td>   -1.770</td> <td> 0.077</td> <td>   -0.115</td> <td>    0.006</td>\n",
       "</tr>\n",
       "<tr>\n",
       "  <th>Neighborhood_Gilbert</th>       <td>   -0.0069</td> <td>    0.030</td> <td>   -0.233</td> <td> 0.816</td> <td>   -0.065</td> <td>    0.052</td>\n",
       "</tr>\n",
       "<tr>\n",
       "  <th>Neighborhood_Greens</th>        <td>    0.0839</td> <td>    0.071</td> <td>    1.185</td> <td> 0.236</td> <td>   -0.055</td> <td>    0.223</td>\n",
       "</tr>\n",
       "<tr>\n",
       "  <th>Neighborhood_GrnHill</th>       <td>    0.5084</td> <td>    0.083</td> <td>    6.097</td> <td> 0.000</td> <td>    0.345</td> <td>    0.672</td>\n",
       "</tr>\n",
       "<tr>\n",
       "  <th>Neighborhood_IDOTRR</th>        <td>   -0.0147</td> <td>    0.040</td> <td>   -0.371</td> <td> 0.711</td> <td>   -0.092</td> <td>    0.063</td>\n",
       "</tr>\n",
       "<tr>\n",
       "  <th>Neighborhood_Landmrk</th>       <td>   -0.0133</td> <td>    0.118</td> <td>   -0.113</td> <td> 0.910</td> <td>   -0.244</td> <td>    0.218</td>\n",
       "</tr>\n",
       "<tr>\n",
       "  <th>Neighborhood_MeadowV</th>       <td>   -0.0838</td> <td>    0.045</td> <td>   -1.844</td> <td> 0.065</td> <td>   -0.173</td> <td>    0.005</td>\n",
       "</tr>\n",
       "<tr>\n",
       "  <th>Neighborhood_Mitchel</th>       <td>    0.0007</td> <td>    0.031</td> <td>    0.021</td> <td> 0.983</td> <td>   -0.060</td> <td>    0.062</td>\n",
       "</tr>\n",
       "<tr>\n",
       "  <th>Neighborhood_NAmes</th>         <td>   -0.0162</td> <td>    0.030</td> <td>   -0.534</td> <td> 0.593</td> <td>   -0.076</td> <td>    0.043</td>\n",
       "</tr>\n",
       "<tr>\n",
       "  <th>Neighborhood_NPkVill</th>       <td>   -0.0092</td> <td>    0.069</td> <td>   -0.134</td> <td> 0.894</td> <td>   -0.144</td> <td>    0.125</td>\n",
       "</tr>\n",
       "<tr>\n",
       "  <th>Neighborhood_NWAmes</th>        <td>   -0.0353</td> <td>    0.031</td> <td>   -1.124</td> <td> 0.261</td> <td>   -0.097</td> <td>    0.026</td>\n",
       "</tr>\n",
       "<tr>\n",
       "  <th>Neighborhood_NoRidge</th>       <td>    0.0373</td> <td>    0.033</td> <td>    1.132</td> <td> 0.258</td> <td>   -0.027</td> <td>    0.102</td>\n",
       "</tr>\n",
       "<tr>\n",
       "  <th>Neighborhood_NridgHt</th>       <td>    0.0708</td> <td>    0.029</td> <td>    2.444</td> <td> 0.015</td> <td>    0.014</td> <td>    0.128</td>\n",
       "</tr>\n",
       "<tr>\n",
       "  <th>Neighborhood_OldTown</th>       <td>   -0.0388</td> <td>    0.036</td> <td>   -1.067</td> <td> 0.286</td> <td>   -0.110</td> <td>    0.033</td>\n",
       "</tr>\n",
       "<tr>\n",
       "  <th>Neighborhood_SWISU</th>         <td>   -0.0473</td> <td>    0.038</td> <td>   -1.256</td> <td> 0.209</td> <td>   -0.121</td> <td>    0.027</td>\n",
       "</tr>\n",
       "<tr>\n",
       "  <th>Neighborhood_Sawyer</th>        <td>    0.0005</td> <td>    0.031</td> <td>    0.017</td> <td> 0.986</td> <td>   -0.061</td> <td>    0.062</td>\n",
       "</tr>\n",
       "<tr>\n",
       "  <th>Neighborhood_SawyerW</th>       <td>   -0.0257</td> <td>    0.030</td> <td>   -0.855</td> <td> 0.393</td> <td>   -0.085</td> <td>    0.033</td>\n",
       "</tr>\n",
       "<tr>\n",
       "  <th>Neighborhood_Somerst</th>       <td>    0.0298</td> <td>    0.034</td> <td>    0.865</td> <td> 0.387</td> <td>   -0.038</td> <td>    0.097</td>\n",
       "</tr>\n",
       "<tr>\n",
       "  <th>Neighborhood_StoneBr</th>       <td>    0.0939</td> <td>    0.033</td> <td>    2.865</td> <td> 0.004</td> <td>    0.030</td> <td>    0.158</td>\n",
       "</tr>\n",
       "<tr>\n",
       "  <th>Neighborhood_Timber</th>        <td>   -0.0053</td> <td>    0.032</td> <td>   -0.166</td> <td> 0.868</td> <td>   -0.067</td> <td>    0.057</td>\n",
       "</tr>\n",
       "<tr>\n",
       "  <th>Neighborhood_Veenker</th>       <td>   -0.0105</td> <td>    0.039</td> <td>   -0.265</td> <td> 0.791</td> <td>   -0.088</td> <td>    0.067</td>\n",
       "</tr>\n",
       "<tr>\n",
       "  <th>Condition 1_Feedr</th>          <td>    0.0543</td> <td>    0.019</td> <td>    2.937</td> <td> 0.003</td> <td>    0.018</td> <td>    0.091</td>\n",
       "</tr>\n",
       "<tr>\n",
       "  <th>Condition 1_Norm</th>           <td>    0.0766</td> <td>    0.015</td> <td>    5.170</td> <td> 0.000</td> <td>    0.048</td> <td>    0.106</td>\n",
       "</tr>\n",
       "<tr>\n",
       "  <th>Condition 1_PosA</th>           <td>    0.1174</td> <td>    0.038</td> <td>    3.123</td> <td> 0.002</td> <td>    0.044</td> <td>    0.191</td>\n",
       "</tr>\n",
       "<tr>\n",
       "  <th>Condition 1_PosN</th>           <td>    0.1056</td> <td>    0.027</td> <td>    3.889</td> <td> 0.000</td> <td>    0.052</td> <td>    0.159</td>\n",
       "</tr>\n",
       "<tr>\n",
       "  <th>Condition 1_RRAe</th>           <td>   -0.0086</td> <td>    0.029</td> <td>   -0.293</td> <td> 0.770</td> <td>   -0.066</td> <td>    0.049</td>\n",
       "</tr>\n",
       "<tr>\n",
       "  <th>Condition 1_RRAn</th>           <td>    0.0232</td> <td>    0.026</td> <td>    0.899</td> <td> 0.369</td> <td>   -0.027</td> <td>    0.074</td>\n",
       "</tr>\n",
       "<tr>\n",
       "  <th>Condition 1_RRNe</th>           <td>    0.0906</td> <td>    0.068</td> <td>    1.330</td> <td> 0.184</td> <td>   -0.043</td> <td>    0.224</td>\n",
       "</tr>\n",
       "<tr>\n",
       "  <th>Condition 1_RRNn</th>           <td>   -0.0018</td> <td>    0.049</td> <td>   -0.037</td> <td> 0.971</td> <td>   -0.098</td> <td>    0.095</td>\n",
       "</tr>\n",
       "<tr>\n",
       "  <th>Condition 2_Feedr</th>          <td>    0.0152</td> <td>    0.063</td> <td>    0.239</td> <td> 0.811</td> <td>   -0.109</td> <td>    0.140</td>\n",
       "</tr>\n",
       "<tr>\n",
       "  <th>Condition 2_Norm</th>           <td>    0.0423</td> <td>    0.054</td> <td>    0.784</td> <td> 0.433</td> <td>   -0.063</td> <td>    0.148</td>\n",
       "</tr>\n",
       "<tr>\n",
       "  <th>Condition 2_PosA</th>           <td>    0.1210</td> <td>    0.088</td> <td>    1.378</td> <td> 0.168</td> <td>   -0.051</td> <td>    0.293</td>\n",
       "</tr>\n",
       "<tr>\n",
       "  <th>Condition 2_PosN</th>           <td>   -0.0148</td> <td>    0.086</td> <td>   -0.171</td> <td> 0.864</td> <td>   -0.184</td> <td>    0.154</td>\n",
       "</tr>\n",
       "<tr>\n",
       "  <th>Condition 2_RRAe</th>           <td>   -0.0556</td> <td>    0.167</td> <td>   -0.333</td> <td> 0.739</td> <td>   -0.383</td> <td>    0.272</td>\n",
       "</tr>\n",
       "<tr>\n",
       "  <th>Condition 2_RRAn</th>           <td>    0.0042</td> <td>    0.123</td> <td>    0.034</td> <td> 0.973</td> <td>   -0.236</td> <td>    0.245</td>\n",
       "</tr>\n",
       "<tr>\n",
       "  <th>Condition 2_RRNn</th>           <td>    0.0539</td> <td>    0.095</td> <td>    0.566</td> <td> 0.572</td> <td>   -0.133</td> <td>    0.241</td>\n",
       "</tr>\n",
       "<tr>\n",
       "  <th>Bldg Type_2fmCon</th>           <td>    0.0871</td> <td>    0.082</td> <td>    1.057</td> <td> 0.291</td> <td>   -0.075</td> <td>    0.249</td>\n",
       "</tr>\n",
       "<tr>\n",
       "  <th>Bldg Type_Duplex</th>           <td>   -0.0151</td> <td>    0.032</td> <td>   -0.477</td> <td> 0.633</td> <td>   -0.077</td> <td>    0.047</td>\n",
       "</tr>\n",
       "<tr>\n",
       "  <th>Bldg Type_Twnhs</th>            <td>   -0.0379</td> <td>    0.059</td> <td>   -0.644</td> <td> 0.520</td> <td>   -0.153</td> <td>    0.078</td>\n",
       "</tr>\n",
       "<tr>\n",
       "  <th>Bldg Type_TwnhsE</th>           <td>    0.0023</td> <td>    0.056</td> <td>    0.040</td> <td> 0.968</td> <td>   -0.108</td> <td>    0.112</td>\n",
       "</tr>\n",
       "<tr>\n",
       "  <th>House Style_1.5Unf</th>         <td>   -0.0935</td> <td>    0.070</td> <td>   -1.329</td> <td> 0.184</td> <td>   -0.231</td> <td>    0.045</td>\n",
       "</tr>\n",
       "<tr>\n",
       "  <th>House Style_1Story</th>         <td>    0.0301</td> <td>    0.034</td> <td>    0.896</td> <td> 0.370</td> <td>   -0.036</td> <td>    0.096</td>\n",
       "</tr>\n",
       "<tr>\n",
       "  <th>House Style_2.5Fin</th>         <td>   -0.0322</td> <td>    0.071</td> <td>   -0.455</td> <td> 0.649</td> <td>   -0.171</td> <td>    0.107</td>\n",
       "</tr>\n",
       "<tr>\n",
       "  <th>House Style_2.5Unf</th>         <td>    0.0417</td> <td>    0.061</td> <td>    0.686</td> <td> 0.493</td> <td>   -0.078</td> <td>    0.161</td>\n",
       "</tr>\n",
       "<tr>\n",
       "  <th>House Style_2Story</th>         <td>    0.0033</td> <td>    0.033</td> <td>    0.101</td> <td> 0.920</td> <td>   -0.062</td> <td>    0.068</td>\n",
       "</tr>\n",
       "<tr>\n",
       "  <th>House Style_SFoyer</th>         <td>    0.0531</td> <td>    0.044</td> <td>    1.207</td> <td> 0.228</td> <td>   -0.033</td> <td>    0.139</td>\n",
       "</tr>\n",
       "<tr>\n",
       "  <th>House Style_SLvl</th>           <td>    0.0674</td> <td>    0.058</td> <td>    1.169</td> <td> 0.242</td> <td>   -0.046</td> <td>    0.181</td>\n",
       "</tr>\n",
       "<tr>\n",
       "  <th>Roof Style_Gable</th>           <td>   -0.0072</td> <td>    0.059</td> <td>   -0.122</td> <td> 0.903</td> <td>   -0.122</td> <td>    0.108</td>\n",
       "</tr>\n",
       "<tr>\n",
       "  <th>Roof Style_Gambrel</th>         <td>   -0.0934</td> <td>    0.068</td> <td>   -1.379</td> <td> 0.168</td> <td>   -0.226</td> <td>    0.039</td>\n",
       "</tr>\n",
       "<tr>\n",
       "  <th>Roof Style_Hip</th>             <td>    0.0013</td> <td>    0.059</td> <td>    0.022</td> <td> 0.983</td> <td>   -0.114</td> <td>    0.117</td>\n",
       "</tr>\n",
       "<tr>\n",
       "  <th>Roof Style_Mansard</th>         <td>   -0.1790</td> <td>    0.076</td> <td>   -2.341</td> <td> 0.019</td> <td>   -0.329</td> <td>   -0.029</td>\n",
       "</tr>\n",
       "<tr>\n",
       "  <th>Roof Style_Shed</th>            <td>   -0.0023</td> <td>    0.101</td> <td>   -0.023</td> <td> 0.982</td> <td>   -0.200</td> <td>    0.195</td>\n",
       "</tr>\n",
       "<tr>\n",
       "  <th>Roof Matl_CompShg</th>          <td>    2.3319</td> <td>    0.161</td> <td>   14.498</td> <td> 0.000</td> <td>    2.016</td> <td>    2.647</td>\n",
       "</tr>\n",
       "<tr>\n",
       "  <th>Roof Matl_Membran</th>          <td>    2.5313</td> <td>    0.204</td> <td>   12.389</td> <td> 0.000</td> <td>    2.131</td> <td>    2.932</td>\n",
       "</tr>\n",
       "<tr>\n",
       "  <th>Roof Matl_Tar&Grv</th>          <td>    2.3196</td> <td>    0.169</td> <td>   13.747</td> <td> 0.000</td> <td>    1.989</td> <td>    2.651</td>\n",
       "</tr>\n",
       "<tr>\n",
       "  <th>Roof Matl_WdShake</th>          <td>    2.3917</td> <td>    0.173</td> <td>   13.835</td> <td> 0.000</td> <td>    2.053</td> <td>    2.731</td>\n",
       "</tr>\n",
       "<tr>\n",
       "  <th>Roof Matl_WdShngl</th>          <td>    2.4025</td> <td>    0.170</td> <td>   14.119</td> <td> 0.000</td> <td>    2.069</td> <td>    2.736</td>\n",
       "</tr>\n",
       "<tr>\n",
       "  <th>Exterior 1st_AsphShn</th>       <td>   -0.1409</td> <td>    0.146</td> <td>   -0.966</td> <td> 0.334</td> <td>   -0.427</td> <td>    0.145</td>\n",
       "</tr>\n",
       "<tr>\n",
       "  <th>Exterior 1st_BrkComm</th>       <td>   -0.1909</td> <td>    0.103</td> <td>   -1.850</td> <td> 0.064</td> <td>   -0.393</td> <td>    0.011</td>\n",
       "</tr>\n",
       "<tr>\n",
       "  <th>Exterior 1st_BrkFace</th>       <td>    0.1389</td> <td>    0.042</td> <td>    3.292</td> <td> 0.001</td> <td>    0.056</td> <td>    0.222</td>\n",
       "</tr>\n",
       "<tr>\n",
       "  <th>Exterior 1st_CBlock</th>        <td>    0.7289</td> <td>    0.122</td> <td>    5.984</td> <td> 0.000</td> <td>    0.490</td> <td>    0.968</td>\n",
       "</tr>\n",
       "<tr>\n",
       "  <th>Exterior 1st_CemntBd</th>       <td>   -0.0263</td> <td>    0.083</td> <td>   -0.317</td> <td> 0.751</td> <td>   -0.189</td> <td>    0.136</td>\n",
       "</tr>\n",
       "<tr>\n",
       "  <th>Exterior 1st_HdBoard</th>       <td>    0.0291</td> <td>    0.041</td> <td>    0.705</td> <td> 0.481</td> <td>   -0.052</td> <td>    0.110</td>\n",
       "</tr>\n",
       "<tr>\n",
       "  <th>Exterior 1st_ImStucc</th>       <td>    0.0035</td> <td>    0.120</td> <td>    0.029</td> <td> 0.977</td> <td>   -0.233</td> <td>    0.239</td>\n",
       "</tr>\n",
       "<tr>\n",
       "  <th>Exterior 1st_MetalSd</th>       <td>    0.0663</td> <td>    0.050</td> <td>    1.326</td> <td> 0.185</td> <td>   -0.032</td> <td>    0.164</td>\n",
       "</tr>\n",
       "<tr>\n",
       "  <th>Exterior 1st_Plywood</th>       <td>    0.0293</td> <td>    0.040</td> <td>    0.724</td> <td> 0.469</td> <td>   -0.050</td> <td>    0.109</td>\n",
       "</tr>\n",
       "<tr>\n",
       "  <th>Exterior 1st_Stone</th>         <td>   -0.0541</td> <td>    0.099</td> <td>   -0.547</td> <td> 0.584</td> <td>   -0.248</td> <td>    0.140</td>\n",
       "</tr>\n",
       "<tr>\n",
       "  <th>Exterior 1st_Stucco</th>        <td>    0.0522</td> <td>    0.048</td> <td>    1.093</td> <td> 0.275</td> <td>   -0.042</td> <td>    0.146</td>\n",
       "</tr>\n",
       "<tr>\n",
       "  <th>Exterior 1st_VinylSd</th>       <td>    0.0241</td> <td>    0.046</td> <td>    0.529</td> <td> 0.597</td> <td>   -0.065</td> <td>    0.114</td>\n",
       "</tr>\n",
       "<tr>\n",
       "  <th>Exterior 1st_Wd Sdng</th>       <td>    0.0035</td> <td>    0.040</td> <td>    0.087</td> <td> 0.931</td> <td>   -0.075</td> <td>    0.082</td>\n",
       "</tr>\n",
       "<tr>\n",
       "  <th>Exterior 1st_WdShing</th>       <td>    0.0646</td> <td>    0.044</td> <td>    1.479</td> <td> 0.139</td> <td>   -0.021</td> <td>    0.150</td>\n",
       "</tr>\n",
       "<tr>\n",
       "  <th>Exterior 2nd_AsphShn</th>       <td>    0.1943</td> <td>    0.093</td> <td>    2.083</td> <td> 0.037</td> <td>    0.011</td> <td>    0.377</td>\n",
       "</tr>\n",
       "<tr>\n",
       "  <th>Exterior 2nd_Brk Cmn</th>       <td>    0.1126</td> <td>    0.082</td> <td>    1.376</td> <td> 0.169</td> <td>   -0.048</td> <td>    0.273</td>\n",
       "</tr>\n",
       "<tr>\n",
       "  <th>Exterior 2nd_BrkFace</th>       <td>   -0.0090</td> <td>    0.048</td> <td>   -0.189</td> <td> 0.850</td> <td>   -0.102</td> <td>    0.084</td>\n",
       "</tr>\n",
       "<tr>\n",
       "  <th>Exterior 2nd_CBlock</th>        <td>   -0.4603</td> <td>    0.113</td> <td>   -4.084</td> <td> 0.000</td> <td>   -0.681</td> <td>   -0.239</td>\n",
       "</tr>\n",
       "<tr>\n",
       "  <th>Exterior 2nd_CmentBd</th>       <td>    0.1233</td> <td>    0.084</td> <td>    1.464</td> <td> 0.143</td> <td>   -0.042</td> <td>    0.288</td>\n",
       "</tr>\n",
       "<tr>\n",
       "  <th>Exterior 2nd_HdBoard</th>       <td>    0.0431</td> <td>    0.043</td> <td>    0.996</td> <td> 0.319</td> <td>   -0.042</td> <td>    0.128</td>\n",
       "</tr>\n",
       "<tr>\n",
       "  <th>Exterior 2nd_ImStucc</th>       <td>    0.0226</td> <td>    0.054</td> <td>    0.421</td> <td> 0.674</td> <td>   -0.083</td> <td>    0.128</td>\n",
       "</tr>\n",
       "<tr>\n",
       "  <th>Exterior 2nd_MetalSd</th>       <td>    0.0311</td> <td>    0.052</td> <td>    0.600</td> <td> 0.549</td> <td>   -0.071</td> <td>    0.133</td>\n",
       "</tr>\n",
       "<tr>\n",
       "  <th>Exterior 2nd_Plywood</th>       <td>    0.0478</td> <td>    0.042</td> <td>    1.152</td> <td> 0.249</td> <td>   -0.034</td> <td>    0.129</td>\n",
       "</tr>\n",
       "<tr>\n",
       "  <th>Exterior 2nd_Stone</th>         <td>    0.0414</td> <td>    0.068</td> <td>    0.612</td> <td> 0.541</td> <td>   -0.091</td> <td>    0.174</td>\n",
       "</tr>\n",
       "<tr>\n",
       "  <th>Exterior 2nd_Stucco</th>        <td>    0.0567</td> <td>    0.049</td> <td>    1.158</td> <td> 0.247</td> <td>   -0.039</td> <td>    0.153</td>\n",
       "</tr>\n",
       "<tr>\n",
       "  <th>Exterior 2nd_VinylSd</th>       <td>    0.0569</td> <td>    0.047</td> <td>    1.206</td> <td> 0.228</td> <td>   -0.036</td> <td>    0.149</td>\n",
       "</tr>\n",
       "<tr>\n",
       "  <th>Exterior 2nd_Wd Sdng</th>       <td>    0.0705</td> <td>    0.042</td> <td>    1.670</td> <td> 0.095</td> <td>   -0.012</td> <td>    0.153</td>\n",
       "</tr>\n",
       "<tr>\n",
       "  <th>Exterior 2nd_Wd Shng</th>       <td>    0.0344</td> <td>    0.044</td> <td>    0.779</td> <td> 0.436</td> <td>   -0.052</td> <td>    0.121</td>\n",
       "</tr>\n",
       "<tr>\n",
       "  <th>Mas Vnr Type_BrkFace</th>       <td>    0.0976</td> <td>    0.032</td> <td>    3.062</td> <td> 0.002</td> <td>    0.035</td> <td>    0.160</td>\n",
       "</tr>\n",
       "<tr>\n",
       "  <th>Mas Vnr Type_NA</th>            <td>    0.1100</td> <td>    0.040</td> <td>    2.762</td> <td> 0.006</td> <td>    0.032</td> <td>    0.188</td>\n",
       "</tr>\n",
       "<tr>\n",
       "  <th>Mas Vnr Type_None</th>          <td>    0.1030</td> <td>    0.032</td> <td>    3.225</td> <td> 0.001</td> <td>    0.040</td> <td>    0.166</td>\n",
       "</tr>\n",
       "<tr>\n",
       "  <th>Mas Vnr Type_Stone</th>         <td>    0.1224</td> <td>    0.033</td> <td>    3.704</td> <td> 0.000</td> <td>    0.058</td> <td>    0.187</td>\n",
       "</tr>\n",
       "<tr>\n",
       "  <th>Foundation_CBlock</th>          <td>   -0.0042</td> <td>    0.012</td> <td>   -0.348</td> <td> 0.728</td> <td>   -0.028</td> <td>    0.019</td>\n",
       "</tr>\n",
       "<tr>\n",
       "  <th>Foundation_PConc</th>           <td>    0.0189</td> <td>    0.013</td> <td>    1.438</td> <td> 0.151</td> <td>   -0.007</td> <td>    0.045</td>\n",
       "</tr>\n",
       "<tr>\n",
       "  <th>Foundation_Slab</th>            <td>    0.0088</td> <td>    0.033</td> <td>    0.269</td> <td> 0.788</td> <td>   -0.055</td> <td>    0.073</td>\n",
       "</tr>\n",
       "<tr>\n",
       "  <th>Foundation_Stone</th>           <td>    0.0611</td> <td>    0.052</td> <td>    1.170</td> <td> 0.242</td> <td>   -0.041</td> <td>    0.164</td>\n",
       "</tr>\n",
       "<tr>\n",
       "  <th>Foundation_Wood</th>            <td>    0.0509</td> <td>    0.081</td> <td>    0.631</td> <td> 0.528</td> <td>   -0.107</td> <td>    0.209</td>\n",
       "</tr>\n",
       "<tr>\n",
       "  <th>Heating_GasW</th>               <td>    0.0302</td> <td>    0.027</td> <td>    1.101</td> <td> 0.271</td> <td>   -0.024</td> <td>    0.084</td>\n",
       "</tr>\n",
       "<tr>\n",
       "  <th>Heating_Grav</th>               <td>   -0.3010</td> <td>    0.051</td> <td>   -5.857</td> <td> 0.000</td> <td>   -0.402</td> <td>   -0.200</td>\n",
       "</tr>\n",
       "<tr>\n",
       "  <th>Heating_OthW</th>               <td>   -0.0459</td> <td>    0.081</td> <td>   -0.564</td> <td> 0.573</td> <td>   -0.206</td> <td>    0.114</td>\n",
       "</tr>\n",
       "<tr>\n",
       "  <th>Heating_Wall</th>               <td>   -0.0442</td> <td>    0.058</td> <td>   -0.759</td> <td> 0.448</td> <td>   -0.158</td> <td>    0.070</td>\n",
       "</tr>\n",
       "<tr>\n",
       "  <th>Central Air_Y</th>              <td>    0.0294</td> <td>    0.013</td> <td>    2.212</td> <td> 0.027</td> <td>    0.003</td> <td>    0.055</td>\n",
       "</tr>\n",
       "<tr>\n",
       "  <th>Garage Type_Attchd</th>         <td>    0.0481</td> <td>    0.028</td> <td>    1.715</td> <td> 0.087</td> <td>   -0.007</td> <td>    0.103</td>\n",
       "</tr>\n",
       "<tr>\n",
       "  <th>Garage Type_Basment</th>        <td>    0.0611</td> <td>    0.037</td> <td>    1.645</td> <td> 0.100</td> <td>   -0.012</td> <td>    0.134</td>\n",
       "</tr>\n",
       "<tr>\n",
       "  <th>Garage Type_BuiltIn</th>        <td>    0.0520</td> <td>    0.030</td> <td>    1.716</td> <td> 0.086</td> <td>   -0.007</td> <td>    0.112</td>\n",
       "</tr>\n",
       "<tr>\n",
       "  <th>Garage Type_CarPort</th>        <td>    0.0074</td> <td>    0.044</td> <td>    0.167</td> <td> 0.867</td> <td>   -0.079</td> <td>    0.094</td>\n",
       "</tr>\n",
       "<tr>\n",
       "  <th>Garage Type_Detchd</th>         <td>    0.0515</td> <td>    0.028</td> <td>    1.852</td> <td> 0.064</td> <td>   -0.003</td> <td>    0.106</td>\n",
       "</tr>\n",
       "<tr>\n",
       "  <th>Garage Type_NA</th>             <td>    0.0628</td> <td>    0.112</td> <td>    0.562</td> <td> 0.574</td> <td>   -0.156</td> <td>    0.282</td>\n",
       "</tr>\n",
       "<tr>\n",
       "  <th>Sale Type_CWD</th>              <td>    0.0564</td> <td>    0.038</td> <td>    1.488</td> <td> 0.137</td> <td>   -0.018</td> <td>    0.131</td>\n",
       "</tr>\n",
       "<tr>\n",
       "  <th>Sale Type_Con</th>              <td>    0.1562</td> <td>    0.056</td> <td>    2.766</td> <td> 0.006</td> <td>    0.045</td> <td>    0.267</td>\n",
       "</tr>\n",
       "<tr>\n",
       "  <th>Sale Type_ConLD</th>            <td>    0.0913</td> <td>    0.033</td> <td>    2.776</td> <td> 0.006</td> <td>    0.027</td> <td>    0.156</td>\n",
       "</tr>\n",
       "<tr>\n",
       "  <th>Sale Type_ConLI</th>            <td>    0.0048</td> <td>    0.044</td> <td>    0.110</td> <td> 0.912</td> <td>   -0.081</td> <td>    0.091</td>\n",
       "</tr>\n",
       "<tr>\n",
       "  <th>Sale Type_ConLw</th>            <td>    0.0157</td> <td>    0.051</td> <td>    0.305</td> <td> 0.760</td> <td>   -0.085</td> <td>    0.117</td>\n",
       "</tr>\n",
       "<tr>\n",
       "  <th>Sale Type_New</th>              <td>    0.0717</td> <td>    0.018</td> <td>    3.906</td> <td> 0.000</td> <td>    0.036</td> <td>    0.108</td>\n",
       "</tr>\n",
       "<tr>\n",
       "  <th>Sale Type_Oth</th>              <td>    0.1533</td> <td>    0.056</td> <td>    2.717</td> <td> 0.007</td> <td>    0.043</td> <td>    0.264</td>\n",
       "</tr>\n",
       "<tr>\n",
       "  <th>Sale Type_WD </th>              <td>    0.0370</td> <td>    0.015</td> <td>    2.500</td> <td> 0.012</td> <td>    0.008</td> <td>    0.066</td>\n",
       "</tr>\n",
       "<tr>\n",
       "  <th>Alley_NA</th>                   <td>   -0.0101</td> <td>    0.015</td> <td>   -0.668</td> <td> 0.504</td> <td>   -0.040</td> <td>    0.019</td>\n",
       "</tr>\n",
       "<tr>\n",
       "  <th>Alley_Pave</th>                 <td>   -0.0257</td> <td>    0.023</td> <td>   -1.106</td> <td> 0.269</td> <td>   -0.071</td> <td>    0.020</td>\n",
       "</tr>\n",
       "<tr>\n",
       "  <th>Misc Feature_Gar2</th>          <td>    2.0852</td> <td>    0.185</td> <td>   11.256</td> <td> 0.000</td> <td>    1.722</td> <td>    2.448</td>\n",
       "</tr>\n",
       "<tr>\n",
       "  <th>Misc Feature_NA</th>            <td>    2.0849</td> <td>    0.235</td> <td>    8.882</td> <td> 0.000</td> <td>    1.625</td> <td>    2.545</td>\n",
       "</tr>\n",
       "<tr>\n",
       "  <th>Misc Feature_Othr</th>          <td>    2.0705</td> <td>    0.207</td> <td>    9.982</td> <td> 0.000</td> <td>    1.664</td> <td>    2.477</td>\n",
       "</tr>\n",
       "<tr>\n",
       "  <th>Misc Feature_Shed</th>          <td>    2.0683</td> <td>    0.228</td> <td>    9.091</td> <td> 0.000</td> <td>    1.622</td> <td>    2.515</td>\n",
       "</tr>\n",
       "<tr>\n",
       "  <th>Misc Feature_TenC</th>          <td>    1.9605</td> <td>    0.245</td> <td>    8.016</td> <td> 0.000</td> <td>    1.481</td> <td>    2.440</td>\n",
       "</tr>\n",
       "<tr>\n",
       "  <th>GRlivingArealog</th>            <td>    0.2869</td> <td>    0.049</td> <td>    5.911</td> <td> 0.000</td> <td>    0.192</td> <td>    0.382</td>\n",
       "</tr>\n",
       "<tr>\n",
       "  <th>SqftPorch</th>                  <td>    0.0001</td> <td> 2.72e-05</td> <td>    5.429</td> <td> 0.000</td> <td> 9.44e-05</td> <td>    0.000</td>\n",
       "</tr>\n",
       "<tr>\n",
       "  <th>TotalSqFt</th>                  <td> 9.413e-05</td> <td> 3.46e-05</td> <td>    2.721</td> <td> 0.007</td> <td> 2.63e-05</td> <td>    0.000</td>\n",
       "</tr>\n",
       "<tr>\n",
       "  <th>totalbathroom</th>              <td>    0.0218</td> <td>    0.006</td> <td>    3.925</td> <td> 0.000</td> <td>    0.011</td> <td>    0.033</td>\n",
       "</tr>\n",
       "<tr>\n",
       "  <th>Garage Interaction</th>         <td>    0.0370</td> <td>    0.016</td> <td>    2.305</td> <td> 0.021</td> <td>    0.006</td> <td>    0.069</td>\n",
       "</tr>\n",
       "<tr>\n",
       "  <th>average room size</th>          <td>   -0.0006</td> <td>    0.017</td> <td>   -0.036</td> <td> 0.971</td> <td>   -0.034</td> <td>    0.032</td>\n",
       "</tr>\n",
       "<tr>\n",
       "  <th>Ability to Build Landscape</th> <td>   -0.0071</td> <td>    0.016</td> <td>   -0.456</td> <td> 0.649</td> <td>   -0.037</td> <td>    0.023</td>\n",
       "</tr>\n",
       "<tr>\n",
       "  <th>Exterior 2nd_PreCast</th>       <td>         0</td> <td>        0</td> <td>      nan</td> <td>   nan</td> <td>        0</td> <td>        0</td>\n",
       "</tr>\n",
       "<tr>\n",
       "  <th>Exterior 2nd_Other</th>         <td>         0</td> <td>        0</td> <td>      nan</td> <td>   nan</td> <td>        0</td> <td>        0</td>\n",
       "</tr>\n",
       "<tr>\n",
       "  <th>Exterior 1st_PreCast</th>       <td>         0</td> <td>        0</td> <td>      nan</td> <td>   nan</td> <td>        0</td> <td>        0</td>\n",
       "</tr>\n",
       "<tr>\n",
       "  <th>Mas Vnr Type_CBlock</th>        <td>         0</td> <td>        0</td> <td>      nan</td> <td>   nan</td> <td>        0</td> <td>        0</td>\n",
       "</tr>\n",
       "<tr>\n",
       "  <th>Sale Type_VWD</th>              <td>         0</td> <td>        0</td> <td>      nan</td> <td>   nan</td> <td>        0</td> <td>        0</td>\n",
       "</tr>\n",
       "<tr>\n",
       "  <th>Heating_GasA</th>               <td>         0</td> <td>        0</td> <td>      nan</td> <td>   nan</td> <td>        0</td> <td>        0</td>\n",
       "</tr>\n",
       "<tr>\n",
       "  <th>Roof Matl_Roll</th>             <td>         0</td> <td>        0</td> <td>      nan</td> <td>   nan</td> <td>        0</td> <td>        0</td>\n",
       "</tr>\n",
       "<tr>\n",
       "  <th>Roof Matl_Metal</th>            <td>         0</td> <td>        0</td> <td>      nan</td> <td>   nan</td> <td>        0</td> <td>        0</td>\n",
       "</tr>\n",
       "<tr>\n",
       "  <th>intercept</th>                  <td>    6.6537</td> <td>    3.990</td> <td>    1.668</td> <td> 0.096</td> <td>   -1.172</td> <td>   14.479</td>\n",
       "</tr>\n",
       "</table>\n",
       "<table class=\"simpletable\">\n",
       "<tr>\n",
       "  <th>Omnibus:</th>       <td>1150.236</td> <th>  Durbin-Watson:     </th> <td>   1.984</td> \n",
       "</tr>\n",
       "<tr>\n",
       "  <th>Prob(Omnibus):</th>  <td> 0.000</td>  <th>  Jarque-Bera (JB):  </th> <td>48612.652</td>\n",
       "</tr>\n",
       "<tr>\n",
       "  <th>Skew:</th>           <td>-1.968</td>  <th>  Prob(JB):          </th> <td>    0.00</td> \n",
       "</tr>\n",
       "<tr>\n",
       "  <th>Kurtosis:</th>       <td>26.524</td>  <th>  Cond. No.          </th> <td>1.25e+17</td> \n",
       "</tr>\n",
       "</table><br/><br/>Warnings:<br/>[1] Standard Errors assume that the covariance matrix of the errors is correctly specified.<br/>[2] The smallest eigenvalue is 2.15e-23. This might indicate that there are<br/>strong multicollinearity problems or that the design matrix is singular."
      ],
      "text/plain": [
       "<class 'statsmodels.iolib.summary.Summary'>\n",
       "\"\"\"\n",
       "                            OLS Regression Results                            \n",
       "==============================================================================\n",
       "Dep. Variable:           SalePricelog   R-squared:                       0.940\n",
       "Model:                            OLS   Adj. R-squared:                  0.933\n",
       "Method:                 Least Squares   F-statistic:                     140.9\n",
       "Date:                Mon, 20 Jan 2020   Prob (F-statistic):               0.00\n",
       "Time:                        15:30:16   Log-Likelihood:                 1796.9\n",
       "No. Observations:                2051   AIC:                            -3182.\n",
       "Df Residuals:                    1845   BIC:                            -2023.\n",
       "Df Model:                         205                                         \n",
       "Covariance Type:            nonrobust                                         \n",
       "==============================================================================================\n",
       "                                 coef    std err          t      P>|t|      [0.025      0.975]\n",
       "----------------------------------------------------------------------------------------------\n",
       "Lot Frontage                   0.0002   9.15e-05      1.848      0.065   -1.04e-05       0.000\n",
       "Lot Area                    3.438e-06   5.37e-07      6.399      0.000    2.38e-06    4.49e-06\n",
       "Lot Shape                      0.0047      0.015      0.312      0.755      -0.025       0.034\n",
       "Utilities                      0.1122      0.063      1.786      0.074      -0.011       0.235\n",
       "Land Slope                     0.0041      0.014      0.301      0.764      -0.022       0.031\n",
       "Overall Qual                   0.0445      0.004     11.459      0.000       0.037       0.052\n",
       "Overall Cond                   0.0425      0.003     12.908      0.000       0.036       0.049\n",
       "Year Built                     0.0022      0.000      7.240      0.000       0.002       0.003\n",
       "Year Remod/Add                 0.0005      0.000      2.170      0.030     4.4e-05       0.001\n",
       "Mas Vnr Area                5.691e-05   2.31e-05      2.462      0.014    1.16e-05       0.000\n",
       "Exter Qual                     0.0179      0.008      2.217      0.027       0.002       0.034\n",
       "Exter Cond                    -0.0046      0.008     -0.587      0.557      -0.020       0.011\n",
       "Bsmt Qual                      0.0068      0.006      1.096      0.273      -0.005       0.019\n",
       "Bsmt Cond                      0.0004      0.007      0.060      0.952      -0.014       0.015\n",
       "Bsmt Exposure                  0.0127      0.003      3.939      0.000       0.006       0.019\n",
       "BsmtFin Type 1                 0.0035      0.002      1.829      0.068      -0.000       0.007\n",
       "BsmtFin SF 1                3.666e-05   3.87e-05      0.948      0.343   -3.92e-05       0.000\n",
       "BsmtFin Type 2                -0.0032      0.004     -0.733      0.464      -0.012       0.005\n",
       "BsmtFin SF 2                1.116e-05   4.55e-05      0.245      0.806   -7.81e-05       0.000\n",
       "Bsmt Unf SF                -3.663e-05   3.83e-05     -0.957      0.339      -0.000    3.85e-05\n",
       "Heating QC                     0.0102      0.004      2.832      0.005       0.003       0.017\n",
       "Electrical                    -0.0077      0.007     -1.056      0.291      -0.022       0.007\n",
       "Low Qual Fin SF             2.315e-05   6.43e-05      0.360      0.719      -0.000       0.000\n",
       "Bedroom AbvGr                 -0.0089      0.005     -1.780      0.075      -0.019       0.001\n",
       "Kitchen AbvGr                 -0.0188      0.025     -0.760      0.447      -0.067       0.030\n",
       "Kitchen Qual                   0.0210      0.006      3.369      0.001       0.009       0.033\n",
       "TotRms AbvGrd                  0.0067      0.007      0.999      0.318      -0.006       0.020\n",
       "Functional                     0.0347      0.004      8.369      0.000       0.027       0.043\n",
       "Fireplaces                     0.0144      0.009      1.676      0.094      -0.002       0.031\n",
       "Fireplace Qu                   0.0008      0.003      0.270      0.787      -0.005       0.007\n",
       "Garage Yr Blt              -3.835e-05    6.9e-05     -0.556      0.578      -0.000     9.7e-05\n",
       "Garage Finish                 -0.0016      0.005     -0.348      0.728      -0.011       0.007\n",
       "Garage Cars                   -0.1153      0.064     -1.814      0.070      -0.240       0.009\n",
       "Garage Area                 1.374e-05      3e-05      0.458      0.647   -4.51e-05    7.26e-05\n",
       "Garage Qual                   -0.0186      0.027     -0.690      0.490      -0.071       0.034\n",
       "Garage Cond                    0.0456      0.014      3.251      0.001       0.018       0.073\n",
       "Paved Drive                    0.0228      0.006      3.701      0.000       0.011       0.035\n",
       "Wood Deck SF                5.942e-05   2.21e-05      2.691      0.007    1.61e-05       0.000\n",
       "Pool Area                   7.898e-05      0.000      0.479      0.632      -0.000       0.000\n",
       "Pool QC                       -0.0059      0.027     -0.223      0.824      -0.058       0.046\n",
       "Fence                         -0.0005      0.002     -0.223      0.824      -0.005       0.004\n",
       "Misc Val                    6.473e-06   1.15e-05      0.564      0.573    -1.6e-05     2.9e-05\n",
       "Mo Sold                       -0.0005      0.001     -0.569      0.569      -0.002       0.001\n",
       "Yr Sold                       -0.0049      0.002     -2.496      0.013      -0.009      -0.001\n",
       "MS SubClass_150               -0.2236      0.124     -1.798      0.072      -0.468       0.020\n",
       "MS SubClass_160               -0.0644      0.035     -1.847      0.065      -0.133       0.004\n",
       "MS SubClass_180               -0.0400      0.054     -0.738      0.461      -0.146       0.066\n",
       "MS SubClass_190               -0.0466      0.100     -0.468      0.640      -0.242       0.149\n",
       "MS SubClass_20                 0.0529      0.056      0.938      0.349      -0.058       0.163\n",
       "MS SubClass_30                 0.0252      0.059      0.429      0.668      -0.090       0.141\n",
       "MS SubClass_40                 0.0421      0.080      0.523      0.601      -0.116       0.200\n",
       "MS SubClass_45                 0.2070      0.096      2.157      0.031       0.019       0.395\n",
       "MS SubClass_50                 0.0790      0.066      1.195      0.232      -0.051       0.209\n",
       "MS SubClass_60                 0.0340      0.063      0.541      0.588      -0.089       0.157\n",
       "MS SubClass_70                 0.0929      0.064      1.451      0.147      -0.033       0.219\n",
       "MS SubClass_75                 0.0865      0.082      1.057      0.291      -0.074       0.247\n",
       "MS SubClass_80                -0.0095      0.078     -0.122      0.903      -0.162       0.143\n",
       "MS SubClass_85                 0.0438      0.069      0.633      0.527      -0.092       0.180\n",
       "MS SubClass_90                -0.0151      0.032     -0.477      0.633      -0.077       0.047\n",
       "MS Zoning_C (all)              0.7375      0.119      6.206      0.000       0.504       0.971\n",
       "MS Zoning_FV                   0.9925      0.118      8.402      0.000       0.761       1.224\n",
       "MS Zoning_I (all)              0.9990      0.179      5.593      0.000       0.649       1.349\n",
       "MS Zoning_RH                   1.0007      0.121      8.256      0.000       0.763       1.238\n",
       "MS Zoning_RL                   0.9660      0.115      8.368      0.000       0.740       1.192\n",
       "MS Zoning_RM                   0.9228      0.116      7.977      0.000       0.696       1.150\n",
       "Street_Pave                    0.0764      0.049      1.551      0.121      -0.020       0.173\n",
       "Land Contour_HLS               0.0311      0.021      1.502      0.133      -0.009       0.072\n",
       "Land Contour_Low              -0.0082      0.025     -0.321      0.748      -0.058       0.042\n",
       "Land Contour_Lvl               0.0268      0.059      0.457      0.648      -0.088       0.142\n",
       "Lot Config_CulDSac             0.0144      0.013      1.139      0.255      -0.010       0.039\n",
       "Lot Config_FR2                -0.0210      0.016     -1.292      0.197      -0.053       0.011\n",
       "Lot Config_FR3                -0.0206      0.039     -0.521      0.602      -0.098       0.057\n",
       "Lot Config_Inside             -0.0005      0.007     -0.074      0.941      -0.014       0.013\n",
       "Neighborhood_Blueste           0.0649      0.056      1.158      0.247      -0.045       0.175\n",
       "Neighborhood_BrDale            0.0268      0.046      0.581      0.561      -0.064       0.117\n",
       "Neighborhood_BrkSide           0.0236      0.036      0.654      0.513      -0.047       0.094\n",
       "Neighborhood_ClearCr           0.0298      0.038      0.783      0.433      -0.045       0.105\n",
       "Neighborhood_CollgCr          -0.0171      0.029     -0.597      0.550      -0.073       0.039\n",
       "Neighborhood_Crawfor           0.0664      0.033      2.013      0.044       0.002       0.131\n",
       "Neighborhood_Edwards          -0.0547      0.031     -1.770      0.077      -0.115       0.006\n",
       "Neighborhood_Gilbert          -0.0069      0.030     -0.233      0.816      -0.065       0.052\n",
       "Neighborhood_Greens            0.0839      0.071      1.185      0.236      -0.055       0.223\n",
       "Neighborhood_GrnHill           0.5084      0.083      6.097      0.000       0.345       0.672\n",
       "Neighborhood_IDOTRR           -0.0147      0.040     -0.371      0.711      -0.092       0.063\n",
       "Neighborhood_Landmrk          -0.0133      0.118     -0.113      0.910      -0.244       0.218\n",
       "Neighborhood_MeadowV          -0.0838      0.045     -1.844      0.065      -0.173       0.005\n",
       "Neighborhood_Mitchel           0.0007      0.031      0.021      0.983      -0.060       0.062\n",
       "Neighborhood_NAmes            -0.0162      0.030     -0.534      0.593      -0.076       0.043\n",
       "Neighborhood_NPkVill          -0.0092      0.069     -0.134      0.894      -0.144       0.125\n",
       "Neighborhood_NWAmes           -0.0353      0.031     -1.124      0.261      -0.097       0.026\n",
       "Neighborhood_NoRidge           0.0373      0.033      1.132      0.258      -0.027       0.102\n",
       "Neighborhood_NridgHt           0.0708      0.029      2.444      0.015       0.014       0.128\n",
       "Neighborhood_OldTown          -0.0388      0.036     -1.067      0.286      -0.110       0.033\n",
       "Neighborhood_SWISU            -0.0473      0.038     -1.256      0.209      -0.121       0.027\n",
       "Neighborhood_Sawyer            0.0005      0.031      0.017      0.986      -0.061       0.062\n",
       "Neighborhood_SawyerW          -0.0257      0.030     -0.855      0.393      -0.085       0.033\n",
       "Neighborhood_Somerst           0.0298      0.034      0.865      0.387      -0.038       0.097\n",
       "Neighborhood_StoneBr           0.0939      0.033      2.865      0.004       0.030       0.158\n",
       "Neighborhood_Timber           -0.0053      0.032     -0.166      0.868      -0.067       0.057\n",
       "Neighborhood_Veenker          -0.0105      0.039     -0.265      0.791      -0.088       0.067\n",
       "Condition 1_Feedr              0.0543      0.019      2.937      0.003       0.018       0.091\n",
       "Condition 1_Norm               0.0766      0.015      5.170      0.000       0.048       0.106\n",
       "Condition 1_PosA               0.1174      0.038      3.123      0.002       0.044       0.191\n",
       "Condition 1_PosN               0.1056      0.027      3.889      0.000       0.052       0.159\n",
       "Condition 1_RRAe              -0.0086      0.029     -0.293      0.770      -0.066       0.049\n",
       "Condition 1_RRAn               0.0232      0.026      0.899      0.369      -0.027       0.074\n",
       "Condition 1_RRNe               0.0906      0.068      1.330      0.184      -0.043       0.224\n",
       "Condition 1_RRNn              -0.0018      0.049     -0.037      0.971      -0.098       0.095\n",
       "Condition 2_Feedr              0.0152      0.063      0.239      0.811      -0.109       0.140\n",
       "Condition 2_Norm               0.0423      0.054      0.784      0.433      -0.063       0.148\n",
       "Condition 2_PosA               0.1210      0.088      1.378      0.168      -0.051       0.293\n",
       "Condition 2_PosN              -0.0148      0.086     -0.171      0.864      -0.184       0.154\n",
       "Condition 2_RRAe              -0.0556      0.167     -0.333      0.739      -0.383       0.272\n",
       "Condition 2_RRAn               0.0042      0.123      0.034      0.973      -0.236       0.245\n",
       "Condition 2_RRNn               0.0539      0.095      0.566      0.572      -0.133       0.241\n",
       "Bldg Type_2fmCon               0.0871      0.082      1.057      0.291      -0.075       0.249\n",
       "Bldg Type_Duplex              -0.0151      0.032     -0.477      0.633      -0.077       0.047\n",
       "Bldg Type_Twnhs               -0.0379      0.059     -0.644      0.520      -0.153       0.078\n",
       "Bldg Type_TwnhsE               0.0023      0.056      0.040      0.968      -0.108       0.112\n",
       "House Style_1.5Unf            -0.0935      0.070     -1.329      0.184      -0.231       0.045\n",
       "House Style_1Story             0.0301      0.034      0.896      0.370      -0.036       0.096\n",
       "House Style_2.5Fin            -0.0322      0.071     -0.455      0.649      -0.171       0.107\n",
       "House Style_2.5Unf             0.0417      0.061      0.686      0.493      -0.078       0.161\n",
       "House Style_2Story             0.0033      0.033      0.101      0.920      -0.062       0.068\n",
       "House Style_SFoyer             0.0531      0.044      1.207      0.228      -0.033       0.139\n",
       "House Style_SLvl               0.0674      0.058      1.169      0.242      -0.046       0.181\n",
       "Roof Style_Gable              -0.0072      0.059     -0.122      0.903      -0.122       0.108\n",
       "Roof Style_Gambrel            -0.0934      0.068     -1.379      0.168      -0.226       0.039\n",
       "Roof Style_Hip                 0.0013      0.059      0.022      0.983      -0.114       0.117\n",
       "Roof Style_Mansard            -0.1790      0.076     -2.341      0.019      -0.329      -0.029\n",
       "Roof Style_Shed               -0.0023      0.101     -0.023      0.982      -0.200       0.195\n",
       "Roof Matl_CompShg              2.3319      0.161     14.498      0.000       2.016       2.647\n",
       "Roof Matl_Membran              2.5313      0.204     12.389      0.000       2.131       2.932\n",
       "Roof Matl_Tar&Grv              2.3196      0.169     13.747      0.000       1.989       2.651\n",
       "Roof Matl_WdShake              2.3917      0.173     13.835      0.000       2.053       2.731\n",
       "Roof Matl_WdShngl              2.4025      0.170     14.119      0.000       2.069       2.736\n",
       "Exterior 1st_AsphShn          -0.1409      0.146     -0.966      0.334      -0.427       0.145\n",
       "Exterior 1st_BrkComm          -0.1909      0.103     -1.850      0.064      -0.393       0.011\n",
       "Exterior 1st_BrkFace           0.1389      0.042      3.292      0.001       0.056       0.222\n",
       "Exterior 1st_CBlock            0.7289      0.122      5.984      0.000       0.490       0.968\n",
       "Exterior 1st_CemntBd          -0.0263      0.083     -0.317      0.751      -0.189       0.136\n",
       "Exterior 1st_HdBoard           0.0291      0.041      0.705      0.481      -0.052       0.110\n",
       "Exterior 1st_ImStucc           0.0035      0.120      0.029      0.977      -0.233       0.239\n",
       "Exterior 1st_MetalSd           0.0663      0.050      1.326      0.185      -0.032       0.164\n",
       "Exterior 1st_Plywood           0.0293      0.040      0.724      0.469      -0.050       0.109\n",
       "Exterior 1st_Stone            -0.0541      0.099     -0.547      0.584      -0.248       0.140\n",
       "Exterior 1st_Stucco            0.0522      0.048      1.093      0.275      -0.042       0.146\n",
       "Exterior 1st_VinylSd           0.0241      0.046      0.529      0.597      -0.065       0.114\n",
       "Exterior 1st_Wd Sdng           0.0035      0.040      0.087      0.931      -0.075       0.082\n",
       "Exterior 1st_WdShing           0.0646      0.044      1.479      0.139      -0.021       0.150\n",
       "Exterior 2nd_AsphShn           0.1943      0.093      2.083      0.037       0.011       0.377\n",
       "Exterior 2nd_Brk Cmn           0.1126      0.082      1.376      0.169      -0.048       0.273\n",
       "Exterior 2nd_BrkFace          -0.0090      0.048     -0.189      0.850      -0.102       0.084\n",
       "Exterior 2nd_CBlock           -0.4603      0.113     -4.084      0.000      -0.681      -0.239\n",
       "Exterior 2nd_CmentBd           0.1233      0.084      1.464      0.143      -0.042       0.288\n",
       "Exterior 2nd_HdBoard           0.0431      0.043      0.996      0.319      -0.042       0.128\n",
       "Exterior 2nd_ImStucc           0.0226      0.054      0.421      0.674      -0.083       0.128\n",
       "Exterior 2nd_MetalSd           0.0311      0.052      0.600      0.549      -0.071       0.133\n",
       "Exterior 2nd_Plywood           0.0478      0.042      1.152      0.249      -0.034       0.129\n",
       "Exterior 2nd_Stone             0.0414      0.068      0.612      0.541      -0.091       0.174\n",
       "Exterior 2nd_Stucco            0.0567      0.049      1.158      0.247      -0.039       0.153\n",
       "Exterior 2nd_VinylSd           0.0569      0.047      1.206      0.228      -0.036       0.149\n",
       "Exterior 2nd_Wd Sdng           0.0705      0.042      1.670      0.095      -0.012       0.153\n",
       "Exterior 2nd_Wd Shng           0.0344      0.044      0.779      0.436      -0.052       0.121\n",
       "Mas Vnr Type_BrkFace           0.0976      0.032      3.062      0.002       0.035       0.160\n",
       "Mas Vnr Type_NA                0.1100      0.040      2.762      0.006       0.032       0.188\n",
       "Mas Vnr Type_None              0.1030      0.032      3.225      0.001       0.040       0.166\n",
       "Mas Vnr Type_Stone             0.1224      0.033      3.704      0.000       0.058       0.187\n",
       "Foundation_CBlock             -0.0042      0.012     -0.348      0.728      -0.028       0.019\n",
       "Foundation_PConc               0.0189      0.013      1.438      0.151      -0.007       0.045\n",
       "Foundation_Slab                0.0088      0.033      0.269      0.788      -0.055       0.073\n",
       "Foundation_Stone               0.0611      0.052      1.170      0.242      -0.041       0.164\n",
       "Foundation_Wood                0.0509      0.081      0.631      0.528      -0.107       0.209\n",
       "Heating_GasW                   0.0302      0.027      1.101      0.271      -0.024       0.084\n",
       "Heating_Grav                  -0.3010      0.051     -5.857      0.000      -0.402      -0.200\n",
       "Heating_OthW                  -0.0459      0.081     -0.564      0.573      -0.206       0.114\n",
       "Heating_Wall                  -0.0442      0.058     -0.759      0.448      -0.158       0.070\n",
       "Central Air_Y                  0.0294      0.013      2.212      0.027       0.003       0.055\n",
       "Garage Type_Attchd             0.0481      0.028      1.715      0.087      -0.007       0.103\n",
       "Garage Type_Basment            0.0611      0.037      1.645      0.100      -0.012       0.134\n",
       "Garage Type_BuiltIn            0.0520      0.030      1.716      0.086      -0.007       0.112\n",
       "Garage Type_CarPort            0.0074      0.044      0.167      0.867      -0.079       0.094\n",
       "Garage Type_Detchd             0.0515      0.028      1.852      0.064      -0.003       0.106\n",
       "Garage Type_NA                 0.0628      0.112      0.562      0.574      -0.156       0.282\n",
       "Sale Type_CWD                  0.0564      0.038      1.488      0.137      -0.018       0.131\n",
       "Sale Type_Con                  0.1562      0.056      2.766      0.006       0.045       0.267\n",
       "Sale Type_ConLD                0.0913      0.033      2.776      0.006       0.027       0.156\n",
       "Sale Type_ConLI                0.0048      0.044      0.110      0.912      -0.081       0.091\n",
       "Sale Type_ConLw                0.0157      0.051      0.305      0.760      -0.085       0.117\n",
       "Sale Type_New                  0.0717      0.018      3.906      0.000       0.036       0.108\n",
       "Sale Type_Oth                  0.1533      0.056      2.717      0.007       0.043       0.264\n",
       "Sale Type_WD                   0.0370      0.015      2.500      0.012       0.008       0.066\n",
       "Alley_NA                      -0.0101      0.015     -0.668      0.504      -0.040       0.019\n",
       "Alley_Pave                    -0.0257      0.023     -1.106      0.269      -0.071       0.020\n",
       "Misc Feature_Gar2              2.0852      0.185     11.256      0.000       1.722       2.448\n",
       "Misc Feature_NA                2.0849      0.235      8.882      0.000       1.625       2.545\n",
       "Misc Feature_Othr              2.0705      0.207      9.982      0.000       1.664       2.477\n",
       "Misc Feature_Shed              2.0683      0.228      9.091      0.000       1.622       2.515\n",
       "Misc Feature_TenC              1.9605      0.245      8.016      0.000       1.481       2.440\n",
       "GRlivingArealog                0.2869      0.049      5.911      0.000       0.192       0.382\n",
       "SqftPorch                      0.0001   2.72e-05      5.429      0.000    9.44e-05       0.000\n",
       "TotalSqFt                   9.413e-05   3.46e-05      2.721      0.007    2.63e-05       0.000\n",
       "totalbathroom                  0.0218      0.006      3.925      0.000       0.011       0.033\n",
       "Garage Interaction             0.0370      0.016      2.305      0.021       0.006       0.069\n",
       "average room size             -0.0006      0.017     -0.036      0.971      -0.034       0.032\n",
       "Ability to Build Landscape    -0.0071      0.016     -0.456      0.649      -0.037       0.023\n",
       "Exterior 2nd_PreCast                0          0        nan        nan           0           0\n",
       "Exterior 2nd_Other                  0          0        nan        nan           0           0\n",
       "Exterior 1st_PreCast                0          0        nan        nan           0           0\n",
       "Mas Vnr Type_CBlock                 0          0        nan        nan           0           0\n",
       "Sale Type_VWD                       0          0        nan        nan           0           0\n",
       "Heating_GasA                        0          0        nan        nan           0           0\n",
       "Roof Matl_Roll                      0          0        nan        nan           0           0\n",
       "Roof Matl_Metal                     0          0        nan        nan           0           0\n",
       "intercept                      6.6537      3.990      1.668      0.096      -1.172      14.479\n",
       "==============================================================================\n",
       "Omnibus:                     1150.236   Durbin-Watson:                   1.984\n",
       "Prob(Omnibus):                  0.000   Jarque-Bera (JB):            48612.652\n",
       "Skew:                          -1.968   Prob(JB):                         0.00\n",
       "Kurtosis:                      26.524   Cond. No.                     1.25e+17\n",
       "==============================================================================\n",
       "\n",
       "Warnings:\n",
       "[1] Standard Errors assume that the covariance matrix of the errors is correctly specified.\n",
       "[2] The smallest eigenvalue is 2.15e-23. This might indicate that there are\n",
       "strong multicollinearity problems or that the design matrix is singular.\n",
       "\"\"\""
      ]
     },
     "execution_count": 477,
     "metadata": {},
     "output_type": "execute_result"
    }
   ],
   "source": [
    "\n",
    "\n",
    "X_adj = X\n",
    "X_adj[\"intercept\"] = 1\n",
    "\n",
    "model2_summary = sm.OLS(y, X_adj).fit()\n",
    "model2_summary.summary()"
   ]
  },
  {
   "cell_type": "markdown",
   "metadata": {},
   "source": [
    "Look at pvalues below .05 for significance. \n",
    "\n",
    "###### Examples: <.05\n",
    "\n",
    "- Overall Quality\n",
    "- Overall Condition\n",
    "- Year Bilit\n",
    "- Total Bathroom\n",
    "- Garage Interaction Term\n",
    "\n",
    "###### Surprises: > .05\n",
    "\n",
    "- Ability to build landscape\n",
    "- Average Room Size\n",
    "- Fireplace Qu\n"
   ]
  },
  {
   "cell_type": "code",
   "execution_count": 478,
   "metadata": {},
   "outputs": [],
   "source": [
    "residuals = np.exp(y_test)-np.exp(yhat_test)"
   ]
  },
  {
   "cell_type": "code",
   "execution_count": 479,
   "metadata": {},
   "outputs": [
    {
     "data": {
      "text/plain": [
       "1017.2807050137453"
      ]
     },
     "execution_count": 479,
     "metadata": {},
     "output_type": "execute_result"
    }
   ],
   "source": [
    "residuals.mean()"
   ]
  },
  {
   "cell_type": "code",
   "execution_count": 480,
   "metadata": {
    "scrolled": true
   },
   "outputs": [
    {
     "data": {
      "text/plain": [
       "Text(0.5, 1.0, 'Model 2 Resiudals by Sale Price')"
      ]
     },
     "execution_count": 480,
     "metadata": {},
     "output_type": "execute_result"
    },
    {
     "data": {
      "image/png": "[encoded data removed]",
      "text/plain": [
       "<Figure size 432x288 with 1 Axes>"
      ]
     },
     "metadata": {
      "needs_background": "light"
     },
     "output_type": "display_data"
    }
   ],
   "source": [
    "plt.scatter(range(len(residuals)), residuals)\n",
    "plt.axhline(0,color = 'red')\n",
    "plt.xlabel(\"Index of Residuals\", fontsize = 20)\n",
    "plt.ylabel(\"Residuals($): $y$\", fontsize = 20)\n",
    "plt.title('Model 2 Resiudals by Sale Price', fontsize = 24)"
   ]
  },
  {
   "cell_type": "markdown",
   "metadata": {},
   "source": [
    "Residual Plot\n",
    "\n",
    "In this plot each point is predicted sales price, where the prediction made by the model is on the x-axis, and the accuracy of the prediction is on the y-axis. The distance from the line at 0 is how bad the prediction was for that value. Residulas is derived by taking the observed minus predicted. This confirms that there is more variability at super low and high prices. This model could be better at predicting extremes with potential buyer information."
   ]
  },
  {
   "cell_type": "markdown",
   "metadata": {},
   "source": [
    "#### Submit"
   ]
  },
  {
   "cell_type": "markdown",
   "metadata": {},
   "source": [
    "### Model 3: Ridge Model"
   ]
  },
  {
   "cell_type": "markdown",
   "metadata": {},
   "source": [
    "Scale data. All data should be on same scale relative to mins and max of respective features. This is useful for regularization in Ridge model. Used all features from model 2(higher r2 than model 1)"
   ]
  },
  {
   "cell_type": "code",
   "execution_count": 481,
   "metadata": {},
   "outputs": [],
   "source": [
    "sc = StandardScaler()\n",
    "# Fit AND transform Standard Scaler to overfit data in one step.\n",
    "Z_train = sc.fit_transform(X_train)\n",
    "Z_test = sc.transform(X_test)"
   ]
  },
  {
   "cell_type": "code",
   "execution_count": 482,
   "metadata": {},
   "outputs": [],
   "source": [
    "from sklearn.linear_model import RidgeCV"
   ]
  },
  {
   "cell_type": "code",
   "execution_count": 483,
   "metadata": {},
   "outputs": [],
   "source": [
    "r_alphas = np.logspace(0, 5, 100)\n",
    "# Generates 100 values equally between 0 and 5,\n",
    "# then converts them to alphas between 10^0 and 10^5.\n",
    "\n",
    "# Cross-validate over our list of ridge alphas.\n",
    "ridge_model = RidgeCV(alphas=r_alphas, scoring='r2', cv=5)\n",
    "\n",
    "# Fit model using best ridge alpha!\n",
    "ridge_model = ridge_model.fit(Z_train, y_train)"
   ]
  },
  {
   "cell_type": "code",
   "execution_count": 484,
   "metadata": {},
   "outputs": [
    {
     "data": {
      "text/plain": [
       "376.49358067924675"
      ]
     },
     "execution_count": 484,
     "metadata": {},
     "output_type": "execute_result"
    }
   ],
   "source": [
    "ridge_model.alpha_"
   ]
  },
  {
   "cell_type": "code",
   "execution_count": 485,
   "metadata": {},
   "outputs": [
    {
     "name": "stdout",
     "output_type": "stream",
     "text": [
      "Train Set R^2 Score is: 0.9197412739792304\n",
      "Testing Set R^2 Score is: 0.8842197768707809\n"
     ]
    }
   ],
   "source": [
    "print(\"Train Set R^2 Score is:\", ridge_model.score(Z_train, y_train))\n",
    "print(\"Testing Set R^2 Score is:\", ridge_model.score(Z_test, y_test))"
   ]
  },
  {
   "cell_type": "markdown",
   "metadata": {},
   "source": [
    "Seems like the Ridge model overfit the data, training score is greater than testing score. This model sets to \n",
    "zero out coeficients so we can update model without 0 coeficients. Due to time constraints we will do that if model 2 does not suffice for client"
   ]
  },
  {
   "cell_type": "code",
   "execution_count": 486,
   "metadata": {},
   "outputs": [
    {
     "data": {
      "text/plain": [
       "array([ 7.27199266e-04,  1.20713307e-02, -2.44146566e-03,  0.00000000e+00,\n",
       "       -3.48628844e-03,  4.92036543e-02,  3.16586512e-02,  2.13129811e-02,\n",
       "        1.57805918e-02,  7.52516468e-03,  1.70603978e-02,  4.66108277e-03,\n",
       "        1.75112991e-02,  2.63756959e-03,  1.67736691e-02,  1.50829337e-02,\n",
       "        1.13926574e-02, -1.96060579e-03,  4.49304537e-03,  2.12881658e-03,\n",
       "        1.31157900e-02,  1.85585982e-03,  9.15060565e-04,  5.31987893e-03,\n",
       "       -5.62745976e-03,  1.98809863e-02,  1.61632654e-02,  1.18280125e-02,\n",
       "        1.07080731e-02,  1.39584875e-02, -6.93782012e-03,  5.74287594e-03,\n",
       "        1.33586575e-02,  6.97043568e-03,  6.94029647e-03,  8.28370001e-03,\n",
       "        1.32404113e-02,  9.87403761e-03,  2.30727549e-03, -1.16204186e-02,\n",
       "       -5.22521467e-05, -2.80587576e-02,  1.07671286e-03, -4.56761060e-03,\n",
       "       -4.40620163e-03, -9.90329055e-03, -2.07155153e-03, -9.05294018e-04,\n",
       "        1.24140795e-02, -1.36557848e-02, -2.13056410e-03,  3.25616856e-03,\n",
       "        3.29427200e-03,  3.75310947e-04,  5.88826940e-03,  2.82013483e-03,\n",
       "       -1.88858692e-03,  1.55073651e-03, -4.02272463e-03, -1.25852477e-02,\n",
       "        5.98280659e-03,  0.00000000e+00,  4.03062180e-03,  6.03665548e-03,\n",
       "       -7.86961325e-03,  3.16082611e-03,  8.36293208e-03,  3.86964163e-03,\n",
       "        5.24100870e-03,  6.19165233e-03, -8.83162858e-04, -2.37795689e-03,\n",
       "        6.62660019e-04, -5.36174769e-04, -1.56514667e-03,  7.92704203e-04,\n",
       "        2.84553557e-03, -2.22508367e-03,  1.16651013e-02, -1.58366344e-02,\n",
       "       -1.47243267e-03,  2.92462812e-03,  1.69477757e-02, -3.93389349e-03,\n",
       "       -4.66169237e-04, -1.25060035e-02,  6.93966645e-04, -7.44724562e-03,\n",
       "        9.65524068e-04, -2.15329826e-03,  1.20079750e-02,  2.26460567e-02,\n",
       "       -1.21509148e-02, -6.10588506e-04, -4.82860397e-03, -1.68712268e-03,\n",
       "        1.31970147e-02,  1.59539843e-02,  2.08605394e-03,  5.06679803e-03,\n",
       "        1.27075074e-03,  9.69308725e-03,  6.40483824e-03,  5.15054776e-03,\n",
       "       -5.62477233e-03, -2.60724012e-03,  2.90319423e-03,  3.40966546e-04,\n",
       "        6.93057004e-04,  1.73411523e-03,  2.61277387e-03,  2.14113290e-03,\n",
       "        3.28787608e-03, -1.18646309e-04,  2.22184359e-04,  3.01260515e-04,\n",
       "       -4.02272463e-03, -1.21793220e-02, -9.37157171e-03, -2.44436833e-03,\n",
       "        7.23118414e-04, -3.12782623e-03,  5.37305406e-03, -3.39888485e-03,\n",
       "        1.80058440e-03,  7.98148854e-04, -2.91079819e-03, -2.80164816e-03,\n",
       "        3.73767270e-03, -1.11557721e-02,  4.07866154e-03,  1.47313600e-02,\n",
       "        5.81494797e-03,  1.14041346e-02,  1.29506938e-03,  6.71522972e-03,\n",
       "       -1.85419800e-03, -1.03627487e-02,  1.71315306e-02, -3.52898820e-04,\n",
       "        4.06883634e-03,  2.22932093e-04,  7.54008489e-04,  2.61379722e-03,\n",
       "        2.45286236e-03,  2.99725883e-03, -2.84749401e-03,  2.96119171e-03,\n",
       "       -4.73602655e-03,  2.56062896e-03,  4.31806719e-03,  4.10487817e-04,\n",
       "       -1.99762291e-03, -2.46200032e-03,  2.71859216e-03, -4.02180868e-04,\n",
       "       -5.45049813e-04,  4.37754415e-03,  1.59048553e-03, -2.76592202e-03,\n",
       "       -2.23104610e-03,  4.46066348e-03,  4.77513621e-03, -2.23932873e-03,\n",
       "        3.84100335e-03,  1.19916192e-03, -1.09876113e-03,  3.59028481e-03,\n",
       "       -2.51964351e-03,  7.76956213e-03,  5.66634533e-03,  1.70310082e-03,\n",
       "        2.19375782e-03,  3.15219141e-03, -1.28039151e-02, -2.46711587e-03,\n",
       "        9.54670202e-04,  1.36256699e-02,  7.05137598e-03, -2.80393947e-04,\n",
       "        2.50014128e-03, -5.72071426e-03, -6.81081001e-03,  6.83470968e-03,\n",
       "       -1.47069319e-03,  7.98554754e-03,  2.23940786e-03, -2.68908583e-04,\n",
       "       -1.45546273e-03,  8.64157634e-03,  4.98661093e-03,  1.46222810e-03,\n",
       "        1.03981407e-03,  3.43115438e-03,  6.75679083e-03,  1.10363336e-03,\n",
       "        7.94470431e-03,  3.85699535e-03,  0.00000000e+00,  5.81453121e-02,\n",
       "        1.27351869e-02,  3.30787795e-02,  2.66322463e-02,  1.94304793e-02,\n",
       "       -5.18722212e-03, -1.61587473e-03,  0.00000000e+00,  0.00000000e+00,\n",
       "        0.00000000e+00,  0.00000000e+00,  0.00000000e+00,  0.00000000e+00,\n",
       "        0.00000000e+00,  0.00000000e+00])"
      ]
     },
     "execution_count": 486,
     "metadata": {},
     "output_type": "execute_result"
    }
   ],
   "source": [
    "ridge_model.coef_"
   ]
  },
  {
   "cell_type": "code",
   "execution_count": 487,
   "metadata": {},
   "outputs": [
    {
     "data": {
      "text/plain": [
       "[(-0.02805875756830594, 'Misc Val'),\n",
       " (-0.015836634359415888, 'Neighborhood_Edwards'),\n",
       " (-0.01365578481519705, 'MS SubClass_30'),\n",
       " (-0.012803915081335037, 'Heating_Grav'),\n",
       " (-0.012585247664112061, 'MS Zoning_C (all)'),\n",
       " (-0.012506003512368817, 'Neighborhood_MeadowV'),\n",
       " (-0.0121793220078094, 'Bldg Type_Twnhs'),\n",
       " (-0.012150914759737383, 'Neighborhood_OldTown'),\n",
       " (-0.011620418606282623, 'Pool QC'),\n",
       " (-0.01115577211234216, 'Roof Style_Mansard'),\n",
       " (-0.010362748743233775, 'Exterior 1st_BrkComm'),\n",
       " (-0.009903290554071997, 'MS SubClass_160'),\n",
       " (-0.009371571705786712, 'Bldg Type_TwnhsE'),\n",
       " (-0.00786961324723592, 'MS Zoning_RM'),\n",
       " (-0.007447245616050107, 'Neighborhood_NAmes'),\n",
       " (-0.006937820121868963, 'Garage Yr Blt'),\n",
       " (-0.006810810010868142, 'Garage Type_Detchd'),\n",
       " (-0.0057207142635334555, 'Garage Type_CarPort'),\n",
       " (-0.005627459759378086, 'Kitchen AbvGr'),\n",
       " (-0.005624772328151138, 'Condition 1_RRAe'),\n",
       " (-0.005187222116244021, 'average room size'),\n",
       " (-0.004828603967538675, 'Neighborhood_Sawyer'),\n",
       " (-0.004736026552239574, 'Exterior 1st_Wd Sdng'),\n",
       " (-0.004567610602744357, 'Yr Sold'),\n",
       " (-0.004406201629543152, 'MS SubClass_150'),\n",
       " (-0.004022724630678699, 'MS SubClass_90'),\n",
       " (-0.004022724630678695, 'Bldg Type_Duplex'),\n",
       " (-0.003933893490100918, 'Neighborhood_IDOTRR'),\n",
       " (-0.0034862884362610877, 'Land Slope'),\n",
       " (-0.003398884851804049, 'House Style_2Story'),\n",
       " (-0.003127826231784808, 'House Style_2.5Fin'),\n",
       " (-0.002910798194538678, 'Roof Style_Gable'),\n",
       " (-0.002847494013089295, 'Exterior 1st_Stucco'),\n",
       " (-0.002801648164066167, 'Roof Style_Gambrel'),\n",
       " (-0.0027659220211064804, 'Exterior 2nd_Stone'),\n",
       " (-0.002607240122566785, 'Condition 1_RRAn'),\n",
       " (-0.0025196435083464893, 'Foundation_CBlock'),\n",
       " (-0.002467115870945521, 'Heating_OthW'),\n",
       " (-0.0024620003191557177, 'Exterior 2nd_CBlock'),\n",
       " (-0.0024443683283612845, 'House Style_1.5Unf'),\n",
       " (-0.0024414656642914485, 'Lot Shape'),\n",
       " (-0.0023779568923309713, 'Lot Config_FR3'),\n",
       " (-0.0022393287322756117, 'Exterior 2nd_Wd Shng'),\n",
       " (-0.0022310461007060928, 'Exterior 2nd_Stucco'),\n",
       " (-0.0022250836733340726, 'Neighborhood_CollgCr'),\n",
       " (-0.0021532982556894983, 'Neighborhood_NWAmes'),\n",
       " (-0.002130564104989075, 'MS SubClass_40'),\n",
       " (-0.0020715515268680666, 'MS SubClass_180'),\n",
       " (-0.0019976229147970178, 'Exterior 2nd_BrkFace'),\n",
       " (-0.001960605788748478, 'BsmtFin Type 2'),\n",
       " (-0.0018885869243220423, 'MS SubClass_80'),\n",
       " (-0.001854198002610124, 'Exterior 1st_AsphShn'),\n",
       " (-0.0016871226832388649, 'Neighborhood_SawyerW'),\n",
       " (-0.001615874728079657, 'Ability to Build Landscape'),\n",
       " (-0.0015651466720964468, 'Neighborhood_BrDale'),\n",
       " (-0.0014724326714358749, 'Neighborhood_Gilbert'),\n",
       " (-0.00147069319374231, 'Sale Type_CWD'),\n",
       " (-0.001455462734949713, 'Sale Type_ConLw'),\n",
       " (-0.0010987611303996273, 'Mas Vnr Type_None'),\n",
       " (-0.0009052940184533308, 'MS SubClass_190'),\n",
       " (-0.0008831628580859089, 'Lot Config_FR2'),\n",
       " (-0.0006105885059128683, 'Neighborhood_SWISU'),\n",
       " (-0.000545049812557228, 'Exterior 2nd_ImStucc'),\n",
       " (-0.0005361747694654002, 'Neighborhood_Blueste'),\n",
       " (-0.00046616923692922624, 'Neighborhood_Landmrk'),\n",
       " (-0.0004021808684624005, 'Exterior 2nd_HdBoard'),\n",
       " (-0.0003528988200583422, 'Exterior 1st_CBlock'),\n",
       " (-0.0002803939473505608, 'Garage Type_Basment'),\n",
       " (-0.000268908583186993, 'Sale Type_ConLI'),\n",
       " (-0.00011864630907444223, 'Condition 2_RRAn'),\n",
       " (-5.225214672281777e-05, 'Fence'),\n",
       " (0.000222184358955982, 'Condition 2_RRNn'),\n",
       " (0.00022293209300194793, 'Exterior 1st_HdBoard'),\n",
       " (0.00030126051460161027, 'Bldg Type_2fmCon'),\n",
       " (0.0003409665459881675, 'Condition 1_RRNn'),\n",
       " (0.0003753109469228286, 'MS SubClass_60'),\n",
       " (0.00041048781654952116, 'Exterior 2nd_Brk Cmn'),\n",
       " (0.0006626600189712565, 'Lot Config_Inside'),\n",
       " (0.000693057004000439, 'Condition 2_Feedr'),\n",
       " (0.0006939666452849502, 'Neighborhood_Mitchel'),\n",
       " (0.0007231184136465182, 'House Style_1Story'),\n",
       " (0.0007271992660550908, 'Lot Frontage'),\n",
       " (0.0007540084892763224, 'Exterior 1st_ImStucc'),\n",
       " (0.0007927042034179552, 'Neighborhood_BrkSide'),\n",
       " (0.0007981488540287402, 'House Style_SLvl'),\n",
       " (0.0009150605648763625, 'Low Qual Fin SF'),\n",
       " (0.000954670201750463, 'Heating_Wall'),\n",
       " (0.0009655240679964323, 'Neighborhood_NPkVill'),\n",
       " (0.001039814071290525, 'Alley_NA'),\n",
       " (0.0010767128647562072, 'Mo Sold'),\n",
       " (0.0011036333618444985, 'Misc Feature_NA'),\n",
       " (0.001199161916171706, 'Mas Vnr Type_NA'),\n",
       " (0.0012707507368510584, 'Condition 1_Feedr'),\n",
       " (0.0012950693753726857, 'Roof Matl_WdShake'),\n",
       " (0.001462228095501287, 'Sale Type_WD '),\n",
       " (0.0015507365133194241, 'MS SubClass_85'),\n",
       " (0.001590485531586837, 'Exterior 2nd_Plywood'),\n",
       " (0.001703100820817791, 'Foundation_Stone'),\n",
       " (0.0017341152318387629, 'Condition 2_Norm'),\n",
       " (0.0018005843986324546, 'House Style_SFoyer'),\n",
       " (0.0018558598208369217, 'Electrical'),\n",
       " (0.002086053938165335, 'Neighborhood_Timber'),\n",
       " (0.0021288165813992356, 'Bsmt Unf SF'),\n",
       " (0.0021411329010342472, 'Condition 2_PosN'),\n",
       " (0.002193757815105684, 'Foundation_Wood'),\n",
       " (0.002239407862048597, 'Sale Type_ConLD'),\n",
       " (0.002307275492528165, 'Pool Area'),\n",
       " (0.0024528623561783304, 'Exterior 1st_Plywood'),\n",
       " (0.002500141276803761, 'Garage Type_BuiltIn'),\n",
       " (0.0025606289574205167, 'Exterior 1st_WdShing'),\n",
       " (0.0026127738749652384, 'Condition 2_PosA'),\n",
       " (0.0026137972231857374, 'Exterior 1st_MetalSd'),\n",
       " (0.0026375695893993563, 'Bsmt Cond'),\n",
       " (0.002718592163588428, 'Exterior 2nd_CmentBd'),\n",
       " (0.002820134826907206, 'MS SubClass_75'),\n",
       " (0.002845535573614614, 'Neighborhood_ClearCr'),\n",
       " (0.0029031942251967475, 'Condition 1_RRNe'),\n",
       " (0.0029246281159355904, 'Neighborhood_Greens'),\n",
       " (0.002961191708953643, 'Exterior 1st_VinylSd'),\n",
       " (0.0029972588298163524, 'Exterior 1st_Stone'),\n",
       " (0.003152191409452389, 'Heating_GasW'),\n",
       " (0.0031608261076308593, 'Street_Pave'),\n",
       " (0.003256168558466918, 'MS SubClass_45'),\n",
       " (0.0032878760822115626, 'Condition 2_RRAe'),\n",
       " (0.003294272003227937, 'MS SubClass_50'),\n",
       " (0.0034311543772895924, 'Alley_Pave'),\n",
       " (0.0035902848145887, 'Mas Vnr Type_Stone'),\n",
       " (0.0037376727048099496, 'Roof Style_Hip'),\n",
       " (0.003841003348047703, 'Mas Vnr Type_BrkFace'),\n",
       " (0.003856995347384459, 'Misc Feature_Shed'),\n",
       " (0.003869641625631109, 'Land Contour_Low'),\n",
       " (0.00403062180262488, 'MS Zoning_RH'),\n",
       " (0.004068836340387137, 'Exterior 1st_CemntBd'),\n",
       " (0.004078661537310683, 'Roof Style_Shed'),\n",
       " (0.004318067191884843, 'Exterior 2nd_AsphShn'),\n",
       " (0.004377544154354477, 'Exterior 2nd_MetalSd'),\n",
       " (0.004460663480596829, 'Exterior 2nd_VinylSd'),\n",
       " (0.00449304536754615, 'BsmtFin SF 2'),\n",
       " (0.004661082770389964, 'Exter Cond'),\n",
       " (0.004775136206645987, 'Exterior 2nd_Wd Sdng'),\n",
       " (0.004986610934578507, 'Sale Type_Oth'),\n",
       " (0.005066798032342689, 'Neighborhood_Veenker'),\n",
       " (0.005150547759364151, 'Condition 1_PosN'),\n",
       " (0.005241008700415509, 'Land Contour_Lvl'),\n",
       " (0.005319878929782671, 'Bedroom AbvGr'),\n",
       " (0.005373054056349523, 'House Style_2.5Unf'),\n",
       " (0.005666345328308446, 'Foundation_Slab'),\n",
       " (0.005742875944434934, 'Garage Finish'),\n",
       " (0.005814947967601246, 'Roof Matl_Membran'),\n",
       " (0.0058882693986038615, 'MS SubClass_70'),\n",
       " (0.005982806590448369, 'MS Zoning_FV'),\n",
       " (0.006036655475787048, 'MS Zoning_RL'),\n",
       " (0.006191652332180955, 'Lot Config_CulDSac'),\n",
       " (0.006404838244452196, 'Condition 1_PosA'),\n",
       " (0.0067152297247602, 'Roof Matl_WdShngl'),\n",
       " (0.006756790827730073, 'Misc Feature_Gar2'),\n",
       " (0.006834709681215848, 'Garage Type_NA'),\n",
       " (0.006940296474419153, 'Garage Qual'),\n",
       " (0.006970435680940657, 'Garage Area'),\n",
       " (0.0070513759841073055, 'Garage Type_Attchd'),\n",
       " (0.007525164677582615, 'Mas Vnr Area'),\n",
       " (0.007769562125900137, 'Foundation_PConc'),\n",
       " (0.00794470431028798, 'Misc Feature_Othr'),\n",
       " (0.007985547539754011, 'Sale Type_Con'),\n",
       " (0.00828370001293, 'Garage Cond'),\n",
       " (0.008362932077384077, 'Land Contour_HLS'),\n",
       " (0.008641576337605148, 'Sale Type_New'),\n",
       " (0.009693087254466815, 'Condition 1_Norm'),\n",
       " (0.009874037611331448, 'Wood Deck SF'),\n",
       " (0.010708073091532164, 'Fireplaces'),\n",
       " (0.011392657410688276, 'BsmtFin SF 1'),\n",
       " (0.01140413457206052, 'Roof Matl_Tar&Grv'),\n",
       " (0.011665101312608934, 'Neighborhood_Crawfor'),\n",
       " (0.01182801251535202, 'Functional'),\n",
       " (0.01200797501602848, 'Neighborhood_NoRidge'),\n",
       " (0.012071330652645563, 'Lot Area'),\n",
       " (0.012414079534327053, 'MS SubClass_20'),\n",
       " (0.01273518685956789, 'SqftPorch'),\n",
       " (0.013115789958511766, 'Heating QC'),\n",
       " (0.013197014718728455, 'Neighborhood_Somerst'),\n",
       " (0.013240411315888349, 'Paved Drive'),\n",
       " (0.013358657470032273, 'Garage Cars'),\n",
       " (0.013625669852512191, 'Central Air_Y'),\n",
       " (0.013958487531391898, 'Fireplace Qu'),\n",
       " (0.014731360016091528, 'Roof Matl_CompShg'),\n",
       " (0.015082933716003765, 'BsmtFin Type 1'),\n",
       " (0.01578059175164178, 'Year Remod/Add'),\n",
       " (0.01595398426197941, 'Neighborhood_StoneBr'),\n",
       " (0.01616326536153076, 'TotRms AbvGrd'),\n",
       " (0.016773669092800866, 'Bsmt Exposure'),\n",
       " (0.016947775674866803, 'Neighborhood_GrnHill'),\n",
       " (0.01706039778282747, 'Exter Qual'),\n",
       " (0.01713153062387729, 'Exterior 1st_BrkFace'),\n",
       " (0.017511299122308657, 'Bsmt Qual'),\n",
       " (0.01943047933479196, 'Garage Interaction'),\n",
       " (0.019880986269618355, 'Kitchen Qual'),\n",
       " (0.021312981096973434, 'Year Built'),\n",
       " (0.022646056676041137, 'Neighborhood_NridgHt'),\n",
       " (0.02663224632501586, 'totalbathroom'),\n",
       " (0.031658651248778424, 'Overall Cond'),\n",
       " (0.03307877953235076, 'TotalSqFt'),\n",
       " (0.049203654275686334, 'Overall Qual'),\n",
       " (0.05814531209614918, 'GRlivingArealog')]"
      ]
     },
     "execution_count": 487,
     "metadata": {},
     "output_type": "execute_result"
    }
   ],
   "source": [
    "best_features = [tup for tup in list(zip(ridge_model.coef_,X_test.columns)) if tup[0] != 0]\n",
    "best_features.sort(reverse=False) #descending order\n",
    "best_features"
   ]
  },
  {
   "cell_type": "code",
   "execution_count": 488,
   "metadata": {},
   "outputs": [],
   "source": [
    "preds_ridge = np.exp(ridge_model.predict(Z_test))\n",
    "##stores residuals model 3\n",
    "resids_ridge = np.exp(y_test) - preds_ridge"
   ]
  },
  {
   "cell_type": "code",
   "execution_count": 489,
   "metadata": {
    "scrolled": true
   },
   "outputs": [
    {
     "data": {
      "text/plain": [
       "Text(0.5, 1.0, 'Model 3 Resiudals by Sale Price')"
      ]
     },
     "execution_count": 489,
     "metadata": {},
     "output_type": "execute_result"
    },
    {
     "data": {
      "image/png": "[encoded data removed]",
      "text/plain": [
       "<Figure size 432x288 with 1 Axes>"
      ]
     },
     "metadata": {
      "needs_background": "light"
     },
     "output_type": "display_data"
    }
   ],
   "source": [
    "plt.scatter(range(len(resids_ridge)), resids_ridge)\n",
    "plt.axhline(0,color = 'red')\n",
    "plt.xlabel(\"Index of Residuals\", fontsize = 20)\n",
    "plt.ylabel(\"Residuals($): $y$\", fontsize = 20)\n",
    "plt.title('Model 3 Resiudals by Sale Price', fontsize = 24)"
   ]
  },
  {
   "cell_type": "markdown",
   "metadata": {},
   "source": [
    "The ridge model does not well at predicting high sales prices. High variation at higer prices. Ridge should be used with a high variance linear regression model.Ridge model does not 0 out coeficients so it might not be useful to use this model if we want to improve our feature selection"
   ]
  },
  {
   "cell_type": "markdown",
   "metadata": {},
   "source": [
    "### Model 4 Lasso Regression"
   ]
  },
  {
   "cell_type": "markdown",
   "metadata": {},
   "source": [
    "Same as before, I chose to keep all fetures similar to model 2 and 3. Lasso regression uses penalty term to 0 \n",
    "out coefficients. This can help us remove those features. Due to time constraints, we will remove coeficients based on additional client request"
   ]
  },
  {
   "cell_type": "code",
   "execution_count": 490,
   "metadata": {},
   "outputs": [],
   "source": [
    "from sklearn.linear_model import LassoCV"
   ]
  },
  {
   "cell_type": "code",
   "execution_count": 491,
   "metadata": {},
   "outputs": [],
   "source": [
    "l_alphas = np.logspace(-3, 0, 100)\n",
    "\n",
    "# Cross-validate over our list of Lasso alphas.\n",
    "lasso_model = LassoCV(alphas=l_alphas, cv=5, max_iter=5000)\n",
    "\n",
    "# Fit model using best ridge alpha!\n",
    "lasso_model = lasso_model.fit(Z_train, y_train)"
   ]
  },
  {
   "cell_type": "code",
   "execution_count": 492,
   "metadata": {},
   "outputs": [
    {
     "data": {
      "text/plain": [
       "0.004037017258596553"
      ]
     },
     "execution_count": 492,
     "metadata": {},
     "output_type": "execute_result"
    }
   ],
   "source": [
    "lasso_model.alpha_"
   ]
  },
  {
   "cell_type": "code",
   "execution_count": 493,
   "metadata": {},
   "outputs": [
    {
     "name": "stdout",
     "output_type": "stream",
     "text": [
      "0.9199495889052195\n",
      "0.8888985262126209\n"
     ]
    }
   ],
   "source": [
    "print(lasso_model.score(Z_train, y_train))\n",
    "print(lasso_model.score(Z_test, y_test))"
   ]
  },
  {
   "cell_type": "code",
   "execution_count": 494,
   "metadata": {},
   "outputs": [
    {
     "data": {
      "text/plain": [
       "[(-0.025890303521369833, 'Misc Val'),\n",
       " (-0.015941997484475435, 'MS SubClass_160'),\n",
       " (-0.012320502401639262, 'Heating_Grav'),\n",
       " (-0.012108361577625189, 'Neighborhood_Edwards'),\n",
       " (-0.01113319002492214, 'MS Zoning_C (all)'),\n",
       " (-0.010945967283168191, 'MS Zoning_RM'),\n",
       " (-0.009763330204033102, 'Exterior 1st_BrkComm'),\n",
       " (-0.009134719864263669, 'Bldg Type_Twnhs'),\n",
       " (-0.00896157194621144, 'Roof Style_Mansard'),\n",
       " (-0.008470989840854249, 'Neighborhood_OldTown'),\n",
       " (-0.00783279236540063, 'Pool QC'),\n",
       " (-0.007445109054364804, 'Kitchen AbvGr'),\n",
       " (-0.006208696868930098, 'Neighborhood_MeadowV'),\n",
       " (-0.004298926055324609, 'House Style_2Story'),\n",
       " (-0.0025198893125302755, 'Garage Type_CarPort'),\n",
       " (-0.002343255136996191, 'Exterior 1st_Stucco'),\n",
       " (-0.002107409745039929, 'Condition 1_RRAe'),\n",
       " (-0.002028335264145877, 'MS SubClass_150'),\n",
       " (-0.0017531793780764377, 'Land Slope'),\n",
       " (-0.001381626926446386, 'Yr Sold'),\n",
       " (-0.0006920536846413326, 'Neighborhood_SawyerW'),\n",
       " (-0.0005401426612529512, 'House Style_2.5Fin'),\n",
       " (-0.00018734119844457676, 'Bldg Type_Duplex'),\n",
       " (-0.00010160820239053915, 'MS SubClass_90'),\n",
       " (-9.9121305105127e-05, 'Heating_OthW'),\n",
       " (-8.650347556053337e-05, 'Lot Config_FR3'),\n",
       " (8.475432450036981e-05, 'MS SubClass_45'),\n",
       " (0.0003459909981514229, 'Condition 2_RRAe'),\n",
       " (0.0007142166076853178, 'Roof Style_Shed'),\n",
       " (0.0007474521692360839, 'Neighborhood_ClearCr'),\n",
       " (0.0009448500304613299, 'Roof Matl_Membran'),\n",
       " (0.0010682592025517594, 'Exter Cond'),\n",
       " (0.0012090329625083238, 'Condition 1_PosA'),\n",
       " (0.0013506345668974518, 'Land Contour_Low'),\n",
       " (0.001675867231381107, 'Roof Style_Hip'),\n",
       " (0.0020208670381758284, 'Lot Config_CulDSac'),\n",
       " (0.0020764835989633404, 'Mas Vnr Area'),\n",
       " (0.0023529087496175307, 'Sale Type_Oth'),\n",
       " (0.002526128678498166, 'Garage Type_Attchd'),\n",
       " (0.002843830119829615, 'Roof Matl_CompShg'),\n",
       " (0.0028927294713397738, 'Land Contour_HLS'),\n",
       " (0.0030678094087979, 'Condition 1_PosN'),\n",
       " (0.003614468714568946, 'MS SubClass_85'),\n",
       " (0.0043865055904246265, 'Sale Type_Con'),\n",
       " (0.004937192343096924, 'Misc Feature_Othr'),\n",
       " (0.005585148771686837, 'Sale Type_New'),\n",
       " (0.006161722827538609, 'Year Remod/Add'),\n",
       " (0.006289413266094615, 'Fireplaces'),\n",
       " (0.006524073033073804, 'Misc Feature_Gar2'),\n",
       " (0.007465311452386247, 'Paved Drive'),\n",
       " (0.007639289247492567, 'Central Air_Y'),\n",
       " (0.00837482789209452, 'Fireplace Qu'),\n",
       " (0.008642522787500209, 'Neighborhood_NoRidge'),\n",
       " (0.008928584985746404, 'Condition 1_Norm'),\n",
       " (0.009156317599781486, 'Wood Deck SF'),\n",
       " (0.009320458167619823, 'SqftPorch'),\n",
       " (0.010382863837146417, 'BsmtFin SF 1'),\n",
       " (0.01163632892621018, 'Neighborhood_Crawfor'),\n",
       " (0.011862195220889145, 'Heating QC'),\n",
       " (0.012167289001860173, 'Functional'),\n",
       " (0.01351219320763448, 'Neighborhood_Somerst'),\n",
       " (0.013674075089436633, 'Exter Qual'),\n",
       " (0.01379078501420956, 'Neighborhood_StoneBr'),\n",
       " (0.013856830806667235, 'Lot Area'),\n",
       " (0.014737109508867271, 'Neighborhood_GrnHill'),\n",
       " (0.015233875416121147, 'Kitchen Qual'),\n",
       " (0.015294396335450872, 'Exterior 1st_BrkFace'),\n",
       " (0.01750537050759158, 'BsmtFin Type 1'),\n",
       " (0.018808346425126816, 'Bsmt Qual'),\n",
       " (0.020741369320930996, 'Bsmt Exposure'),\n",
       " (0.022060857425600395, 'totalbathroom'),\n",
       " (0.023979675016229426, 'Neighborhood_NridgHt'),\n",
       " (0.033332312838093826, 'MS SubClass_20'),\n",
       " (0.03554594244659093, 'Garage Interaction'),\n",
       " (0.044682729676033206, 'Overall Cond'),\n",
       " (0.04931978568621792, 'Year Built'),\n",
       " (0.07878401647255516, 'Overall Qual'),\n",
       " (0.1440334291980752, 'GRlivingArealog')]"
      ]
     },
     "execution_count": 494,
     "metadata": {},
     "output_type": "execute_result"
    }
   ],
   "source": [
    "best_features_lasso = [tup for tup in list(zip(lasso_model.coef_,X_test.columns)) if tup[0] != 0]\n",
    "best_features_lasso.sort(reverse=False) #descending order\n",
    "best_features_lasso"
   ]
  },
  {
   "cell_type": "code",
   "execution_count": 495,
   "metadata": {},
   "outputs": [],
   "source": [
    "preds_lasso = np.exp(lasso_model.predict(Z_test))\n",
    "##stores residuals model 4\n",
    "resids_lasso = np.exp(y_test) - preds_ridge"
   ]
  },
  {
   "cell_type": "code",
   "execution_count": 496,
   "metadata": {},
   "outputs": [
    {
     "data": {
      "text/plain": [
       "Text(0.5, 1.0, 'Model 4 Resiudals by Sale Price')"
      ]
     },
     "execution_count": 496,
     "metadata": {},
     "output_type": "execute_result"
    },
    {
     "data": {
      "image/png": "[encoded data removed]",
      "text/plain": [
       "<Figure size 432x288 with 1 Axes>"
      ]
     },
     "metadata": {
      "needs_background": "light"
     },
     "output_type": "display_data"
    }
   ],
   "source": [
    "plt.scatter(range(len(resids_lasso)), resids_lasso)\n",
    "plt.axhline(0,color = 'red')\n",
    "plt.xlabel(\"Index of Residuals\", fontsize = 20)\n",
    "plt.ylabel(\"Residuals($): $Sale Price$\", fontsize = 20)\n",
    "plt.title('Model 4 Resiudals by Sale Price', fontsize = 24)"
   ]
  },
  {
   "cell_type": "markdown",
   "metadata": {},
   "source": [
    "Lasso model does worse as well predicting high sales prices. Lasso zeroes out coeficients and can be used to select optimal variables. Unlike ridge, lasso actually 0's out coeficients and shrinks parameters"
   ]
  },
  {
   "cell_type": "markdown",
   "metadata": {},
   "source": [
    "## Model Selection\n",
    "\n",
    "|Model|Type|Train R2|Testing R2|\n",
    "|---|---|---|---|\n",
    "|**Model 1**|*Linear*|.84|.84| \n",
    "|**Model 2**|*Linear*|.93|.94|\n",
    "|**Model 3**|*Ridge*|.91|.88|\n",
    "|**Model 4**|*Lasso*|.91|.88|\n",
    "\n",
    "\n",
    "\n",
    "\n",
    "Based on R2 scores listed above,  and residual plots, I have decided to choose model 2 to deliver to our clients in predicting sales prices, and capital gains at year end. This model will be best suited for our clients to prepare for year end tax planning in the aftermath of Tax cut and job act in which Trump issued. Model 2 does the best in predicting high sales prices, and more of the variance in the data can be explained by our model. We want to deliver high level tax solutions to our clients with the least amount of residuals.\n"
   ]
  },
  {
   "cell_type": "markdown",
   "metadata": {},
   "source": [
    "## Conclusions\n",
    "\n",
    "After the implementation of the tax cut and jobs act, our tax consulting firm was hired to find the most optimal model in predicting sale price. Sale price is a great predictior that can help our clients compute capital gains in order for tax planning purposes in the 2020 year. Based on my teams findings, we are offering our client a linear regression model, where 94% of the variance in the data can be explained by the model. Due to time contraints, we were not able to implement a function that allows us to test different features to find the most optimal model. Using all the features in the data, allowed us for more customization in our model and better serve our client. "
   ]
  },
  {
   "cell_type": "markdown",
   "metadata": {},
   "source": [
    "## Recommendations\n",
    "\n",
    "- Gather city infromation and test opportunity zones\n",
    "\n",
    "- Feature Engineering can enhance model and be better predictors\n",
    "\n",
    "- Deploy addition models such as Random Forrest, Neural Networks\n",
    "\n",
    "- Gather more data from client to compute actual tax savings\n",
    "\n",
    "- Carefully selct features based on coeficients and p values\n",
    "\n"
   ]
  },
  {
   "cell_type": "markdown",
   "metadata": {},
   "source": [
    "## Resources"
   ]
  },
  {
   "cell_type": "markdown",
   "metadata": {},
   "source": [
    "https://www.washingtonpost.com/news/where-we-live/wp/2015/04/01/how-much-value-does-landscaping-add-to-your-home-when-selling/\n",
    "\n",
    "https://www.irs.gov/www.irs.gov › newsroom › opportunity-zones-frequently-asked-quest...\n",
    "Opportunity Zones Frequently Asked Questions | Internal ...\n",
    "    \n",
    "    "
   ]
  }
 ],
 "metadata": {
  "kernelspec": {
   "display_name": "Python 3",
   "language": "python",
   "name": "python3"
  },
  "language_info": {
   "codemirror_mode": {
    "name": "ipython",
    "version": 3
   },
   "file_extension": ".py",
   "mimetype": "text/x-python",
   "name": "python",
   "nbconvert_exporter": "python",
   "pygments_lexer": "ipython3",
   "version": "3.7.4"
  }
 },
 "nbformat": 4,
 "nbformat_minor": 2
}
